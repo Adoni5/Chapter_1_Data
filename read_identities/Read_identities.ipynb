{
 "cells": [
  {
   "cell_type": "markdown",
   "id": "b8722eb3-0a2b-4fd0-a5dc-fce640a041fc",
   "metadata": {},
   "source": [
    "## Read Identities calculated for Simulated DNA R9, R10 and RNA002 data\n",
    "\n",
    "The simulated data was created from a truth dataset, which is included in this directory.\n",
    "\n",
    "We simulate the signal from the truth sequence, which has the actual location of the read from the reference fasta, which is for Hg38 chr 20.\n",
    "\n",
    "We then base call and align the base-called sequence and look for the read identity (Gap-compressed identity) .\n",
    "\n",
    "See http://lh3.github.io/2018/11/25/on-the-definition-of-sequence-identity\n",
    "\n",
    "Relies on an installed and running version of `dorado_basecall_server`, which can be installed with MinKNOW, or standalone from https://community.nanoporetech.com/downloads.\n",
    "\n",
    "The version used for my Thesis was v7.3.9.\n"
   ]
  },
  {
   "cell_type": "code",
   "execution_count": 48,
   "id": "f546c836-9c6c-402b-89eb-484ac4ad57d0",
   "metadata": {},
   "outputs": [],
   "source": [
    "import collections\n",
    "import csv\n",
    "import random\n",
    "import re\n",
    "import time as t\n",
    "from contextlib import contextmanager, redirect_stdout\n",
    "from io import StringIO\n",
    "from itertools import islice\n",
    "from pathlib import Path\n",
    "from random import sample\n",
    "\n",
    "import mappy as mp\n",
    "import matplotlib.pyplot as plt\n",
    "import numpy as np\n",
    "import numpy.typing as npt\n",
    "import seaborn as sns\n",
    "from mappy import fastx_read\n",
    "from matplotlib import font_manager, rcParams\n",
    "from natsort import natsorted\n",
    "from pybasecall_client_lib import helper_functions\n",
    "from pybasecall_client_lib.pyclient import PyBasecallClient\n",
    "from pyfastx import Fasta\n",
    "from python_scripts.make_squiggle import get_sequence, progress_bar_setup"
   ]
  },
  {
   "cell_type": "code",
   "execution_count": 49,
   "id": "ab7cfa01-0120-46bf-9caf-d1a67db68e2d",
   "metadata": {},
   "outputs": [],
   "source": [
    "plt.style.use(\"../dotfiles-rm/thesis/thesis.mplstyle\")\n",
    "font_dir = \"../dotfiles-rm/\"\n",
    "for font in font_manager.findSystemFonts(font_dir):\n",
    "    font_manager.fontManager.addfont(font)\n",
    "sns.set_palette(\"colorblind\")\n",
    "rcParams[\"font.family\"] = \"Roboto\"\n",
    "random.seed(1)"
   ]
  },
  {
   "cell_type": "code",
   "execution_count": 50,
   "id": "456f0113-186d-4c91-ae91-49ef28eb176b",
   "metadata": {},
   "outputs": [],
   "source": [
    "TEST_FASTA = Path(\"raw_data/r10_identity_seqs.fasta\")\n",
    "R9_OUTDIR = Path(\"raw_data/r9_squiggle\")\n",
    "R10_SQUIGGLE_OUTDIR = Path(\"raw_data/r10_squiggle\")\n",
    "RNAR9_SQUIGGLE_OUTDIR = Path(\"raw_data/rna9_squiggle\")\n",
    "RNAR9_KMERS_MODEL = Path(\"kmer_models/5mer_levels_v1.txt\")\n",
    "\n",
    "BIN_PATH = \"/usr/bin/\"\n",
    "RANGE = 1\n",
    "DIGITISATION = 2048\n",
    "R10_KMERS_MODEL = Path(\"kmer_models/R10_model.tsv\")\n",
    "SAMPLES = (9, 10)\n",
    "GUPPY_ADDRESS = \"ipc:///tmp/.guppy/5555\""
   ]
  },
  {
   "cell_type": "markdown",
   "id": "a5ae5861-dcb2-419d-98bc-b36fe4073f5d",
   "metadata": {},
   "source": [
    "### Create the test data\n",
    "Always the same as the random seed is fixed"
   ]
  },
  {
   "cell_type": "code",
   "execution_count": 51,
   "id": "858205ac-e00c-4a37-9e3b-ce25ac09c722",
   "metadata": {},
   "outputs": [],
   "source": [
    "read_length_inc = 50\n",
    "reads = []\n",
    "fa = fastx_read(\n",
    "    \"raw_data/hg38_no_alts.part_NC_000020.11 Homo sapiens chromosome 20, GRCh38.p14 Primary Assembly.fa.gz\"\n",
    ")\n",
    "name, seq, _ = next(fa)\n",
    "\n",
    "read_start = int(len(seq) / 2)\n",
    "for i in range(1, 51):\n",
    "    while True:\n",
    "        read_length = read_length_inc * i\n",
    "        read_start = random.randint(0, (len(seq) - 50 * read_length_inc))\n",
    "        subseq = seq[read_start : read_start + read_length].upper()\n",
    "        if \"N\" not in subseq:\n",
    "            reads.append(\n",
    "                f\">test_read_{i}_{read_start}_{read_start+read_length}\\n{subseq}\"\n",
    "            )\n",
    "            break\n",
    "\n",
    "# Write out the data\n",
    "with open(TEST_FASTA, \"w\") as fh:\n",
    "    fh.write(\"\\n\".join(reads))"
   ]
  },
  {
   "cell_type": "markdown",
   "id": "6e5fe0c7-9702-4eba-8fad-2d6a4502fdef",
   "metadata": {},
   "source": [
    "### Helper functions for basecalling"
   ]
  },
  {
   "cell_type": "code",
   "execution_count": 52,
   "id": "7fb8017c-d471-47c0-b189-d81ce003161d",
   "metadata": {},
   "outputs": [],
   "source": [
    "def pack(read: dict[str, str | npt.NDArray[np.int16]]):\n",
    "    \"\"\"Pack an ont_fast5_api.Fast5Read for calling\n",
    "    passed dict has two fields, read_id and raw_Data\n",
    "    read_id: str, raw_data: npt.NDArray[np.int16]\n",
    "    \"\"\"\n",
    "    read_id = read[\"read_id\"]\n",
    "    raw_data = read[\"raw_data\"]\n",
    "    sample_rate = read.pop(\"sample_rate\", 4000.0)\n",
    "    scaling = RANGE / DIGITISATION\n",
    "    offset = 0.0\n",
    "    return helper_functions.package_read(\n",
    "        read_id,\n",
    "        raw_data,\n",
    "        offset,\n",
    "        scaling,\n",
    "        sampling_rate=sample_rate,\n",
    "        start_time=int(100),\n",
    "    )"
   ]
  },
  {
   "cell_type": "code",
   "execution_count": 53,
   "id": "dccecfa7-061e-4b72-bbf7-c8364fb1c97c",
   "metadata": {},
   "outputs": [],
   "source": [
    "@contextmanager\n",
    "def start_guppy_server_and_client(bin_path, config, port, server_args):\n",
    "    server_args.extend(\n",
    "        [\n",
    "            \"--config\",\n",
    "            config,\n",
    "            \"--port\",\n",
    "            port,\n",
    "            \"--log_path\",\n",
    "            str((Path(\".\") / \"dorado_logs\")),\n",
    "        ]\n",
    "    )\n",
    "    # This function has it's own prints that may want to be suppressed\n",
    "    with redirect_stdout(StringIO()) as fh:\n",
    "        server, port = helper_functions.run_server(server_args, bin_path=bin_path)\n",
    "\n",
    "    if port == \"ERROR\":\n",
    "        raise RuntimeError(\"Server couldn't be started\")\n",
    "\n",
    "    if port.startswith(\"ipc\"):\n",
    "        address = f\"{port}\"\n",
    "    else:\n",
    "        address = f\"localhost:{port}\"\n",
    "    client = PyBasecallClient(address=address, config=config)\n",
    "\n",
    "    try:\n",
    "        with client:\n",
    "            yield client\n",
    "    finally:\n",
    "        server.terminate()"
   ]
  },
  {
   "cell_type": "markdown",
   "id": "7c944a9c-fad1-408e-823c-d38db5a8bb20",
   "metadata": {},
   "source": [
    "### Helper function for Gap Compressed identity"
   ]
  },
  {
   "cell_type": "code",
   "execution_count": 54,
   "id": "26a83a67-a644-43ea-839b-61cf89c3dfcb",
   "metadata": {},
   "outputs": [],
   "source": [
    "def gap_compressed_identity(al) -> float:\n",
    "    nm_match = al.NM\n",
    "    print(f\"nm {nm_match}\")\n",
    "    if nm_match:\n",
    "        # Total mismatches\n",
    "        n = nm_match\n",
    "        line = al.cigar_str\n",
    "        # Initialize variables\n",
    "        m = 0  # Sum of matches (M operations)\n",
    "        g = 0  # Sum of gaps (I and D operations)\n",
    "        o = 0  # Number of gap opens\n",
    "\n",
    "        # Find all M operations and sum them\n",
    "        m_operations = re.findall(r\"(\\d+)M\", line)\n",
    "        m = sum(int(match) for match in m_operations)\n",
    "\n",
    "        # Find all I and D operations and process them\n",
    "        gap_operations = re.findall(r\"(\\d+)[ID]\", line)\n",
    "        for match in gap_operations:\n",
    "            g += int(match)\n",
    "            o += 1\n",
    "\n",
    "        # Calculate identity\n",
    "        identity = (1 - (n - g + o) / (m + o)) if (m + o) != 0 else 0\n",
    "\n",
    "        # Print the result\n",
    "        print(identity)\n",
    "        return identity\n",
    "    elif nm_match == 0:\n",
    "        return 1.0"
   ]
  },
  {
   "cell_type": "markdown",
   "id": "4255f47a-65f5-402b-a87e-dd1739688c74",
   "metadata": {},
   "source": [
    "## R9 data\n",
    "### Create R9 Squiggle"
   ]
  },
  {
   "cell_type": "code",
   "execution_count": 55,
   "id": "cdbf2ae5-9d8f-4cf9-b6a6-b5623ab78237",
   "metadata": {
    "scrolled": true
   },
   "outputs": [
    {
     "data": {
      "text/html": [
       "<pre style=\"white-space:pre;overflow-x:auto;line-height:normal;font-family:Menlo,'DejaVu Sans Mono',consolas,'Courier New',monospace\"><span style=\"color: #7fbfbf; text-decoration-color: #7fbfbf\">[05/22/24 16:51:09] </span><span style=\"color: #000080; text-decoration-color: #000080\">INFO    </span> Generating squiggle for test_read_1_9017031_9017081               <a href=\"file:///home/adoni5/Projects/Chapter_1_Data/read_identities/python_scripts/make_squiggle.py\" target=\"_blank\"><span style=\"color: #7f7f7f; text-decoration-color: #7f7f7f\">make_squiggle.py</span></a><span style=\"color: #7f7f7f; text-decoration-color: #7f7f7f\">:</span><a href=\"file:///home/adoni5/Projects/Chapter_1_Data/read_identities/python_scripts/make_squiggle.py#120\" target=\"_blank\"><span style=\"color: #7f7f7f; text-decoration-color: #7f7f7f\">120</span></a>\n",
       "</pre>\n"
      ],
      "text/plain": [
       "\u001b[2;36m[05/22/24 16:51:09]\u001b[0m\u001b[2;36m \u001b[0m\u001b[34mINFO    \u001b[0m Generating squiggle for test_read_1_9017031_9017081               \u001b]8;id=800798;file:///home/adoni5/Projects/Chapter_1_Data/read_identities/python_scripts/make_squiggle.py\u001b\\\u001b[2mmake_squiggle.py\u001b[0m\u001b]8;;\u001b\\\u001b[2m:\u001b[0m\u001b]8;id=459158;file:///home/adoni5/Projects/Chapter_1_Data/read_identities/python_scripts/make_squiggle.py#120\u001b\\\u001b[2m120\u001b[0m\u001b]8;;\u001b\\\n"
      ]
     },
     "metadata": {},
     "output_type": "display_data"
    },
    {
     "data": {
      "text/html": [
       "<pre style=\"white-space:pre;overflow-x:auto;line-height:normal;font-family:Menlo,'DejaVu Sans Mono',consolas,'Courier New',monospace\"><span style=\"color: #7fbfbf; text-decoration-color: #7fbfbf\">                    </span><span style=\"color: #800000; text-decoration-color: #800000\">WARNING </span> File with name                                                    <a href=\"file:///home/adoni5/Projects/Chapter_1_Data/read_identities/python_scripts/make_squiggle.py\" target=\"_blank\"><span style=\"color: #7f7f7f; text-decoration-color: #7f7f7f\">make_squiggle.py</span></a><span style=\"color: #7f7f7f; text-decoration-color: #7f7f7f\">:</span><a href=\"file:///home/adoni5/Projects/Chapter_1_Data/read_identities/python_scripts/make_squiggle.py#145\" target=\"_blank\"><span style=\"color: #7f7f7f; text-decoration-color: #7f7f7f\">145</span></a>\n",
       "<span style=\"color: #7fbfbf; text-decoration-color: #7fbfbf\">                    </span>         raw_data/r9_squiggle/test_read_1_9017031_9017081.squiggle.npy     <span style=\"color: #7f7f7f; text-decoration-color: #7f7f7f\">                    </span>\n",
       "<span style=\"color: #7fbfbf; text-decoration-color: #7fbfbf\">                    </span>         already exists. Skipping<span style=\"color: #808000; text-decoration-color: #808000\">...</span>                                       <span style=\"color: #7f7f7f; text-decoration-color: #7f7f7f\">                    </span>\n",
       "</pre>\n"
      ],
      "text/plain": [
       "\u001b[2;36m                   \u001b[0m\u001b[2;36m \u001b[0m\u001b[31mWARNING \u001b[0m File with name                                                    \u001b]8;id=362493;file:///home/adoni5/Projects/Chapter_1_Data/read_identities/python_scripts/make_squiggle.py\u001b\\\u001b[2mmake_squiggle.py\u001b[0m\u001b]8;;\u001b\\\u001b[2m:\u001b[0m\u001b]8;id=242081;file:///home/adoni5/Projects/Chapter_1_Data/read_identities/python_scripts/make_squiggle.py#145\u001b\\\u001b[2m145\u001b[0m\u001b]8;;\u001b\\\n",
       "\u001b[2;36m                    \u001b[0m         raw_data/r9_squiggle/test_read_1_9017031_9017081.squiggle.npy     \u001b[2m                    \u001b[0m\n",
       "\u001b[2;36m                    \u001b[0m         already exists. Skipping\u001b[33m...\u001b[0m                                       \u001b[2m                    \u001b[0m\n"
      ]
     },
     "metadata": {},
     "output_type": "display_data"
    },
    {
     "data": {
      "text/html": [
       "<pre style=\"white-space:pre;overflow-x:auto;line-height:normal;font-family:Menlo,'DejaVu Sans Mono',consolas,'Courier New',monospace\"><span style=\"color: #7fbfbf; text-decoration-color: #7fbfbf\">                    </span><span style=\"color: #000080; text-decoration-color: #000080\">INFO    </span> Generating squiggle for test_read_2_38198625_38198725             <a href=\"file:///home/adoni5/Projects/Chapter_1_Data/read_identities/python_scripts/make_squiggle.py\" target=\"_blank\"><span style=\"color: #7f7f7f; text-decoration-color: #7f7f7f\">make_squiggle.py</span></a><span style=\"color: #7f7f7f; text-decoration-color: #7f7f7f\">:</span><a href=\"file:///home/adoni5/Projects/Chapter_1_Data/read_identities/python_scripts/make_squiggle.py#120\" target=\"_blank\"><span style=\"color: #7f7f7f; text-decoration-color: #7f7f7f\">120</span></a>\n",
       "</pre>\n"
      ],
      "text/plain": [
       "\u001b[2;36m                   \u001b[0m\u001b[2;36m \u001b[0m\u001b[34mINFO    \u001b[0m Generating squiggle for test_read_2_38198625_38198725             \u001b]8;id=998500;file:///home/adoni5/Projects/Chapter_1_Data/read_identities/python_scripts/make_squiggle.py\u001b\\\u001b[2mmake_squiggle.py\u001b[0m\u001b]8;;\u001b\\\u001b[2m:\u001b[0m\u001b]8;id=303858;file:///home/adoni5/Projects/Chapter_1_Data/read_identities/python_scripts/make_squiggle.py#120\u001b\\\u001b[2m120\u001b[0m\u001b]8;;\u001b\\\n"
      ]
     },
     "metadata": {},
     "output_type": "display_data"
    },
    {
     "data": {
      "text/html": [
       "<pre style=\"white-space:pre;overflow-x:auto;line-height:normal;font-family:Menlo,'DejaVu Sans Mono',consolas,'Courier New',monospace\"><span style=\"color: #7fbfbf; text-decoration-color: #7fbfbf\">                    </span><span style=\"color: #800000; text-decoration-color: #800000\">WARNING </span> File with name                                                    <a href=\"file:///home/adoni5/Projects/Chapter_1_Data/read_identities/python_scripts/make_squiggle.py\" target=\"_blank\"><span style=\"color: #7f7f7f; text-decoration-color: #7f7f7f\">make_squiggle.py</span></a><span style=\"color: #7f7f7f; text-decoration-color: #7f7f7f\">:</span><a href=\"file:///home/adoni5/Projects/Chapter_1_Data/read_identities/python_scripts/make_squiggle.py#145\" target=\"_blank\"><span style=\"color: #7f7f7f; text-decoration-color: #7f7f7f\">145</span></a>\n",
       "<span style=\"color: #7fbfbf; text-decoration-color: #7fbfbf\">                    </span>         raw_data/r9_squiggle/test_read_2_38198625_38198725.squiggle.npy   <span style=\"color: #7f7f7f; text-decoration-color: #7f7f7f\">                    </span>\n",
       "<span style=\"color: #7fbfbf; text-decoration-color: #7fbfbf\">                    </span>         already exists. Skipping<span style=\"color: #808000; text-decoration-color: #808000\">...</span>                                       <span style=\"color: #7f7f7f; text-decoration-color: #7f7f7f\">                    </span>\n",
       "</pre>\n"
      ],
      "text/plain": [
       "\u001b[2;36m                   \u001b[0m\u001b[2;36m \u001b[0m\u001b[31mWARNING \u001b[0m File with name                                                    \u001b]8;id=960778;file:///home/adoni5/Projects/Chapter_1_Data/read_identities/python_scripts/make_squiggle.py\u001b\\\u001b[2mmake_squiggle.py\u001b[0m\u001b]8;;\u001b\\\u001b[2m:\u001b[0m\u001b]8;id=583484;file:///home/adoni5/Projects/Chapter_1_Data/read_identities/python_scripts/make_squiggle.py#145\u001b\\\u001b[2m145\u001b[0m\u001b]8;;\u001b\\\n",
       "\u001b[2;36m                    \u001b[0m         raw_data/r9_squiggle/test_read_2_38198625_38198725.squiggle.npy   \u001b[2m                    \u001b[0m\n",
       "\u001b[2;36m                    \u001b[0m         already exists. Skipping\u001b[33m...\u001b[0m                                       \u001b[2m                    \u001b[0m\n"
      ]
     },
     "metadata": {},
     "output_type": "display_data"
    },
    {
     "data": {
      "text/html": [
       "<pre style=\"white-space:pre;overflow-x:auto;line-height:normal;font-family:Menlo,'DejaVu Sans Mono',consolas,'Courier New',monospace\"><span style=\"color: #7fbfbf; text-decoration-color: #7fbfbf\">                    </span><span style=\"color: #000080; text-decoration-color: #000080\">INFO    </span> Generating squiggle for test_read_3_56870315_56870465             <a href=\"file:///home/adoni5/Projects/Chapter_1_Data/read_identities/python_scripts/make_squiggle.py\" target=\"_blank\"><span style=\"color: #7f7f7f; text-decoration-color: #7f7f7f\">make_squiggle.py</span></a><span style=\"color: #7f7f7f; text-decoration-color: #7f7f7f\">:</span><a href=\"file:///home/adoni5/Projects/Chapter_1_Data/read_identities/python_scripts/make_squiggle.py#120\" target=\"_blank\"><span style=\"color: #7f7f7f; text-decoration-color: #7f7f7f\">120</span></a>\n",
       "</pre>\n"
      ],
      "text/plain": [
       "\u001b[2;36m                   \u001b[0m\u001b[2;36m \u001b[0m\u001b[34mINFO    \u001b[0m Generating squiggle for test_read_3_56870315_56870465             \u001b]8;id=659924;file:///home/adoni5/Projects/Chapter_1_Data/read_identities/python_scripts/make_squiggle.py\u001b\\\u001b[2mmake_squiggle.py\u001b[0m\u001b]8;;\u001b\\\u001b[2m:\u001b[0m\u001b]8;id=758790;file:///home/adoni5/Projects/Chapter_1_Data/read_identities/python_scripts/make_squiggle.py#120\u001b\\\u001b[2m120\u001b[0m\u001b]8;;\u001b\\\n"
      ]
     },
     "metadata": {},
     "output_type": "display_data"
    },
    {
     "data": {
      "text/html": [
       "<pre style=\"white-space:pre;overflow-x:auto;line-height:normal;font-family:Menlo,'DejaVu Sans Mono',consolas,'Courier New',monospace\"><span style=\"color: #7fbfbf; text-decoration-color: #7fbfbf\">                    </span><span style=\"color: #800000; text-decoration-color: #800000\">WARNING </span> File with name                                                    <a href=\"file:///home/adoni5/Projects/Chapter_1_Data/read_identities/python_scripts/make_squiggle.py\" target=\"_blank\"><span style=\"color: #7f7f7f; text-decoration-color: #7f7f7f\">make_squiggle.py</span></a><span style=\"color: #7f7f7f; text-decoration-color: #7f7f7f\">:</span><a href=\"file:///home/adoni5/Projects/Chapter_1_Data/read_identities/python_scripts/make_squiggle.py#145\" target=\"_blank\"><span style=\"color: #7f7f7f; text-decoration-color: #7f7f7f\">145</span></a>\n",
       "<span style=\"color: #7fbfbf; text-decoration-color: #7fbfbf\">                    </span>         raw_data/r9_squiggle/test_read_3_56870315_56870465.squiggle.npy   <span style=\"color: #7f7f7f; text-decoration-color: #7f7f7f\">                    </span>\n",
       "<span style=\"color: #7fbfbf; text-decoration-color: #7fbfbf\">                    </span>         already exists. Skipping<span style=\"color: #808000; text-decoration-color: #808000\">...</span>                                       <span style=\"color: #7f7f7f; text-decoration-color: #7f7f7f\">                    </span>\n",
       "</pre>\n"
      ],
      "text/plain": [
       "\u001b[2;36m                   \u001b[0m\u001b[2;36m \u001b[0m\u001b[31mWARNING \u001b[0m File with name                                                    \u001b]8;id=348856;file:///home/adoni5/Projects/Chapter_1_Data/read_identities/python_scripts/make_squiggle.py\u001b\\\u001b[2mmake_squiggle.py\u001b[0m\u001b]8;;\u001b\\\u001b[2m:\u001b[0m\u001b]8;id=939078;file:///home/adoni5/Projects/Chapter_1_Data/read_identities/python_scripts/make_squiggle.py#145\u001b\\\u001b[2m145\u001b[0m\u001b]8;;\u001b\\\n",
       "\u001b[2;36m                    \u001b[0m         raw_data/r9_squiggle/test_read_3_56870315_56870465.squiggle.npy   \u001b[2m                    \u001b[0m\n",
       "\u001b[2;36m                    \u001b[0m         already exists. Skipping\u001b[33m...\u001b[0m                                       \u001b[2m                    \u001b[0m\n"
      ]
     },
     "metadata": {},
     "output_type": "display_data"
    },
    {
     "data": {
      "text/html": [
       "<pre style=\"white-space:pre;overflow-x:auto;line-height:normal;font-family:Menlo,'DejaVu Sans Mono',consolas,'Courier New',monospace\"><span style=\"color: #7fbfbf; text-decoration-color: #7fbfbf\">                    </span><span style=\"color: #000080; text-decoration-color: #000080\">INFO    </span> Generating squiggle for test_read_4_53839096_53839296             <a href=\"file:///home/adoni5/Projects/Chapter_1_Data/read_identities/python_scripts/make_squiggle.py\" target=\"_blank\"><span style=\"color: #7f7f7f; text-decoration-color: #7f7f7f\">make_squiggle.py</span></a><span style=\"color: #7f7f7f; text-decoration-color: #7f7f7f\">:</span><a href=\"file:///home/adoni5/Projects/Chapter_1_Data/read_identities/python_scripts/make_squiggle.py#120\" target=\"_blank\"><span style=\"color: #7f7f7f; text-decoration-color: #7f7f7f\">120</span></a>\n",
       "</pre>\n"
      ],
      "text/plain": [
       "\u001b[2;36m                   \u001b[0m\u001b[2;36m \u001b[0m\u001b[34mINFO    \u001b[0m Generating squiggle for test_read_4_53839096_53839296             \u001b]8;id=442611;file:///home/adoni5/Projects/Chapter_1_Data/read_identities/python_scripts/make_squiggle.py\u001b\\\u001b[2mmake_squiggle.py\u001b[0m\u001b]8;;\u001b\\\u001b[2m:\u001b[0m\u001b]8;id=532380;file:///home/adoni5/Projects/Chapter_1_Data/read_identities/python_scripts/make_squiggle.py#120\u001b\\\u001b[2m120\u001b[0m\u001b]8;;\u001b\\\n"
      ]
     },
     "metadata": {},
     "output_type": "display_data"
    },
    {
     "data": {
      "text/html": [
       "<pre style=\"white-space:pre;overflow-x:auto;line-height:normal;font-family:Menlo,'DejaVu Sans Mono',consolas,'Courier New',monospace\"><span style=\"color: #7fbfbf; text-decoration-color: #7fbfbf\">                    </span><span style=\"color: #800000; text-decoration-color: #800000\">WARNING </span> File with name                                                    <a href=\"file:///home/adoni5/Projects/Chapter_1_Data/read_identities/python_scripts/make_squiggle.py\" target=\"_blank\"><span style=\"color: #7f7f7f; text-decoration-color: #7f7f7f\">make_squiggle.py</span></a><span style=\"color: #7f7f7f; text-decoration-color: #7f7f7f\">:</span><a href=\"file:///home/adoni5/Projects/Chapter_1_Data/read_identities/python_scripts/make_squiggle.py#145\" target=\"_blank\"><span style=\"color: #7f7f7f; text-decoration-color: #7f7f7f\">145</span></a>\n",
       "<span style=\"color: #7fbfbf; text-decoration-color: #7fbfbf\">                    </span>         raw_data/r9_squiggle/test_read_4_53839096_53839296.squiggle.npy   <span style=\"color: #7f7f7f; text-decoration-color: #7f7f7f\">                    </span>\n",
       "<span style=\"color: #7fbfbf; text-decoration-color: #7fbfbf\">                    </span>         already exists. Skipping<span style=\"color: #808000; text-decoration-color: #808000\">...</span>                                       <span style=\"color: #7f7f7f; text-decoration-color: #7f7f7f\">                    </span>\n",
       "</pre>\n"
      ],
      "text/plain": [
       "\u001b[2;36m                   \u001b[0m\u001b[2;36m \u001b[0m\u001b[31mWARNING \u001b[0m File with name                                                    \u001b]8;id=318104;file:///home/adoni5/Projects/Chapter_1_Data/read_identities/python_scripts/make_squiggle.py\u001b\\\u001b[2mmake_squiggle.py\u001b[0m\u001b]8;;\u001b\\\u001b[2m:\u001b[0m\u001b]8;id=297962;file:///home/adoni5/Projects/Chapter_1_Data/read_identities/python_scripts/make_squiggle.py#145\u001b\\\u001b[2m145\u001b[0m\u001b]8;;\u001b\\\n",
       "\u001b[2;36m                    \u001b[0m         raw_data/r9_squiggle/test_read_4_53839096_53839296.squiggle.npy   \u001b[2m                    \u001b[0m\n",
       "\u001b[2;36m                    \u001b[0m         already exists. Skipping\u001b[33m...\u001b[0m                                       \u001b[2m                    \u001b[0m\n"
      ]
     },
     "metadata": {},
     "output_type": "display_data"
    },
    {
     "data": {
      "text/html": [
       "<pre style=\"white-space:pre;overflow-x:auto;line-height:normal;font-family:Menlo,'DejaVu Sans Mono',consolas,'Courier New',monospace\"><span style=\"color: #7fbfbf; text-decoration-color: #7fbfbf\">                    </span><span style=\"color: #000080; text-decoration-color: #000080\">INFO    </span> Generating squiggle for test_read_5_51256047_51256297             <a href=\"file:///home/adoni5/Projects/Chapter_1_Data/read_identities/python_scripts/make_squiggle.py\" target=\"_blank\"><span style=\"color: #7f7f7f; text-decoration-color: #7f7f7f\">make_squiggle.py</span></a><span style=\"color: #7f7f7f; text-decoration-color: #7f7f7f\">:</span><a href=\"file:///home/adoni5/Projects/Chapter_1_Data/read_identities/python_scripts/make_squiggle.py#120\" target=\"_blank\"><span style=\"color: #7f7f7f; text-decoration-color: #7f7f7f\">120</span></a>\n",
       "</pre>\n"
      ],
      "text/plain": [
       "\u001b[2;36m                   \u001b[0m\u001b[2;36m \u001b[0m\u001b[34mINFO    \u001b[0m Generating squiggle for test_read_5_51256047_51256297             \u001b]8;id=986619;file:///home/adoni5/Projects/Chapter_1_Data/read_identities/python_scripts/make_squiggle.py\u001b\\\u001b[2mmake_squiggle.py\u001b[0m\u001b]8;;\u001b\\\u001b[2m:\u001b[0m\u001b]8;id=529828;file:///home/adoni5/Projects/Chapter_1_Data/read_identities/python_scripts/make_squiggle.py#120\u001b\\\u001b[2m120\u001b[0m\u001b]8;;\u001b\\\n"
      ]
     },
     "metadata": {},
     "output_type": "display_data"
    },
    {
     "data": {
      "text/html": [
       "<pre style=\"white-space:pre;overflow-x:auto;line-height:normal;font-family:Menlo,'DejaVu Sans Mono',consolas,'Courier New',monospace\"><span style=\"color: #7fbfbf; text-decoration-color: #7fbfbf\">                    </span><span style=\"color: #800000; text-decoration-color: #800000\">WARNING </span> File with name                                                    <a href=\"file:///home/adoni5/Projects/Chapter_1_Data/read_identities/python_scripts/make_squiggle.py\" target=\"_blank\"><span style=\"color: #7f7f7f; text-decoration-color: #7f7f7f\">make_squiggle.py</span></a><span style=\"color: #7f7f7f; text-decoration-color: #7f7f7f\">:</span><a href=\"file:///home/adoni5/Projects/Chapter_1_Data/read_identities/python_scripts/make_squiggle.py#145\" target=\"_blank\"><span style=\"color: #7f7f7f; text-decoration-color: #7f7f7f\">145</span></a>\n",
       "<span style=\"color: #7fbfbf; text-decoration-color: #7fbfbf\">                    </span>         raw_data/r9_squiggle/test_read_5_51256047_51256297.squiggle.npy   <span style=\"color: #7f7f7f; text-decoration-color: #7f7f7f\">                    </span>\n",
       "<span style=\"color: #7fbfbf; text-decoration-color: #7fbfbf\">                    </span>         already exists. Skipping<span style=\"color: #808000; text-decoration-color: #808000\">...</span>                                       <span style=\"color: #7f7f7f; text-decoration-color: #7f7f7f\">                    </span>\n",
       "</pre>\n"
      ],
      "text/plain": [
       "\u001b[2;36m                   \u001b[0m\u001b[2;36m \u001b[0m\u001b[31mWARNING \u001b[0m File with name                                                    \u001b]8;id=503554;file:///home/adoni5/Projects/Chapter_1_Data/read_identities/python_scripts/make_squiggle.py\u001b\\\u001b[2mmake_squiggle.py\u001b[0m\u001b]8;;\u001b\\\u001b[2m:\u001b[0m\u001b]8;id=254531;file:///home/adoni5/Projects/Chapter_1_Data/read_identities/python_scripts/make_squiggle.py#145\u001b\\\u001b[2m145\u001b[0m\u001b]8;;\u001b\\\n",
       "\u001b[2;36m                    \u001b[0m         raw_data/r9_squiggle/test_read_5_51256047_51256297.squiggle.npy   \u001b[2m                    \u001b[0m\n",
       "\u001b[2;36m                    \u001b[0m         already exists. Skipping\u001b[33m...\u001b[0m                                       \u001b[2m                    \u001b[0m\n"
      ]
     },
     "metadata": {},
     "output_type": "display_data"
    },
    {
     "data": {
      "text/html": [
       "<pre style=\"white-space:pre;overflow-x:auto;line-height:normal;font-family:Menlo,'DejaVu Sans Mono',consolas,'Courier New',monospace\"><span style=\"color: #7fbfbf; text-decoration-color: #7fbfbf\">                    </span><span style=\"color: #000080; text-decoration-color: #000080\">INFO    </span> Generating squiggle for test_read_6_4235027_4235327               <a href=\"file:///home/adoni5/Projects/Chapter_1_Data/read_identities/python_scripts/make_squiggle.py\" target=\"_blank\"><span style=\"color: #7f7f7f; text-decoration-color: #7f7f7f\">make_squiggle.py</span></a><span style=\"color: #7f7f7f; text-decoration-color: #7f7f7f\">:</span><a href=\"file:///home/adoni5/Projects/Chapter_1_Data/read_identities/python_scripts/make_squiggle.py#120\" target=\"_blank\"><span style=\"color: #7f7f7f; text-decoration-color: #7f7f7f\">120</span></a>\n",
       "</pre>\n"
      ],
      "text/plain": [
       "\u001b[2;36m                   \u001b[0m\u001b[2;36m \u001b[0m\u001b[34mINFO    \u001b[0m Generating squiggle for test_read_6_4235027_4235327               \u001b]8;id=697034;file:///home/adoni5/Projects/Chapter_1_Data/read_identities/python_scripts/make_squiggle.py\u001b\\\u001b[2mmake_squiggle.py\u001b[0m\u001b]8;;\u001b\\\u001b[2m:\u001b[0m\u001b]8;id=181411;file:///home/adoni5/Projects/Chapter_1_Data/read_identities/python_scripts/make_squiggle.py#120\u001b\\\u001b[2m120\u001b[0m\u001b]8;;\u001b\\\n"
      ]
     },
     "metadata": {},
     "output_type": "display_data"
    },
    {
     "data": {
      "text/html": [
       "<pre style=\"white-space:pre;overflow-x:auto;line-height:normal;font-family:Menlo,'DejaVu Sans Mono',consolas,'Courier New',monospace\"><span style=\"color: #7fbfbf; text-decoration-color: #7fbfbf\">                    </span><span style=\"color: #800000; text-decoration-color: #800000\">WARNING </span> File with name                                                    <a href=\"file:///home/adoni5/Projects/Chapter_1_Data/read_identities/python_scripts/make_squiggle.py\" target=\"_blank\"><span style=\"color: #7f7f7f; text-decoration-color: #7f7f7f\">make_squiggle.py</span></a><span style=\"color: #7f7f7f; text-decoration-color: #7f7f7f\">:</span><a href=\"file:///home/adoni5/Projects/Chapter_1_Data/read_identities/python_scripts/make_squiggle.py#145\" target=\"_blank\"><span style=\"color: #7f7f7f; text-decoration-color: #7f7f7f\">145</span></a>\n",
       "<span style=\"color: #7fbfbf; text-decoration-color: #7fbfbf\">                    </span>         raw_data/r9_squiggle/test_read_6_4235027_4235327.squiggle.npy     <span style=\"color: #7f7f7f; text-decoration-color: #7f7f7f\">                    </span>\n",
       "<span style=\"color: #7fbfbf; text-decoration-color: #7fbfbf\">                    </span>         already exists. Skipping<span style=\"color: #808000; text-decoration-color: #808000\">...</span>                                       <span style=\"color: #7f7f7f; text-decoration-color: #7f7f7f\">                    </span>\n",
       "</pre>\n"
      ],
      "text/plain": [
       "\u001b[2;36m                   \u001b[0m\u001b[2;36m \u001b[0m\u001b[31mWARNING \u001b[0m File with name                                                    \u001b]8;id=813524;file:///home/adoni5/Projects/Chapter_1_Data/read_identities/python_scripts/make_squiggle.py\u001b\\\u001b[2mmake_squiggle.py\u001b[0m\u001b]8;;\u001b\\\u001b[2m:\u001b[0m\u001b]8;id=707249;file:///home/adoni5/Projects/Chapter_1_Data/read_identities/python_scripts/make_squiggle.py#145\u001b\\\u001b[2m145\u001b[0m\u001b]8;;\u001b\\\n",
       "\u001b[2;36m                    \u001b[0m         raw_data/r9_squiggle/test_read_6_4235027_4235327.squiggle.npy     \u001b[2m                    \u001b[0m\n",
       "\u001b[2;36m                    \u001b[0m         already exists. Skipping\u001b[33m...\u001b[0m                                       \u001b[2m                    \u001b[0m\n"
      ]
     },
     "metadata": {},
     "output_type": "display_data"
    },
    {
     "data": {
      "text/html": [
       "<pre style=\"white-space:pre;overflow-x:auto;line-height:normal;font-family:Menlo,'DejaVu Sans Mono',consolas,'Courier New',monospace\"><span style=\"color: #7fbfbf; text-decoration-color: #7fbfbf\">                    </span><span style=\"color: #000080; text-decoration-color: #000080\">INFO    </span> Generating squiggle for test_read_7_17117392_17117742             <a href=\"file:///home/adoni5/Projects/Chapter_1_Data/read_identities/python_scripts/make_squiggle.py\" target=\"_blank\"><span style=\"color: #7f7f7f; text-decoration-color: #7f7f7f\">make_squiggle.py</span></a><span style=\"color: #7f7f7f; text-decoration-color: #7f7f7f\">:</span><a href=\"file:///home/adoni5/Projects/Chapter_1_Data/read_identities/python_scripts/make_squiggle.py#120\" target=\"_blank\"><span style=\"color: #7f7f7f; text-decoration-color: #7f7f7f\">120</span></a>\n",
       "</pre>\n"
      ],
      "text/plain": [
       "\u001b[2;36m                   \u001b[0m\u001b[2;36m \u001b[0m\u001b[34mINFO    \u001b[0m Generating squiggle for test_read_7_17117392_17117742             \u001b]8;id=696000;file:///home/adoni5/Projects/Chapter_1_Data/read_identities/python_scripts/make_squiggle.py\u001b\\\u001b[2mmake_squiggle.py\u001b[0m\u001b]8;;\u001b\\\u001b[2m:\u001b[0m\u001b]8;id=533123;file:///home/adoni5/Projects/Chapter_1_Data/read_identities/python_scripts/make_squiggle.py#120\u001b\\\u001b[2m120\u001b[0m\u001b]8;;\u001b\\\n"
      ]
     },
     "metadata": {},
     "output_type": "display_data"
    },
    {
     "data": {
      "text/html": [
       "<pre style=\"white-space:pre;overflow-x:auto;line-height:normal;font-family:Menlo,'DejaVu Sans Mono',consolas,'Courier New',monospace\"><span style=\"color: #7fbfbf; text-decoration-color: #7fbfbf\">                    </span><span style=\"color: #800000; text-decoration-color: #800000\">WARNING </span> File with name                                                    <a href=\"file:///home/adoni5/Projects/Chapter_1_Data/read_identities/python_scripts/make_squiggle.py\" target=\"_blank\"><span style=\"color: #7f7f7f; text-decoration-color: #7f7f7f\">make_squiggle.py</span></a><span style=\"color: #7f7f7f; text-decoration-color: #7f7f7f\">:</span><a href=\"file:///home/adoni5/Projects/Chapter_1_Data/read_identities/python_scripts/make_squiggle.py#145\" target=\"_blank\"><span style=\"color: #7f7f7f; text-decoration-color: #7f7f7f\">145</span></a>\n",
       "<span style=\"color: #7fbfbf; text-decoration-color: #7fbfbf\">                    </span>         raw_data/r9_squiggle/test_read_7_17117392_17117742.squiggle.npy   <span style=\"color: #7f7f7f; text-decoration-color: #7f7f7f\">                    </span>\n",
       "<span style=\"color: #7fbfbf; text-decoration-color: #7fbfbf\">                    </span>         already exists. Skipping<span style=\"color: #808000; text-decoration-color: #808000\">...</span>                                       <span style=\"color: #7f7f7f; text-decoration-color: #7f7f7f\">                    </span>\n",
       "</pre>\n"
      ],
      "text/plain": [
       "\u001b[2;36m                   \u001b[0m\u001b[2;36m \u001b[0m\u001b[31mWARNING \u001b[0m File with name                                                    \u001b]8;id=880753;file:///home/adoni5/Projects/Chapter_1_Data/read_identities/python_scripts/make_squiggle.py\u001b\\\u001b[2mmake_squiggle.py\u001b[0m\u001b]8;;\u001b\\\u001b[2m:\u001b[0m\u001b]8;id=412357;file:///home/adoni5/Projects/Chapter_1_Data/read_identities/python_scripts/make_squiggle.py#145\u001b\\\u001b[2m145\u001b[0m\u001b]8;;\u001b\\\n",
       "\u001b[2;36m                    \u001b[0m         raw_data/r9_squiggle/test_read_7_17117392_17117742.squiggle.npy   \u001b[2m                    \u001b[0m\n",
       "\u001b[2;36m                    \u001b[0m         already exists. Skipping\u001b[33m...\u001b[0m                                       \u001b[2m                    \u001b[0m\n"
      ]
     },
     "metadata": {},
     "output_type": "display_data"
    },
    {
     "data": {
      "text/html": [
       "<pre style=\"white-space:pre;overflow-x:auto;line-height:normal;font-family:Menlo,'DejaVu Sans Mono',consolas,'Courier New',monospace\"><span style=\"color: #7fbfbf; text-decoration-color: #7fbfbf\">                    </span><span style=\"color: #000080; text-decoration-color: #000080\">INFO    </span> Generating squiggle for test_read_8_7913390_7913790               <a href=\"file:///home/adoni5/Projects/Chapter_1_Data/read_identities/python_scripts/make_squiggle.py\" target=\"_blank\"><span style=\"color: #7f7f7f; text-decoration-color: #7f7f7f\">make_squiggle.py</span></a><span style=\"color: #7f7f7f; text-decoration-color: #7f7f7f\">:</span><a href=\"file:///home/adoni5/Projects/Chapter_1_Data/read_identities/python_scripts/make_squiggle.py#120\" target=\"_blank\"><span style=\"color: #7f7f7f; text-decoration-color: #7f7f7f\">120</span></a>\n",
       "</pre>\n"
      ],
      "text/plain": [
       "\u001b[2;36m                   \u001b[0m\u001b[2;36m \u001b[0m\u001b[34mINFO    \u001b[0m Generating squiggle for test_read_8_7913390_7913790               \u001b]8;id=492117;file:///home/adoni5/Projects/Chapter_1_Data/read_identities/python_scripts/make_squiggle.py\u001b\\\u001b[2mmake_squiggle.py\u001b[0m\u001b]8;;\u001b\\\u001b[2m:\u001b[0m\u001b]8;id=45599;file:///home/adoni5/Projects/Chapter_1_Data/read_identities/python_scripts/make_squiggle.py#120\u001b\\\u001b[2m120\u001b[0m\u001b]8;;\u001b\\\n"
      ]
     },
     "metadata": {},
     "output_type": "display_data"
    },
    {
     "data": {
      "text/html": [
       "<pre style=\"white-space:pre;overflow-x:auto;line-height:normal;font-family:Menlo,'DejaVu Sans Mono',consolas,'Courier New',monospace\"><span style=\"color: #7fbfbf; text-decoration-color: #7fbfbf\">                    </span><span style=\"color: #800000; text-decoration-color: #800000\">WARNING </span> File with name                                                    <a href=\"file:///home/adoni5/Projects/Chapter_1_Data/read_identities/python_scripts/make_squiggle.py\" target=\"_blank\"><span style=\"color: #7f7f7f; text-decoration-color: #7f7f7f\">make_squiggle.py</span></a><span style=\"color: #7f7f7f; text-decoration-color: #7f7f7f\">:</span><a href=\"file:///home/adoni5/Projects/Chapter_1_Data/read_identities/python_scripts/make_squiggle.py#145\" target=\"_blank\"><span style=\"color: #7f7f7f; text-decoration-color: #7f7f7f\">145</span></a>\n",
       "<span style=\"color: #7fbfbf; text-decoration-color: #7fbfbf\">                    </span>         raw_data/r9_squiggle/test_read_8_7913390_7913790.squiggle.npy     <span style=\"color: #7f7f7f; text-decoration-color: #7f7f7f\">                    </span>\n",
       "<span style=\"color: #7fbfbf; text-decoration-color: #7fbfbf\">                    </span>         already exists. Skipping<span style=\"color: #808000; text-decoration-color: #808000\">...</span>                                       <span style=\"color: #7f7f7f; text-decoration-color: #7f7f7f\">                    </span>\n",
       "</pre>\n"
      ],
      "text/plain": [
       "\u001b[2;36m                   \u001b[0m\u001b[2;36m \u001b[0m\u001b[31mWARNING \u001b[0m File with name                                                    \u001b]8;id=621998;file:///home/adoni5/Projects/Chapter_1_Data/read_identities/python_scripts/make_squiggle.py\u001b\\\u001b[2mmake_squiggle.py\u001b[0m\u001b]8;;\u001b\\\u001b[2m:\u001b[0m\u001b]8;id=606261;file:///home/adoni5/Projects/Chapter_1_Data/read_identities/python_scripts/make_squiggle.py#145\u001b\\\u001b[2m145\u001b[0m\u001b]8;;\u001b\\\n",
       "\u001b[2;36m                    \u001b[0m         raw_data/r9_squiggle/test_read_8_7913390_7913790.squiggle.npy     \u001b[2m                    \u001b[0m\n",
       "\u001b[2;36m                    \u001b[0m         already exists. Skipping\u001b[33m...\u001b[0m                                       \u001b[2m                    \u001b[0m\n"
      ]
     },
     "metadata": {},
     "output_type": "display_data"
    },
    {
     "data": {
      "text/html": [
       "<pre style=\"white-space:pre;overflow-x:auto;line-height:normal;font-family:Menlo,'DejaVu Sans Mono',consolas,'Courier New',monospace\"><span style=\"color: #7fbfbf; text-decoration-color: #7fbfbf\">                    </span><span style=\"color: #000080; text-decoration-color: #000080\">INFO    </span> Generating squiggle for test_read_9_33248085_33248535             <a href=\"file:///home/adoni5/Projects/Chapter_1_Data/read_identities/python_scripts/make_squiggle.py\" target=\"_blank\"><span style=\"color: #7f7f7f; text-decoration-color: #7f7f7f\">make_squiggle.py</span></a><span style=\"color: #7f7f7f; text-decoration-color: #7f7f7f\">:</span><a href=\"file:///home/adoni5/Projects/Chapter_1_Data/read_identities/python_scripts/make_squiggle.py#120\" target=\"_blank\"><span style=\"color: #7f7f7f; text-decoration-color: #7f7f7f\">120</span></a>\n",
       "</pre>\n"
      ],
      "text/plain": [
       "\u001b[2;36m                   \u001b[0m\u001b[2;36m \u001b[0m\u001b[34mINFO    \u001b[0m Generating squiggle for test_read_9_33248085_33248535             \u001b]8;id=526635;file:///home/adoni5/Projects/Chapter_1_Data/read_identities/python_scripts/make_squiggle.py\u001b\\\u001b[2mmake_squiggle.py\u001b[0m\u001b]8;;\u001b\\\u001b[2m:\u001b[0m\u001b]8;id=237961;file:///home/adoni5/Projects/Chapter_1_Data/read_identities/python_scripts/make_squiggle.py#120\u001b\\\u001b[2m120\u001b[0m\u001b]8;;\u001b\\\n"
      ]
     },
     "metadata": {},
     "output_type": "display_data"
    },
    {
     "data": {
      "text/html": [
       "<pre style=\"white-space:pre;overflow-x:auto;line-height:normal;font-family:Menlo,'DejaVu Sans Mono',consolas,'Courier New',monospace\"><span style=\"color: #7fbfbf; text-decoration-color: #7fbfbf\">                    </span><span style=\"color: #800000; text-decoration-color: #800000\">WARNING </span> File with name                                                    <a href=\"file:///home/adoni5/Projects/Chapter_1_Data/read_identities/python_scripts/make_squiggle.py\" target=\"_blank\"><span style=\"color: #7f7f7f; text-decoration-color: #7f7f7f\">make_squiggle.py</span></a><span style=\"color: #7f7f7f; text-decoration-color: #7f7f7f\">:</span><a href=\"file:///home/adoni5/Projects/Chapter_1_Data/read_identities/python_scripts/make_squiggle.py#145\" target=\"_blank\"><span style=\"color: #7f7f7f; text-decoration-color: #7f7f7f\">145</span></a>\n",
       "<span style=\"color: #7fbfbf; text-decoration-color: #7fbfbf\">                    </span>         raw_data/r9_squiggle/test_read_9_33248085_33248535.squiggle.npy   <span style=\"color: #7f7f7f; text-decoration-color: #7f7f7f\">                    </span>\n",
       "<span style=\"color: #7fbfbf; text-decoration-color: #7fbfbf\">                    </span>         already exists. Skipping<span style=\"color: #808000; text-decoration-color: #808000\">...</span>                                       <span style=\"color: #7f7f7f; text-decoration-color: #7f7f7f\">                    </span>\n",
       "</pre>\n"
      ],
      "text/plain": [
       "\u001b[2;36m                   \u001b[0m\u001b[2;36m \u001b[0m\u001b[31mWARNING \u001b[0m File with name                                                    \u001b]8;id=964780;file:///home/adoni5/Projects/Chapter_1_Data/read_identities/python_scripts/make_squiggle.py\u001b\\\u001b[2mmake_squiggle.py\u001b[0m\u001b]8;;\u001b\\\u001b[2m:\u001b[0m\u001b]8;id=902079;file:///home/adoni5/Projects/Chapter_1_Data/read_identities/python_scripts/make_squiggle.py#145\u001b\\\u001b[2m145\u001b[0m\u001b]8;;\u001b\\\n",
       "\u001b[2;36m                    \u001b[0m         raw_data/r9_squiggle/test_read_9_33248085_33248535.squiggle.npy   \u001b[2m                    \u001b[0m\n",
       "\u001b[2;36m                    \u001b[0m         already exists. Skipping\u001b[33m...\u001b[0m                                       \u001b[2m                    \u001b[0m\n"
      ]
     },
     "metadata": {},
     "output_type": "display_data"
    },
    {
     "data": {
      "text/html": [
       "<pre style=\"white-space:pre;overflow-x:auto;line-height:normal;font-family:Menlo,'DejaVu Sans Mono',consolas,'Courier New',monospace\"><span style=\"color: #7fbfbf; text-decoration-color: #7fbfbf\">                    </span><span style=\"color: #000080; text-decoration-color: #000080\">INFO    </span> Generating squiggle for test_read_10_51067325_51067825            <a href=\"file:///home/adoni5/Projects/Chapter_1_Data/read_identities/python_scripts/make_squiggle.py\" target=\"_blank\"><span style=\"color: #7f7f7f; text-decoration-color: #7f7f7f\">make_squiggle.py</span></a><span style=\"color: #7f7f7f; text-decoration-color: #7f7f7f\">:</span><a href=\"file:///home/adoni5/Projects/Chapter_1_Data/read_identities/python_scripts/make_squiggle.py#120\" target=\"_blank\"><span style=\"color: #7f7f7f; text-decoration-color: #7f7f7f\">120</span></a>\n",
       "</pre>\n"
      ],
      "text/plain": [
       "\u001b[2;36m                   \u001b[0m\u001b[2;36m \u001b[0m\u001b[34mINFO    \u001b[0m Generating squiggle for test_read_10_51067325_51067825            \u001b]8;id=360527;file:///home/adoni5/Projects/Chapter_1_Data/read_identities/python_scripts/make_squiggle.py\u001b\\\u001b[2mmake_squiggle.py\u001b[0m\u001b]8;;\u001b\\\u001b[2m:\u001b[0m\u001b]8;id=998734;file:///home/adoni5/Projects/Chapter_1_Data/read_identities/python_scripts/make_squiggle.py#120\u001b\\\u001b[2m120\u001b[0m\u001b]8;;\u001b\\\n"
      ]
     },
     "metadata": {},
     "output_type": "display_data"
    },
    {
     "data": {
      "text/html": [
       "<pre style=\"white-space:pre;overflow-x:auto;line-height:normal;font-family:Menlo,'DejaVu Sans Mono',consolas,'Courier New',monospace\"><span style=\"color: #7fbfbf; text-decoration-color: #7fbfbf\">                    </span><span style=\"color: #800000; text-decoration-color: #800000\">WARNING </span> File with name                                                    <a href=\"file:///home/adoni5/Projects/Chapter_1_Data/read_identities/python_scripts/make_squiggle.py\" target=\"_blank\"><span style=\"color: #7f7f7f; text-decoration-color: #7f7f7f\">make_squiggle.py</span></a><span style=\"color: #7f7f7f; text-decoration-color: #7f7f7f\">:</span><a href=\"file:///home/adoni5/Projects/Chapter_1_Data/read_identities/python_scripts/make_squiggle.py#145\" target=\"_blank\"><span style=\"color: #7f7f7f; text-decoration-color: #7f7f7f\">145</span></a>\n",
       "<span style=\"color: #7fbfbf; text-decoration-color: #7fbfbf\">                    </span>         raw_data/r9_squiggle/test_read_10_51067325_51067825.squiggle.npy  <span style=\"color: #7f7f7f; text-decoration-color: #7f7f7f\">                    </span>\n",
       "<span style=\"color: #7fbfbf; text-decoration-color: #7fbfbf\">                    </span>         already exists. Skipping<span style=\"color: #808000; text-decoration-color: #808000\">...</span>                                       <span style=\"color: #7f7f7f; text-decoration-color: #7f7f7f\">                    </span>\n",
       "</pre>\n"
      ],
      "text/plain": [
       "\u001b[2;36m                   \u001b[0m\u001b[2;36m \u001b[0m\u001b[31mWARNING \u001b[0m File with name                                                    \u001b]8;id=953947;file:///home/adoni5/Projects/Chapter_1_Data/read_identities/python_scripts/make_squiggle.py\u001b\\\u001b[2mmake_squiggle.py\u001b[0m\u001b]8;;\u001b\\\u001b[2m:\u001b[0m\u001b]8;id=282359;file:///home/adoni5/Projects/Chapter_1_Data/read_identities/python_scripts/make_squiggle.py#145\u001b\\\u001b[2m145\u001b[0m\u001b]8;;\u001b\\\n",
       "\u001b[2;36m                    \u001b[0m         raw_data/r9_squiggle/test_read_10_51067325_51067825.squiggle.npy  \u001b[2m                    \u001b[0m\n",
       "\u001b[2;36m                    \u001b[0m         already exists. Skipping\u001b[33m...\u001b[0m                                       \u001b[2m                    \u001b[0m\n"
      ]
     },
     "metadata": {},
     "output_type": "display_data"
    },
    {
     "data": {
      "text/html": [
       "<pre style=\"white-space:pre;overflow-x:auto;line-height:normal;font-family:Menlo,'DejaVu Sans Mono',consolas,'Courier New',monospace\"><span style=\"color: #7fbfbf; text-decoration-color: #7fbfbf\">                    </span><span style=\"color: #000080; text-decoration-color: #000080\">INFO    </span> Generating squiggle for test_read_11_30164834_30165384            <a href=\"file:///home/adoni5/Projects/Chapter_1_Data/read_identities/python_scripts/make_squiggle.py\" target=\"_blank\"><span style=\"color: #7f7f7f; text-decoration-color: #7f7f7f\">make_squiggle.py</span></a><span style=\"color: #7f7f7f; text-decoration-color: #7f7f7f\">:</span><a href=\"file:///home/adoni5/Projects/Chapter_1_Data/read_identities/python_scripts/make_squiggle.py#120\" target=\"_blank\"><span style=\"color: #7f7f7f; text-decoration-color: #7f7f7f\">120</span></a>\n",
       "</pre>\n"
      ],
      "text/plain": [
       "\u001b[2;36m                   \u001b[0m\u001b[2;36m \u001b[0m\u001b[34mINFO    \u001b[0m Generating squiggle for test_read_11_30164834_30165384            \u001b]8;id=5986;file:///home/adoni5/Projects/Chapter_1_Data/read_identities/python_scripts/make_squiggle.py\u001b\\\u001b[2mmake_squiggle.py\u001b[0m\u001b]8;;\u001b\\\u001b[2m:\u001b[0m\u001b]8;id=402327;file:///home/adoni5/Projects/Chapter_1_Data/read_identities/python_scripts/make_squiggle.py#120\u001b\\\u001b[2m120\u001b[0m\u001b]8;;\u001b\\\n"
      ]
     },
     "metadata": {},
     "output_type": "display_data"
    },
    {
     "data": {
      "text/html": [
       "<pre style=\"white-space:pre;overflow-x:auto;line-height:normal;font-family:Menlo,'DejaVu Sans Mono',consolas,'Courier New',monospace\"><span style=\"color: #7fbfbf; text-decoration-color: #7fbfbf\">                    </span><span style=\"color: #800000; text-decoration-color: #800000\">WARNING </span> File with name                                                    <a href=\"file:///home/adoni5/Projects/Chapter_1_Data/read_identities/python_scripts/make_squiggle.py\" target=\"_blank\"><span style=\"color: #7f7f7f; text-decoration-color: #7f7f7f\">make_squiggle.py</span></a><span style=\"color: #7f7f7f; text-decoration-color: #7f7f7f\">:</span><a href=\"file:///home/adoni5/Projects/Chapter_1_Data/read_identities/python_scripts/make_squiggle.py#145\" target=\"_blank\"><span style=\"color: #7f7f7f; text-decoration-color: #7f7f7f\">145</span></a>\n",
       "<span style=\"color: #7fbfbf; text-decoration-color: #7fbfbf\">                    </span>         raw_data/r9_squiggle/test_read_11_30164834_30165384.squiggle.npy  <span style=\"color: #7f7f7f; text-decoration-color: #7f7f7f\">                    </span>\n",
       "<span style=\"color: #7fbfbf; text-decoration-color: #7fbfbf\">                    </span>         already exists. Skipping<span style=\"color: #808000; text-decoration-color: #808000\">...</span>                                       <span style=\"color: #7f7f7f; text-decoration-color: #7f7f7f\">                    </span>\n",
       "</pre>\n"
      ],
      "text/plain": [
       "\u001b[2;36m                   \u001b[0m\u001b[2;36m \u001b[0m\u001b[31mWARNING \u001b[0m File with name                                                    \u001b]8;id=984045;file:///home/adoni5/Projects/Chapter_1_Data/read_identities/python_scripts/make_squiggle.py\u001b\\\u001b[2mmake_squiggle.py\u001b[0m\u001b]8;;\u001b\\\u001b[2m:\u001b[0m\u001b]8;id=776474;file:///home/adoni5/Projects/Chapter_1_Data/read_identities/python_scripts/make_squiggle.py#145\u001b\\\u001b[2m145\u001b[0m\u001b]8;;\u001b\\\n",
       "\u001b[2;36m                    \u001b[0m         raw_data/r9_squiggle/test_read_11_30164834_30165384.squiggle.npy  \u001b[2m                    \u001b[0m\n",
       "\u001b[2;36m                    \u001b[0m         already exists. Skipping\u001b[33m...\u001b[0m                                       \u001b[2m                    \u001b[0m\n"
      ]
     },
     "metadata": {},
     "output_type": "display_data"
    },
    {
     "data": {
      "text/html": [
       "<pre style=\"white-space:pre;overflow-x:auto;line-height:normal;font-family:Menlo,'DejaVu Sans Mono',consolas,'Courier New',monospace\"><span style=\"color: #7fbfbf; text-decoration-color: #7fbfbf\">                    </span><span style=\"color: #000080; text-decoration-color: #000080\">INFO    </span> Generating squiggle for test_read_12_31691841_31692441            <a href=\"file:///home/adoni5/Projects/Chapter_1_Data/read_identities/python_scripts/make_squiggle.py\" target=\"_blank\"><span style=\"color: #7f7f7f; text-decoration-color: #7f7f7f\">make_squiggle.py</span></a><span style=\"color: #7f7f7f; text-decoration-color: #7f7f7f\">:</span><a href=\"file:///home/adoni5/Projects/Chapter_1_Data/read_identities/python_scripts/make_squiggle.py#120\" target=\"_blank\"><span style=\"color: #7f7f7f; text-decoration-color: #7f7f7f\">120</span></a>\n",
       "</pre>\n"
      ],
      "text/plain": [
       "\u001b[2;36m                   \u001b[0m\u001b[2;36m \u001b[0m\u001b[34mINFO    \u001b[0m Generating squiggle for test_read_12_31691841_31692441            \u001b]8;id=815160;file:///home/adoni5/Projects/Chapter_1_Data/read_identities/python_scripts/make_squiggle.py\u001b\\\u001b[2mmake_squiggle.py\u001b[0m\u001b]8;;\u001b\\\u001b[2m:\u001b[0m\u001b]8;id=588626;file:///home/adoni5/Projects/Chapter_1_Data/read_identities/python_scripts/make_squiggle.py#120\u001b\\\u001b[2m120\u001b[0m\u001b]8;;\u001b\\\n"
      ]
     },
     "metadata": {},
     "output_type": "display_data"
    },
    {
     "data": {
      "text/html": [
       "<pre style=\"white-space:pre;overflow-x:auto;line-height:normal;font-family:Menlo,'DejaVu Sans Mono',consolas,'Courier New',monospace\"><span style=\"color: #7fbfbf; text-decoration-color: #7fbfbf\">                    </span><span style=\"color: #800000; text-decoration-color: #800000\">WARNING </span> File with name                                                    <a href=\"file:///home/adoni5/Projects/Chapter_1_Data/read_identities/python_scripts/make_squiggle.py\" target=\"_blank\"><span style=\"color: #7f7f7f; text-decoration-color: #7f7f7f\">make_squiggle.py</span></a><span style=\"color: #7f7f7f; text-decoration-color: #7f7f7f\">:</span><a href=\"file:///home/adoni5/Projects/Chapter_1_Data/read_identities/python_scripts/make_squiggle.py#145\" target=\"_blank\"><span style=\"color: #7f7f7f; text-decoration-color: #7f7f7f\">145</span></a>\n",
       "<span style=\"color: #7fbfbf; text-decoration-color: #7fbfbf\">                    </span>         raw_data/r9_squiggle/test_read_12_31691841_31692441.squiggle.npy  <span style=\"color: #7f7f7f; text-decoration-color: #7f7f7f\">                    </span>\n",
       "<span style=\"color: #7fbfbf; text-decoration-color: #7fbfbf\">                    </span>         already exists. Skipping<span style=\"color: #808000; text-decoration-color: #808000\">...</span>                                       <span style=\"color: #7f7f7f; text-decoration-color: #7f7f7f\">                    </span>\n",
       "</pre>\n"
      ],
      "text/plain": [
       "\u001b[2;36m                   \u001b[0m\u001b[2;36m \u001b[0m\u001b[31mWARNING \u001b[0m File with name                                                    \u001b]8;id=504471;file:///home/adoni5/Projects/Chapter_1_Data/read_identities/python_scripts/make_squiggle.py\u001b\\\u001b[2mmake_squiggle.py\u001b[0m\u001b]8;;\u001b\\\u001b[2m:\u001b[0m\u001b]8;id=912271;file:///home/adoni5/Projects/Chapter_1_Data/read_identities/python_scripts/make_squiggle.py#145\u001b\\\u001b[2m145\u001b[0m\u001b]8;;\u001b\\\n",
       "\u001b[2;36m                    \u001b[0m         raw_data/r9_squiggle/test_read_12_31691841_31692441.squiggle.npy  \u001b[2m                    \u001b[0m\n",
       "\u001b[2;36m                    \u001b[0m         already exists. Skipping\u001b[33m...\u001b[0m                                       \u001b[2m                    \u001b[0m\n"
      ]
     },
     "metadata": {},
     "output_type": "display_data"
    },
    {
     "data": {
      "text/html": [
       "<pre style=\"white-space:pre;overflow-x:auto;line-height:normal;font-family:Menlo,'DejaVu Sans Mono',consolas,'Courier New',monospace\"><span style=\"color: #7fbfbf; text-decoration-color: #7fbfbf\">                    </span><span style=\"color: #000080; text-decoration-color: #000080\">INFO    </span> Generating squiggle for test_read_13_43727664_43728314            <a href=\"file:///home/adoni5/Projects/Chapter_1_Data/read_identities/python_scripts/make_squiggle.py\" target=\"_blank\"><span style=\"color: #7f7f7f; text-decoration-color: #7f7f7f\">make_squiggle.py</span></a><span style=\"color: #7f7f7f; text-decoration-color: #7f7f7f\">:</span><a href=\"file:///home/adoni5/Projects/Chapter_1_Data/read_identities/python_scripts/make_squiggle.py#120\" target=\"_blank\"><span style=\"color: #7f7f7f; text-decoration-color: #7f7f7f\">120</span></a>\n",
       "</pre>\n"
      ],
      "text/plain": [
       "\u001b[2;36m                   \u001b[0m\u001b[2;36m \u001b[0m\u001b[34mINFO    \u001b[0m Generating squiggle for test_read_13_43727664_43728314            \u001b]8;id=986724;file:///home/adoni5/Projects/Chapter_1_Data/read_identities/python_scripts/make_squiggle.py\u001b\\\u001b[2mmake_squiggle.py\u001b[0m\u001b]8;;\u001b\\\u001b[2m:\u001b[0m\u001b]8;id=529237;file:///home/adoni5/Projects/Chapter_1_Data/read_identities/python_scripts/make_squiggle.py#120\u001b\\\u001b[2m120\u001b[0m\u001b]8;;\u001b\\\n"
      ]
     },
     "metadata": {},
     "output_type": "display_data"
    },
    {
     "data": {
      "text/html": [
       "<pre style=\"white-space:pre;overflow-x:auto;line-height:normal;font-family:Menlo,'DejaVu Sans Mono',consolas,'Courier New',monospace\"><span style=\"color: #7fbfbf; text-decoration-color: #7fbfbf\">                    </span><span style=\"color: #800000; text-decoration-color: #800000\">WARNING </span> File with name                                                    <a href=\"file:///home/adoni5/Projects/Chapter_1_Data/read_identities/python_scripts/make_squiggle.py\" target=\"_blank\"><span style=\"color: #7f7f7f; text-decoration-color: #7f7f7f\">make_squiggle.py</span></a><span style=\"color: #7f7f7f; text-decoration-color: #7f7f7f\">:</span><a href=\"file:///home/adoni5/Projects/Chapter_1_Data/read_identities/python_scripts/make_squiggle.py#145\" target=\"_blank\"><span style=\"color: #7f7f7f; text-decoration-color: #7f7f7f\">145</span></a>\n",
       "<span style=\"color: #7fbfbf; text-decoration-color: #7fbfbf\">                    </span>         raw_data/r9_squiggle/test_read_13_43727664_43728314.squiggle.npy  <span style=\"color: #7f7f7f; text-decoration-color: #7f7f7f\">                    </span>\n",
       "<span style=\"color: #7fbfbf; text-decoration-color: #7fbfbf\">                    </span>         already exists. Skipping<span style=\"color: #808000; text-decoration-color: #808000\">...</span>                                       <span style=\"color: #7f7f7f; text-decoration-color: #7f7f7f\">                    </span>\n",
       "</pre>\n"
      ],
      "text/plain": [
       "\u001b[2;36m                   \u001b[0m\u001b[2;36m \u001b[0m\u001b[31mWARNING \u001b[0m File with name                                                    \u001b]8;id=434555;file:///home/adoni5/Projects/Chapter_1_Data/read_identities/python_scripts/make_squiggle.py\u001b\\\u001b[2mmake_squiggle.py\u001b[0m\u001b]8;;\u001b\\\u001b[2m:\u001b[0m\u001b]8;id=362889;file:///home/adoni5/Projects/Chapter_1_Data/read_identities/python_scripts/make_squiggle.py#145\u001b\\\u001b[2m145\u001b[0m\u001b]8;;\u001b\\\n",
       "\u001b[2;36m                    \u001b[0m         raw_data/r9_squiggle/test_read_13_43727664_43728314.squiggle.npy  \u001b[2m                    \u001b[0m\n",
       "\u001b[2;36m                    \u001b[0m         already exists. Skipping\u001b[33m...\u001b[0m                                       \u001b[2m                    \u001b[0m\n"
      ]
     },
     "metadata": {},
     "output_type": "display_data"
    },
    {
     "data": {
      "text/html": [
       "<pre style=\"white-space:pre;overflow-x:auto;line-height:normal;font-family:Menlo,'DejaVu Sans Mono',consolas,'Courier New',monospace\"><span style=\"color: #7fbfbf; text-decoration-color: #7fbfbf\">                    </span><span style=\"color: #000080; text-decoration-color: #000080\">INFO    </span> Generating squiggle for test_read_14_25475546_25476246            <a href=\"file:///home/adoni5/Projects/Chapter_1_Data/read_identities/python_scripts/make_squiggle.py\" target=\"_blank\"><span style=\"color: #7f7f7f; text-decoration-color: #7f7f7f\">make_squiggle.py</span></a><span style=\"color: #7f7f7f; text-decoration-color: #7f7f7f\">:</span><a href=\"file:///home/adoni5/Projects/Chapter_1_Data/read_identities/python_scripts/make_squiggle.py#120\" target=\"_blank\"><span style=\"color: #7f7f7f; text-decoration-color: #7f7f7f\">120</span></a>\n",
       "</pre>\n"
      ],
      "text/plain": [
       "\u001b[2;36m                   \u001b[0m\u001b[2;36m \u001b[0m\u001b[34mINFO    \u001b[0m Generating squiggle for test_read_14_25475546_25476246            \u001b]8;id=824646;file:///home/adoni5/Projects/Chapter_1_Data/read_identities/python_scripts/make_squiggle.py\u001b\\\u001b[2mmake_squiggle.py\u001b[0m\u001b]8;;\u001b\\\u001b[2m:\u001b[0m\u001b]8;id=642202;file:///home/adoni5/Projects/Chapter_1_Data/read_identities/python_scripts/make_squiggle.py#120\u001b\\\u001b[2m120\u001b[0m\u001b]8;;\u001b\\\n"
      ]
     },
     "metadata": {},
     "output_type": "display_data"
    },
    {
     "data": {
      "text/html": [
       "<pre style=\"white-space:pre;overflow-x:auto;line-height:normal;font-family:Menlo,'DejaVu Sans Mono',consolas,'Courier New',monospace\"><span style=\"color: #7fbfbf; text-decoration-color: #7fbfbf\">                    </span><span style=\"color: #800000; text-decoration-color: #800000\">WARNING </span> File with name                                                    <a href=\"file:///home/adoni5/Projects/Chapter_1_Data/read_identities/python_scripts/make_squiggle.py\" target=\"_blank\"><span style=\"color: #7f7f7f; text-decoration-color: #7f7f7f\">make_squiggle.py</span></a><span style=\"color: #7f7f7f; text-decoration-color: #7f7f7f\">:</span><a href=\"file:///home/adoni5/Projects/Chapter_1_Data/read_identities/python_scripts/make_squiggle.py#145\" target=\"_blank\"><span style=\"color: #7f7f7f; text-decoration-color: #7f7f7f\">145</span></a>\n",
       "<span style=\"color: #7fbfbf; text-decoration-color: #7fbfbf\">                    </span>         raw_data/r9_squiggle/test_read_14_25475546_25476246.squiggle.npy  <span style=\"color: #7f7f7f; text-decoration-color: #7f7f7f\">                    </span>\n",
       "<span style=\"color: #7fbfbf; text-decoration-color: #7fbfbf\">                    </span>         already exists. Skipping<span style=\"color: #808000; text-decoration-color: #808000\">...</span>                                       <span style=\"color: #7f7f7f; text-decoration-color: #7f7f7f\">                    </span>\n",
       "</pre>\n"
      ],
      "text/plain": [
       "\u001b[2;36m                   \u001b[0m\u001b[2;36m \u001b[0m\u001b[31mWARNING \u001b[0m File with name                                                    \u001b]8;id=843652;file:///home/adoni5/Projects/Chapter_1_Data/read_identities/python_scripts/make_squiggle.py\u001b\\\u001b[2mmake_squiggle.py\u001b[0m\u001b]8;;\u001b\\\u001b[2m:\u001b[0m\u001b]8;id=240758;file:///home/adoni5/Projects/Chapter_1_Data/read_identities/python_scripts/make_squiggle.py#145\u001b\\\u001b[2m145\u001b[0m\u001b]8;;\u001b\\\n",
       "\u001b[2;36m                    \u001b[0m         raw_data/r9_squiggle/test_read_14_25475546_25476246.squiggle.npy  \u001b[2m                    \u001b[0m\n",
       "\u001b[2;36m                    \u001b[0m         already exists. Skipping\u001b[33m...\u001b[0m                                       \u001b[2m                    \u001b[0m\n"
      ]
     },
     "metadata": {},
     "output_type": "display_data"
    },
    {
     "data": {
      "text/html": [
       "<pre style=\"white-space:pre;overflow-x:auto;line-height:normal;font-family:Menlo,'DejaVu Sans Mono',consolas,'Courier New',monospace\"><span style=\"color: #7fbfbf; text-decoration-color: #7fbfbf\">                    </span><span style=\"color: #000080; text-decoration-color: #000080\">INFO    </span> Generating squiggle for test_read_15_52930328_52931078            <a href=\"file:///home/adoni5/Projects/Chapter_1_Data/read_identities/python_scripts/make_squiggle.py\" target=\"_blank\"><span style=\"color: #7f7f7f; text-decoration-color: #7f7f7f\">make_squiggle.py</span></a><span style=\"color: #7f7f7f; text-decoration-color: #7f7f7f\">:</span><a href=\"file:///home/adoni5/Projects/Chapter_1_Data/read_identities/python_scripts/make_squiggle.py#120\" target=\"_blank\"><span style=\"color: #7f7f7f; text-decoration-color: #7f7f7f\">120</span></a>\n",
       "</pre>\n"
      ],
      "text/plain": [
       "\u001b[2;36m                   \u001b[0m\u001b[2;36m \u001b[0m\u001b[34mINFO    \u001b[0m Generating squiggle for test_read_15_52930328_52931078            \u001b]8;id=189565;file:///home/adoni5/Projects/Chapter_1_Data/read_identities/python_scripts/make_squiggle.py\u001b\\\u001b[2mmake_squiggle.py\u001b[0m\u001b]8;;\u001b\\\u001b[2m:\u001b[0m\u001b]8;id=902833;file:///home/adoni5/Projects/Chapter_1_Data/read_identities/python_scripts/make_squiggle.py#120\u001b\\\u001b[2m120\u001b[0m\u001b]8;;\u001b\\\n"
      ]
     },
     "metadata": {},
     "output_type": "display_data"
    },
    {
     "data": {
      "text/html": [
       "<pre style=\"white-space:pre;overflow-x:auto;line-height:normal;font-family:Menlo,'DejaVu Sans Mono',consolas,'Courier New',monospace\"><span style=\"color: #7fbfbf; text-decoration-color: #7fbfbf\">                    </span><span style=\"color: #800000; text-decoration-color: #800000\">WARNING </span> File with name                                                    <a href=\"file:///home/adoni5/Projects/Chapter_1_Data/read_identities/python_scripts/make_squiggle.py\" target=\"_blank\"><span style=\"color: #7f7f7f; text-decoration-color: #7f7f7f\">make_squiggle.py</span></a><span style=\"color: #7f7f7f; text-decoration-color: #7f7f7f\">:</span><a href=\"file:///home/adoni5/Projects/Chapter_1_Data/read_identities/python_scripts/make_squiggle.py#145\" target=\"_blank\"><span style=\"color: #7f7f7f; text-decoration-color: #7f7f7f\">145</span></a>\n",
       "<span style=\"color: #7fbfbf; text-decoration-color: #7fbfbf\">                    </span>         raw_data/r9_squiggle/test_read_15_52930328_52931078.squiggle.npy  <span style=\"color: #7f7f7f; text-decoration-color: #7f7f7f\">                    </span>\n",
       "<span style=\"color: #7fbfbf; text-decoration-color: #7fbfbf\">                    </span>         already exists. Skipping<span style=\"color: #808000; text-decoration-color: #808000\">...</span>                                       <span style=\"color: #7f7f7f; text-decoration-color: #7f7f7f\">                    </span>\n",
       "</pre>\n"
      ],
      "text/plain": [
       "\u001b[2;36m                   \u001b[0m\u001b[2;36m \u001b[0m\u001b[31mWARNING \u001b[0m File with name                                                    \u001b]8;id=892625;file:///home/adoni5/Projects/Chapter_1_Data/read_identities/python_scripts/make_squiggle.py\u001b\\\u001b[2mmake_squiggle.py\u001b[0m\u001b]8;;\u001b\\\u001b[2m:\u001b[0m\u001b]8;id=856096;file:///home/adoni5/Projects/Chapter_1_Data/read_identities/python_scripts/make_squiggle.py#145\u001b\\\u001b[2m145\u001b[0m\u001b]8;;\u001b\\\n",
       "\u001b[2;36m                    \u001b[0m         raw_data/r9_squiggle/test_read_15_52930328_52931078.squiggle.npy  \u001b[2m                    \u001b[0m\n",
       "\u001b[2;36m                    \u001b[0m         already exists. Skipping\u001b[33m...\u001b[0m                                       \u001b[2m                    \u001b[0m\n"
      ]
     },
     "metadata": {},
     "output_type": "display_data"
    },
    {
     "data": {
      "text/html": [
       "<pre style=\"white-space:pre;overflow-x:auto;line-height:normal;font-family:Menlo,'DejaVu Sans Mono',consolas,'Courier New',monospace\"><span style=\"color: #7fbfbf; text-decoration-color: #7fbfbf\">                    </span><span style=\"color: #000080; text-decoration-color: #000080\">INFO    </span> Generating squiggle for test_read_16_14089828_14090628            <a href=\"file:///home/adoni5/Projects/Chapter_1_Data/read_identities/python_scripts/make_squiggle.py\" target=\"_blank\"><span style=\"color: #7f7f7f; text-decoration-color: #7f7f7f\">make_squiggle.py</span></a><span style=\"color: #7f7f7f; text-decoration-color: #7f7f7f\">:</span><a href=\"file:///home/adoni5/Projects/Chapter_1_Data/read_identities/python_scripts/make_squiggle.py#120\" target=\"_blank\"><span style=\"color: #7f7f7f; text-decoration-color: #7f7f7f\">120</span></a>\n",
       "</pre>\n"
      ],
      "text/plain": [
       "\u001b[2;36m                   \u001b[0m\u001b[2;36m \u001b[0m\u001b[34mINFO    \u001b[0m Generating squiggle for test_read_16_14089828_14090628            \u001b]8;id=989405;file:///home/adoni5/Projects/Chapter_1_Data/read_identities/python_scripts/make_squiggle.py\u001b\\\u001b[2mmake_squiggle.py\u001b[0m\u001b]8;;\u001b\\\u001b[2m:\u001b[0m\u001b]8;id=705810;file:///home/adoni5/Projects/Chapter_1_Data/read_identities/python_scripts/make_squiggle.py#120\u001b\\\u001b[2m120\u001b[0m\u001b]8;;\u001b\\\n"
      ]
     },
     "metadata": {},
     "output_type": "display_data"
    },
    {
     "data": {
      "text/html": [
       "<pre style=\"white-space:pre;overflow-x:auto;line-height:normal;font-family:Menlo,'DejaVu Sans Mono',consolas,'Courier New',monospace\"><span style=\"color: #7fbfbf; text-decoration-color: #7fbfbf\">                    </span><span style=\"color: #800000; text-decoration-color: #800000\">WARNING </span> File with name                                                    <a href=\"file:///home/adoni5/Projects/Chapter_1_Data/read_identities/python_scripts/make_squiggle.py\" target=\"_blank\"><span style=\"color: #7f7f7f; text-decoration-color: #7f7f7f\">make_squiggle.py</span></a><span style=\"color: #7f7f7f; text-decoration-color: #7f7f7f\">:</span><a href=\"file:///home/adoni5/Projects/Chapter_1_Data/read_identities/python_scripts/make_squiggle.py#145\" target=\"_blank\"><span style=\"color: #7f7f7f; text-decoration-color: #7f7f7f\">145</span></a>\n",
       "<span style=\"color: #7fbfbf; text-decoration-color: #7fbfbf\">                    </span>         raw_data/r9_squiggle/test_read_16_14089828_14090628.squiggle.npy  <span style=\"color: #7f7f7f; text-decoration-color: #7f7f7f\">                    </span>\n",
       "<span style=\"color: #7fbfbf; text-decoration-color: #7fbfbf\">                    </span>         already exists. Skipping<span style=\"color: #808000; text-decoration-color: #808000\">...</span>                                       <span style=\"color: #7f7f7f; text-decoration-color: #7f7f7f\">                    </span>\n",
       "</pre>\n"
      ],
      "text/plain": [
       "\u001b[2;36m                   \u001b[0m\u001b[2;36m \u001b[0m\u001b[31mWARNING \u001b[0m File with name                                                    \u001b]8;id=475003;file:///home/adoni5/Projects/Chapter_1_Data/read_identities/python_scripts/make_squiggle.py\u001b\\\u001b[2mmake_squiggle.py\u001b[0m\u001b]8;;\u001b\\\u001b[2m:\u001b[0m\u001b]8;id=15267;file:///home/adoni5/Projects/Chapter_1_Data/read_identities/python_scripts/make_squiggle.py#145\u001b\\\u001b[2m145\u001b[0m\u001b]8;;\u001b\\\n",
       "\u001b[2;36m                    \u001b[0m         raw_data/r9_squiggle/test_read_16_14089828_14090628.squiggle.npy  \u001b[2m                    \u001b[0m\n",
       "\u001b[2;36m                    \u001b[0m         already exists. Skipping\u001b[33m...\u001b[0m                                       \u001b[2m                    \u001b[0m\n"
      ]
     },
     "metadata": {},
     "output_type": "display_data"
    },
    {
     "data": {
      "text/html": [
       "<pre style=\"white-space:pre;overflow-x:auto;line-height:normal;font-family:Menlo,'DejaVu Sans Mono',consolas,'Courier New',monospace\"><span style=\"color: #7fbfbf; text-decoration-color: #7fbfbf\">                    </span><span style=\"color: #000080; text-decoration-color: #000080\">INFO    </span> Generating squiggle for test_read_17_6298810_6299660              <a href=\"file:///home/adoni5/Projects/Chapter_1_Data/read_identities/python_scripts/make_squiggle.py\" target=\"_blank\"><span style=\"color: #7f7f7f; text-decoration-color: #7f7f7f\">make_squiggle.py</span></a><span style=\"color: #7f7f7f; text-decoration-color: #7f7f7f\">:</span><a href=\"file:///home/adoni5/Projects/Chapter_1_Data/read_identities/python_scripts/make_squiggle.py#120\" target=\"_blank\"><span style=\"color: #7f7f7f; text-decoration-color: #7f7f7f\">120</span></a>\n",
       "</pre>\n"
      ],
      "text/plain": [
       "\u001b[2;36m                   \u001b[0m\u001b[2;36m \u001b[0m\u001b[34mINFO    \u001b[0m Generating squiggle for test_read_17_6298810_6299660              \u001b]8;id=281691;file:///home/adoni5/Projects/Chapter_1_Data/read_identities/python_scripts/make_squiggle.py\u001b\\\u001b[2mmake_squiggle.py\u001b[0m\u001b]8;;\u001b\\\u001b[2m:\u001b[0m\u001b]8;id=114807;file:///home/adoni5/Projects/Chapter_1_Data/read_identities/python_scripts/make_squiggle.py#120\u001b\\\u001b[2m120\u001b[0m\u001b]8;;\u001b\\\n"
      ]
     },
     "metadata": {},
     "output_type": "display_data"
    },
    {
     "data": {
      "text/html": [
       "<pre style=\"white-space:pre;overflow-x:auto;line-height:normal;font-family:Menlo,'DejaVu Sans Mono',consolas,'Courier New',monospace\"><span style=\"color: #7fbfbf; text-decoration-color: #7fbfbf\">                    </span><span style=\"color: #800000; text-decoration-color: #800000\">WARNING </span> File with name                                                    <a href=\"file:///home/adoni5/Projects/Chapter_1_Data/read_identities/python_scripts/make_squiggle.py\" target=\"_blank\"><span style=\"color: #7f7f7f; text-decoration-color: #7f7f7f\">make_squiggle.py</span></a><span style=\"color: #7f7f7f; text-decoration-color: #7f7f7f\">:</span><a href=\"file:///home/adoni5/Projects/Chapter_1_Data/read_identities/python_scripts/make_squiggle.py#145\" target=\"_blank\"><span style=\"color: #7f7f7f; text-decoration-color: #7f7f7f\">145</span></a>\n",
       "<span style=\"color: #7fbfbf; text-decoration-color: #7fbfbf\">                    </span>         raw_data/r9_squiggle/test_read_17_6298810_6299660.squiggle.npy    <span style=\"color: #7f7f7f; text-decoration-color: #7f7f7f\">                    </span>\n",
       "<span style=\"color: #7fbfbf; text-decoration-color: #7fbfbf\">                    </span>         already exists. Skipping<span style=\"color: #808000; text-decoration-color: #808000\">...</span>                                       <span style=\"color: #7f7f7f; text-decoration-color: #7f7f7f\">                    </span>\n",
       "</pre>\n"
      ],
      "text/plain": [
       "\u001b[2;36m                   \u001b[0m\u001b[2;36m \u001b[0m\u001b[31mWARNING \u001b[0m File with name                                                    \u001b]8;id=304385;file:///home/adoni5/Projects/Chapter_1_Data/read_identities/python_scripts/make_squiggle.py\u001b\\\u001b[2mmake_squiggle.py\u001b[0m\u001b]8;;\u001b\\\u001b[2m:\u001b[0m\u001b]8;id=72892;file:///home/adoni5/Projects/Chapter_1_Data/read_identities/python_scripts/make_squiggle.py#145\u001b\\\u001b[2m145\u001b[0m\u001b]8;;\u001b\\\n",
       "\u001b[2;36m                    \u001b[0m         raw_data/r9_squiggle/test_read_17_6298810_6299660.squiggle.npy    \u001b[2m                    \u001b[0m\n",
       "\u001b[2;36m                    \u001b[0m         already exists. Skipping\u001b[33m...\u001b[0m                                       \u001b[2m                    \u001b[0m\n"
      ]
     },
     "metadata": {},
     "output_type": "display_data"
    },
    {
     "data": {
      "text/html": [
       "<pre style=\"white-space:pre;overflow-x:auto;line-height:normal;font-family:Menlo,'DejaVu Sans Mono',consolas,'Courier New',monospace\"><span style=\"color: #7fbfbf; text-decoration-color: #7fbfbf\">                    </span><span style=\"color: #000080; text-decoration-color: #000080\">INFO    </span> Generating squiggle for test_read_18_32739506_32740406            <a href=\"file:///home/adoni5/Projects/Chapter_1_Data/read_identities/python_scripts/make_squiggle.py\" target=\"_blank\"><span style=\"color: #7f7f7f; text-decoration-color: #7f7f7f\">make_squiggle.py</span></a><span style=\"color: #7f7f7f; text-decoration-color: #7f7f7f\">:</span><a href=\"file:///home/adoni5/Projects/Chapter_1_Data/read_identities/python_scripts/make_squiggle.py#120\" target=\"_blank\"><span style=\"color: #7f7f7f; text-decoration-color: #7f7f7f\">120</span></a>\n",
       "</pre>\n"
      ],
      "text/plain": [
       "\u001b[2;36m                   \u001b[0m\u001b[2;36m \u001b[0m\u001b[34mINFO    \u001b[0m Generating squiggle for test_read_18_32739506_32740406            \u001b]8;id=998199;file:///home/adoni5/Projects/Chapter_1_Data/read_identities/python_scripts/make_squiggle.py\u001b\\\u001b[2mmake_squiggle.py\u001b[0m\u001b]8;;\u001b\\\u001b[2m:\u001b[0m\u001b]8;id=176312;file:///home/adoni5/Projects/Chapter_1_Data/read_identities/python_scripts/make_squiggle.py#120\u001b\\\u001b[2m120\u001b[0m\u001b]8;;\u001b\\\n"
      ]
     },
     "metadata": {},
     "output_type": "display_data"
    },
    {
     "data": {
      "text/html": [
       "<pre style=\"white-space:pre;overflow-x:auto;line-height:normal;font-family:Menlo,'DejaVu Sans Mono',consolas,'Courier New',monospace\"><span style=\"color: #7fbfbf; text-decoration-color: #7fbfbf\">                    </span><span style=\"color: #800000; text-decoration-color: #800000\">WARNING </span> File with name                                                    <a href=\"file:///home/adoni5/Projects/Chapter_1_Data/read_identities/python_scripts/make_squiggle.py\" target=\"_blank\"><span style=\"color: #7f7f7f; text-decoration-color: #7f7f7f\">make_squiggle.py</span></a><span style=\"color: #7f7f7f; text-decoration-color: #7f7f7f\">:</span><a href=\"file:///home/adoni5/Projects/Chapter_1_Data/read_identities/python_scripts/make_squiggle.py#145\" target=\"_blank\"><span style=\"color: #7f7f7f; text-decoration-color: #7f7f7f\">145</span></a>\n",
       "<span style=\"color: #7fbfbf; text-decoration-color: #7fbfbf\">                    </span>         raw_data/r9_squiggle/test_read_18_32739506_32740406.squiggle.npy  <span style=\"color: #7f7f7f; text-decoration-color: #7f7f7f\">                    </span>\n",
       "<span style=\"color: #7fbfbf; text-decoration-color: #7fbfbf\">                    </span>         already exists. Skipping<span style=\"color: #808000; text-decoration-color: #808000\">...</span>                                       <span style=\"color: #7f7f7f; text-decoration-color: #7f7f7f\">                    </span>\n",
       "</pre>\n"
      ],
      "text/plain": [
       "\u001b[2;36m                   \u001b[0m\u001b[2;36m \u001b[0m\u001b[31mWARNING \u001b[0m File with name                                                    \u001b]8;id=308798;file:///home/adoni5/Projects/Chapter_1_Data/read_identities/python_scripts/make_squiggle.py\u001b\\\u001b[2mmake_squiggle.py\u001b[0m\u001b]8;;\u001b\\\u001b[2m:\u001b[0m\u001b]8;id=476789;file:///home/adoni5/Projects/Chapter_1_Data/read_identities/python_scripts/make_squiggle.py#145\u001b\\\u001b[2m145\u001b[0m\u001b]8;;\u001b\\\n",
       "\u001b[2;36m                    \u001b[0m         raw_data/r9_squiggle/test_read_18_32739506_32740406.squiggle.npy  \u001b[2m                    \u001b[0m\n",
       "\u001b[2;36m                    \u001b[0m         already exists. Skipping\u001b[33m...\u001b[0m                                       \u001b[2m                    \u001b[0m\n"
      ]
     },
     "metadata": {},
     "output_type": "display_data"
    },
    {
     "data": {
      "text/html": [
       "<pre style=\"white-space:pre;overflow-x:auto;line-height:normal;font-family:Menlo,'DejaVu Sans Mono',consolas,'Courier New',monospace\"><span style=\"color: #7fbfbf; text-decoration-color: #7fbfbf\">                    </span><span style=\"color: #000080; text-decoration-color: #000080\">INFO    </span> Generating squiggle for test_read_19_1902366_1903316              <a href=\"file:///home/adoni5/Projects/Chapter_1_Data/read_identities/python_scripts/make_squiggle.py\" target=\"_blank\"><span style=\"color: #7f7f7f; text-decoration-color: #7f7f7f\">make_squiggle.py</span></a><span style=\"color: #7f7f7f; text-decoration-color: #7f7f7f\">:</span><a href=\"file:///home/adoni5/Projects/Chapter_1_Data/read_identities/python_scripts/make_squiggle.py#120\" target=\"_blank\"><span style=\"color: #7f7f7f; text-decoration-color: #7f7f7f\">120</span></a>\n",
       "</pre>\n"
      ],
      "text/plain": [
       "\u001b[2;36m                   \u001b[0m\u001b[2;36m \u001b[0m\u001b[34mINFO    \u001b[0m Generating squiggle for test_read_19_1902366_1903316              \u001b]8;id=119737;file:///home/adoni5/Projects/Chapter_1_Data/read_identities/python_scripts/make_squiggle.py\u001b\\\u001b[2mmake_squiggle.py\u001b[0m\u001b]8;;\u001b\\\u001b[2m:\u001b[0m\u001b]8;id=24782;file:///home/adoni5/Projects/Chapter_1_Data/read_identities/python_scripts/make_squiggle.py#120\u001b\\\u001b[2m120\u001b[0m\u001b]8;;\u001b\\\n"
      ]
     },
     "metadata": {},
     "output_type": "display_data"
    },
    {
     "data": {
      "text/html": [
       "<pre style=\"white-space:pre;overflow-x:auto;line-height:normal;font-family:Menlo,'DejaVu Sans Mono',consolas,'Courier New',monospace\"><span style=\"color: #7fbfbf; text-decoration-color: #7fbfbf\">                    </span><span style=\"color: #800000; text-decoration-color: #800000\">WARNING </span> File with name                                                    <a href=\"file:///home/adoni5/Projects/Chapter_1_Data/read_identities/python_scripts/make_squiggle.py\" target=\"_blank\"><span style=\"color: #7f7f7f; text-decoration-color: #7f7f7f\">make_squiggle.py</span></a><span style=\"color: #7f7f7f; text-decoration-color: #7f7f7f\">:</span><a href=\"file:///home/adoni5/Projects/Chapter_1_Data/read_identities/python_scripts/make_squiggle.py#145\" target=\"_blank\"><span style=\"color: #7f7f7f; text-decoration-color: #7f7f7f\">145</span></a>\n",
       "<span style=\"color: #7fbfbf; text-decoration-color: #7fbfbf\">                    </span>         raw_data/r9_squiggle/test_read_19_1902366_1903316.squiggle.npy    <span style=\"color: #7f7f7f; text-decoration-color: #7f7f7f\">                    </span>\n",
       "<span style=\"color: #7fbfbf; text-decoration-color: #7fbfbf\">                    </span>         already exists. Skipping<span style=\"color: #808000; text-decoration-color: #808000\">...</span>                                       <span style=\"color: #7f7f7f; text-decoration-color: #7f7f7f\">                    </span>\n",
       "</pre>\n"
      ],
      "text/plain": [
       "\u001b[2;36m                   \u001b[0m\u001b[2;36m \u001b[0m\u001b[31mWARNING \u001b[0m File with name                                                    \u001b]8;id=834879;file:///home/adoni5/Projects/Chapter_1_Data/read_identities/python_scripts/make_squiggle.py\u001b\\\u001b[2mmake_squiggle.py\u001b[0m\u001b]8;;\u001b\\\u001b[2m:\u001b[0m\u001b]8;id=197173;file:///home/adoni5/Projects/Chapter_1_Data/read_identities/python_scripts/make_squiggle.py#145\u001b\\\u001b[2m145\u001b[0m\u001b]8;;\u001b\\\n",
       "\u001b[2;36m                    \u001b[0m         raw_data/r9_squiggle/test_read_19_1902366_1903316.squiggle.npy    \u001b[2m                    \u001b[0m\n",
       "\u001b[2;36m                    \u001b[0m         already exists. Skipping\u001b[33m...\u001b[0m                                       \u001b[2m                    \u001b[0m\n"
      ]
     },
     "metadata": {},
     "output_type": "display_data"
    },
    {
     "data": {
      "text/html": [
       "<pre style=\"white-space:pre;overflow-x:auto;line-height:normal;font-family:Menlo,'DejaVu Sans Mono',consolas,'Courier New',monospace\"><span style=\"color: #7fbfbf; text-decoration-color: #7fbfbf\">                    </span><span style=\"color: #000080; text-decoration-color: #000080\">INFO    </span> Generating squiggle for test_read_20_59949491_59950491            <a href=\"file:///home/adoni5/Projects/Chapter_1_Data/read_identities/python_scripts/make_squiggle.py\" target=\"_blank\"><span style=\"color: #7f7f7f; text-decoration-color: #7f7f7f\">make_squiggle.py</span></a><span style=\"color: #7f7f7f; text-decoration-color: #7f7f7f\">:</span><a href=\"file:///home/adoni5/Projects/Chapter_1_Data/read_identities/python_scripts/make_squiggle.py#120\" target=\"_blank\"><span style=\"color: #7f7f7f; text-decoration-color: #7f7f7f\">120</span></a>\n",
       "</pre>\n"
      ],
      "text/plain": [
       "\u001b[2;36m                   \u001b[0m\u001b[2;36m \u001b[0m\u001b[34mINFO    \u001b[0m Generating squiggle for test_read_20_59949491_59950491            \u001b]8;id=765620;file:///home/adoni5/Projects/Chapter_1_Data/read_identities/python_scripts/make_squiggle.py\u001b\\\u001b[2mmake_squiggle.py\u001b[0m\u001b]8;;\u001b\\\u001b[2m:\u001b[0m\u001b]8;id=534895;file:///home/adoni5/Projects/Chapter_1_Data/read_identities/python_scripts/make_squiggle.py#120\u001b\\\u001b[2m120\u001b[0m\u001b]8;;\u001b\\\n"
      ]
     },
     "metadata": {},
     "output_type": "display_data"
    },
    {
     "data": {
      "text/html": [
       "<pre style=\"white-space:pre;overflow-x:auto;line-height:normal;font-family:Menlo,'DejaVu Sans Mono',consolas,'Courier New',monospace\"><span style=\"color: #7fbfbf; text-decoration-color: #7fbfbf\">                    </span><span style=\"color: #800000; text-decoration-color: #800000\">WARNING </span> File with name                                                    <a href=\"file:///home/adoni5/Projects/Chapter_1_Data/read_identities/python_scripts/make_squiggle.py\" target=\"_blank\"><span style=\"color: #7f7f7f; text-decoration-color: #7f7f7f\">make_squiggle.py</span></a><span style=\"color: #7f7f7f; text-decoration-color: #7f7f7f\">:</span><a href=\"file:///home/adoni5/Projects/Chapter_1_Data/read_identities/python_scripts/make_squiggle.py#145\" target=\"_blank\"><span style=\"color: #7f7f7f; text-decoration-color: #7f7f7f\">145</span></a>\n",
       "<span style=\"color: #7fbfbf; text-decoration-color: #7fbfbf\">                    </span>         raw_data/r9_squiggle/test_read_20_59949491_59950491.squiggle.npy  <span style=\"color: #7f7f7f; text-decoration-color: #7f7f7f\">                    </span>\n",
       "<span style=\"color: #7fbfbf; text-decoration-color: #7fbfbf\">                    </span>         already exists. Skipping<span style=\"color: #808000; text-decoration-color: #808000\">...</span>                                       <span style=\"color: #7f7f7f; text-decoration-color: #7f7f7f\">                    </span>\n",
       "</pre>\n"
      ],
      "text/plain": [
       "\u001b[2;36m                   \u001b[0m\u001b[2;36m \u001b[0m\u001b[31mWARNING \u001b[0m File with name                                                    \u001b]8;id=21829;file:///home/adoni5/Projects/Chapter_1_Data/read_identities/python_scripts/make_squiggle.py\u001b\\\u001b[2mmake_squiggle.py\u001b[0m\u001b]8;;\u001b\\\u001b[2m:\u001b[0m\u001b]8;id=236321;file:///home/adoni5/Projects/Chapter_1_Data/read_identities/python_scripts/make_squiggle.py#145\u001b\\\u001b[2m145\u001b[0m\u001b]8;;\u001b\\\n",
       "\u001b[2;36m                    \u001b[0m         raw_data/r9_squiggle/test_read_20_59949491_59950491.squiggle.npy  \u001b[2m                    \u001b[0m\n",
       "\u001b[2;36m                    \u001b[0m         already exists. Skipping\u001b[33m...\u001b[0m                                       \u001b[2m                    \u001b[0m\n"
      ]
     },
     "metadata": {},
     "output_type": "display_data"
    },
    {
     "data": {
      "text/html": [
       "<pre style=\"white-space:pre;overflow-x:auto;line-height:normal;font-family:Menlo,'DejaVu Sans Mono',consolas,'Courier New',monospace\"><span style=\"color: #7fbfbf; text-decoration-color: #7fbfbf\">                    </span><span style=\"color: #000080; text-decoration-color: #000080\">INFO    </span> Generating squiggle for test_read_21_56087246_56088296            <a href=\"file:///home/adoni5/Projects/Chapter_1_Data/read_identities/python_scripts/make_squiggle.py\" target=\"_blank\"><span style=\"color: #7f7f7f; text-decoration-color: #7f7f7f\">make_squiggle.py</span></a><span style=\"color: #7f7f7f; text-decoration-color: #7f7f7f\">:</span><a href=\"file:///home/adoni5/Projects/Chapter_1_Data/read_identities/python_scripts/make_squiggle.py#120\" target=\"_blank\"><span style=\"color: #7f7f7f; text-decoration-color: #7f7f7f\">120</span></a>\n",
       "</pre>\n"
      ],
      "text/plain": [
       "\u001b[2;36m                   \u001b[0m\u001b[2;36m \u001b[0m\u001b[34mINFO    \u001b[0m Generating squiggle for test_read_21_56087246_56088296            \u001b]8;id=753753;file:///home/adoni5/Projects/Chapter_1_Data/read_identities/python_scripts/make_squiggle.py\u001b\\\u001b[2mmake_squiggle.py\u001b[0m\u001b]8;;\u001b\\\u001b[2m:\u001b[0m\u001b]8;id=168010;file:///home/adoni5/Projects/Chapter_1_Data/read_identities/python_scripts/make_squiggle.py#120\u001b\\\u001b[2m120\u001b[0m\u001b]8;;\u001b\\\n"
      ]
     },
     "metadata": {},
     "output_type": "display_data"
    },
    {
     "data": {
      "text/html": [
       "<pre style=\"white-space:pre;overflow-x:auto;line-height:normal;font-family:Menlo,'DejaVu Sans Mono',consolas,'Courier New',monospace\"><span style=\"color: #7fbfbf; text-decoration-color: #7fbfbf\">                    </span><span style=\"color: #800000; text-decoration-color: #800000\">WARNING </span> File with name                                                    <a href=\"file:///home/adoni5/Projects/Chapter_1_Data/read_identities/python_scripts/make_squiggle.py\" target=\"_blank\"><span style=\"color: #7f7f7f; text-decoration-color: #7f7f7f\">make_squiggle.py</span></a><span style=\"color: #7f7f7f; text-decoration-color: #7f7f7f\">:</span><a href=\"file:///home/adoni5/Projects/Chapter_1_Data/read_identities/python_scripts/make_squiggle.py#145\" target=\"_blank\"><span style=\"color: #7f7f7f; text-decoration-color: #7f7f7f\">145</span></a>\n",
       "<span style=\"color: #7fbfbf; text-decoration-color: #7fbfbf\">                    </span>         raw_data/r9_squiggle/test_read_21_56087246_56088296.squiggle.npy  <span style=\"color: #7f7f7f; text-decoration-color: #7f7f7f\">                    </span>\n",
       "<span style=\"color: #7fbfbf; text-decoration-color: #7fbfbf\">                    </span>         already exists. Skipping<span style=\"color: #808000; text-decoration-color: #808000\">...</span>                                       <span style=\"color: #7f7f7f; text-decoration-color: #7f7f7f\">                    </span>\n",
       "</pre>\n"
      ],
      "text/plain": [
       "\u001b[2;36m                   \u001b[0m\u001b[2;36m \u001b[0m\u001b[31mWARNING \u001b[0m File with name                                                    \u001b]8;id=447390;file:///home/adoni5/Projects/Chapter_1_Data/read_identities/python_scripts/make_squiggle.py\u001b\\\u001b[2mmake_squiggle.py\u001b[0m\u001b]8;;\u001b\\\u001b[2m:\u001b[0m\u001b]8;id=571161;file:///home/adoni5/Projects/Chapter_1_Data/read_identities/python_scripts/make_squiggle.py#145\u001b\\\u001b[2m145\u001b[0m\u001b]8;;\u001b\\\n",
       "\u001b[2;36m                    \u001b[0m         raw_data/r9_squiggle/test_read_21_56087246_56088296.squiggle.npy  \u001b[2m                    \u001b[0m\n",
       "\u001b[2;36m                    \u001b[0m         already exists. Skipping\u001b[33m...\u001b[0m                                       \u001b[2m                    \u001b[0m\n"
      ]
     },
     "metadata": {},
     "output_type": "display_data"
    },
    {
     "data": {
      "text/html": [
       "<pre style=\"white-space:pre;overflow-x:auto;line-height:normal;font-family:Menlo,'DejaVu Sans Mono',consolas,'Courier New',monospace\"><span style=\"color: #7fbfbf; text-decoration-color: #7fbfbf\">                    </span><span style=\"color: #000080; text-decoration-color: #000080\">INFO    </span> Generating squiggle for test_read_22_26159626_26160726            <a href=\"file:///home/adoni5/Projects/Chapter_1_Data/read_identities/python_scripts/make_squiggle.py\" target=\"_blank\"><span style=\"color: #7f7f7f; text-decoration-color: #7f7f7f\">make_squiggle.py</span></a><span style=\"color: #7f7f7f; text-decoration-color: #7f7f7f\">:</span><a href=\"file:///home/adoni5/Projects/Chapter_1_Data/read_identities/python_scripts/make_squiggle.py#120\" target=\"_blank\"><span style=\"color: #7f7f7f; text-decoration-color: #7f7f7f\">120</span></a>\n",
       "</pre>\n"
      ],
      "text/plain": [
       "\u001b[2;36m                   \u001b[0m\u001b[2;36m \u001b[0m\u001b[34mINFO    \u001b[0m Generating squiggle for test_read_22_26159626_26160726            \u001b]8;id=728813;file:///home/adoni5/Projects/Chapter_1_Data/read_identities/python_scripts/make_squiggle.py\u001b\\\u001b[2mmake_squiggle.py\u001b[0m\u001b]8;;\u001b\\\u001b[2m:\u001b[0m\u001b]8;id=541693;file:///home/adoni5/Projects/Chapter_1_Data/read_identities/python_scripts/make_squiggle.py#120\u001b\\\u001b[2m120\u001b[0m\u001b]8;;\u001b\\\n"
      ]
     },
     "metadata": {},
     "output_type": "display_data"
    },
    {
     "data": {
      "text/html": [
       "<pre style=\"white-space:pre;overflow-x:auto;line-height:normal;font-family:Menlo,'DejaVu Sans Mono',consolas,'Courier New',monospace\"><span style=\"color: #7fbfbf; text-decoration-color: #7fbfbf\">                    </span><span style=\"color: #800000; text-decoration-color: #800000\">WARNING </span> File with name                                                    <a href=\"file:///home/adoni5/Projects/Chapter_1_Data/read_identities/python_scripts/make_squiggle.py\" target=\"_blank\"><span style=\"color: #7f7f7f; text-decoration-color: #7f7f7f\">make_squiggle.py</span></a><span style=\"color: #7f7f7f; text-decoration-color: #7f7f7f\">:</span><a href=\"file:///home/adoni5/Projects/Chapter_1_Data/read_identities/python_scripts/make_squiggle.py#145\" target=\"_blank\"><span style=\"color: #7f7f7f; text-decoration-color: #7f7f7f\">145</span></a>\n",
       "<span style=\"color: #7fbfbf; text-decoration-color: #7fbfbf\">                    </span>         raw_data/r9_squiggle/test_read_22_26159626_26160726.squiggle.npy  <span style=\"color: #7f7f7f; text-decoration-color: #7f7f7f\">                    </span>\n",
       "<span style=\"color: #7fbfbf; text-decoration-color: #7fbfbf\">                    </span>         already exists. Skipping<span style=\"color: #808000; text-decoration-color: #808000\">...</span>                                       <span style=\"color: #7f7f7f; text-decoration-color: #7f7f7f\">                    </span>\n",
       "</pre>\n"
      ],
      "text/plain": [
       "\u001b[2;36m                   \u001b[0m\u001b[2;36m \u001b[0m\u001b[31mWARNING \u001b[0m File with name                                                    \u001b]8;id=32191;file:///home/adoni5/Projects/Chapter_1_Data/read_identities/python_scripts/make_squiggle.py\u001b\\\u001b[2mmake_squiggle.py\u001b[0m\u001b]8;;\u001b\\\u001b[2m:\u001b[0m\u001b]8;id=414080;file:///home/adoni5/Projects/Chapter_1_Data/read_identities/python_scripts/make_squiggle.py#145\u001b\\\u001b[2m145\u001b[0m\u001b]8;;\u001b\\\n",
       "\u001b[2;36m                    \u001b[0m         raw_data/r9_squiggle/test_read_22_26159626_26160726.squiggle.npy  \u001b[2m                    \u001b[0m\n",
       "\u001b[2;36m                    \u001b[0m         already exists. Skipping\u001b[33m...\u001b[0m                                       \u001b[2m                    \u001b[0m\n"
      ]
     },
     "metadata": {},
     "output_type": "display_data"
    },
    {
     "data": {
      "text/html": [
       "<pre style=\"white-space:pre;overflow-x:auto;line-height:normal;font-family:Menlo,'DejaVu Sans Mono',consolas,'Courier New',monospace\"><span style=\"color: #7fbfbf; text-decoration-color: #7fbfbf\">                    </span><span style=\"color: #000080; text-decoration-color: #000080\">INFO    </span> Generating squiggle for test_read_23_29042506_29043656            <a href=\"file:///home/adoni5/Projects/Chapter_1_Data/read_identities/python_scripts/make_squiggle.py\" target=\"_blank\"><span style=\"color: #7f7f7f; text-decoration-color: #7f7f7f\">make_squiggle.py</span></a><span style=\"color: #7f7f7f; text-decoration-color: #7f7f7f\">:</span><a href=\"file:///home/adoni5/Projects/Chapter_1_Data/read_identities/python_scripts/make_squiggle.py#120\" target=\"_blank\"><span style=\"color: #7f7f7f; text-decoration-color: #7f7f7f\">120</span></a>\n",
       "</pre>\n"
      ],
      "text/plain": [
       "\u001b[2;36m                   \u001b[0m\u001b[2;36m \u001b[0m\u001b[34mINFO    \u001b[0m Generating squiggle for test_read_23_29042506_29043656            \u001b]8;id=691875;file:///home/adoni5/Projects/Chapter_1_Data/read_identities/python_scripts/make_squiggle.py\u001b\\\u001b[2mmake_squiggle.py\u001b[0m\u001b]8;;\u001b\\\u001b[2m:\u001b[0m\u001b]8;id=661596;file:///home/adoni5/Projects/Chapter_1_Data/read_identities/python_scripts/make_squiggle.py#120\u001b\\\u001b[2m120\u001b[0m\u001b]8;;\u001b\\\n"
      ]
     },
     "metadata": {},
     "output_type": "display_data"
    },
    {
     "data": {
      "text/html": [
       "<pre style=\"white-space:pre;overflow-x:auto;line-height:normal;font-family:Menlo,'DejaVu Sans Mono',consolas,'Courier New',monospace\"><span style=\"color: #7fbfbf; text-decoration-color: #7fbfbf\">                    </span><span style=\"color: #800000; text-decoration-color: #800000\">WARNING </span> File with name                                                    <a href=\"file:///home/adoni5/Projects/Chapter_1_Data/read_identities/python_scripts/make_squiggle.py\" target=\"_blank\"><span style=\"color: #7f7f7f; text-decoration-color: #7f7f7f\">make_squiggle.py</span></a><span style=\"color: #7f7f7f; text-decoration-color: #7f7f7f\">:</span><a href=\"file:///home/adoni5/Projects/Chapter_1_Data/read_identities/python_scripts/make_squiggle.py#145\" target=\"_blank\"><span style=\"color: #7f7f7f; text-decoration-color: #7f7f7f\">145</span></a>\n",
       "<span style=\"color: #7fbfbf; text-decoration-color: #7fbfbf\">                    </span>         raw_data/r9_squiggle/test_read_23_29042506_29043656.squiggle.npy  <span style=\"color: #7f7f7f; text-decoration-color: #7f7f7f\">                    </span>\n",
       "<span style=\"color: #7fbfbf; text-decoration-color: #7fbfbf\">                    </span>         already exists. Skipping<span style=\"color: #808000; text-decoration-color: #808000\">...</span>                                       <span style=\"color: #7f7f7f; text-decoration-color: #7f7f7f\">                    </span>\n",
       "</pre>\n"
      ],
      "text/plain": [
       "\u001b[2;36m                   \u001b[0m\u001b[2;36m \u001b[0m\u001b[31mWARNING \u001b[0m File with name                                                    \u001b]8;id=131788;file:///home/adoni5/Projects/Chapter_1_Data/read_identities/python_scripts/make_squiggle.py\u001b\\\u001b[2mmake_squiggle.py\u001b[0m\u001b]8;;\u001b\\\u001b[2m:\u001b[0m\u001b]8;id=222436;file:///home/adoni5/Projects/Chapter_1_Data/read_identities/python_scripts/make_squiggle.py#145\u001b\\\u001b[2m145\u001b[0m\u001b]8;;\u001b\\\n",
       "\u001b[2;36m                    \u001b[0m         raw_data/r9_squiggle/test_read_23_29042506_29043656.squiggle.npy  \u001b[2m                    \u001b[0m\n",
       "\u001b[2;36m                    \u001b[0m         already exists. Skipping\u001b[33m...\u001b[0m                                       \u001b[2m                    \u001b[0m\n"
      ]
     },
     "metadata": {},
     "output_type": "display_data"
    },
    {
     "data": {
      "text/html": [
       "<pre style=\"white-space:pre;overflow-x:auto;line-height:normal;font-family:Menlo,'DejaVu Sans Mono',consolas,'Courier New',monospace\"><span style=\"color: #7fbfbf; text-decoration-color: #7fbfbf\">                    </span><span style=\"color: #000080; text-decoration-color: #000080\">INFO    </span> Generating squiggle for test_read_24_40764473_40765673            <a href=\"file:///home/adoni5/Projects/Chapter_1_Data/read_identities/python_scripts/make_squiggle.py\" target=\"_blank\"><span style=\"color: #7f7f7f; text-decoration-color: #7f7f7f\">make_squiggle.py</span></a><span style=\"color: #7f7f7f; text-decoration-color: #7f7f7f\">:</span><a href=\"file:///home/adoni5/Projects/Chapter_1_Data/read_identities/python_scripts/make_squiggle.py#120\" target=\"_blank\"><span style=\"color: #7f7f7f; text-decoration-color: #7f7f7f\">120</span></a>\n",
       "</pre>\n"
      ],
      "text/plain": [
       "\u001b[2;36m                   \u001b[0m\u001b[2;36m \u001b[0m\u001b[34mINFO    \u001b[0m Generating squiggle for test_read_24_40764473_40765673            \u001b]8;id=900217;file:///home/adoni5/Projects/Chapter_1_Data/read_identities/python_scripts/make_squiggle.py\u001b\\\u001b[2mmake_squiggle.py\u001b[0m\u001b]8;;\u001b\\\u001b[2m:\u001b[0m\u001b]8;id=80159;file:///home/adoni5/Projects/Chapter_1_Data/read_identities/python_scripts/make_squiggle.py#120\u001b\\\u001b[2m120\u001b[0m\u001b]8;;\u001b\\\n"
      ]
     },
     "metadata": {},
     "output_type": "display_data"
    },
    {
     "data": {
      "text/html": [
       "<pre style=\"white-space:pre;overflow-x:auto;line-height:normal;font-family:Menlo,'DejaVu Sans Mono',consolas,'Courier New',monospace\"><span style=\"color: #7fbfbf; text-decoration-color: #7fbfbf\">                    </span><span style=\"color: #800000; text-decoration-color: #800000\">WARNING </span> File with name                                                    <a href=\"file:///home/adoni5/Projects/Chapter_1_Data/read_identities/python_scripts/make_squiggle.py\" target=\"_blank\"><span style=\"color: #7f7f7f; text-decoration-color: #7f7f7f\">make_squiggle.py</span></a><span style=\"color: #7f7f7f; text-decoration-color: #7f7f7f\">:</span><a href=\"file:///home/adoni5/Projects/Chapter_1_Data/read_identities/python_scripts/make_squiggle.py#145\" target=\"_blank\"><span style=\"color: #7f7f7f; text-decoration-color: #7f7f7f\">145</span></a>\n",
       "<span style=\"color: #7fbfbf; text-decoration-color: #7fbfbf\">                    </span>         raw_data/r9_squiggle/test_read_24_40764473_40765673.squiggle.npy  <span style=\"color: #7f7f7f; text-decoration-color: #7f7f7f\">                    </span>\n",
       "<span style=\"color: #7fbfbf; text-decoration-color: #7fbfbf\">                    </span>         already exists. Skipping<span style=\"color: #808000; text-decoration-color: #808000\">...</span>                                       <span style=\"color: #7f7f7f; text-decoration-color: #7f7f7f\">                    </span>\n",
       "</pre>\n"
      ],
      "text/plain": [
       "\u001b[2;36m                   \u001b[0m\u001b[2;36m \u001b[0m\u001b[31mWARNING \u001b[0m File with name                                                    \u001b]8;id=779974;file:///home/adoni5/Projects/Chapter_1_Data/read_identities/python_scripts/make_squiggle.py\u001b\\\u001b[2mmake_squiggle.py\u001b[0m\u001b]8;;\u001b\\\u001b[2m:\u001b[0m\u001b]8;id=165892;file:///home/adoni5/Projects/Chapter_1_Data/read_identities/python_scripts/make_squiggle.py#145\u001b\\\u001b[2m145\u001b[0m\u001b]8;;\u001b\\\n",
       "\u001b[2;36m                    \u001b[0m         raw_data/r9_squiggle/test_read_24_40764473_40765673.squiggle.npy  \u001b[2m                    \u001b[0m\n",
       "\u001b[2;36m                    \u001b[0m         already exists. Skipping\u001b[33m...\u001b[0m                                       \u001b[2m                    \u001b[0m\n"
      ]
     },
     "metadata": {},
     "output_type": "display_data"
    },
    {
     "data": {
      "text/html": [
       "<pre style=\"white-space:pre;overflow-x:auto;line-height:normal;font-family:Menlo,'DejaVu Sans Mono',consolas,'Courier New',monospace\"><span style=\"color: #7fbfbf; text-decoration-color: #7fbfbf\">                    </span><span style=\"color: #000080; text-decoration-color: #000080\">INFO    </span> Generating squiggle for test_read_25_51155750_51157000            <a href=\"file:///home/adoni5/Projects/Chapter_1_Data/read_identities/python_scripts/make_squiggle.py\" target=\"_blank\"><span style=\"color: #7f7f7f; text-decoration-color: #7f7f7f\">make_squiggle.py</span></a><span style=\"color: #7f7f7f; text-decoration-color: #7f7f7f\">:</span><a href=\"file:///home/adoni5/Projects/Chapter_1_Data/read_identities/python_scripts/make_squiggle.py#120\" target=\"_blank\"><span style=\"color: #7f7f7f; text-decoration-color: #7f7f7f\">120</span></a>\n",
       "</pre>\n"
      ],
      "text/plain": [
       "\u001b[2;36m                   \u001b[0m\u001b[2;36m \u001b[0m\u001b[34mINFO    \u001b[0m Generating squiggle for test_read_25_51155750_51157000            \u001b]8;id=8892;file:///home/adoni5/Projects/Chapter_1_Data/read_identities/python_scripts/make_squiggle.py\u001b\\\u001b[2mmake_squiggle.py\u001b[0m\u001b]8;;\u001b\\\u001b[2m:\u001b[0m\u001b]8;id=587954;file:///home/adoni5/Projects/Chapter_1_Data/read_identities/python_scripts/make_squiggle.py#120\u001b\\\u001b[2m120\u001b[0m\u001b]8;;\u001b\\\n"
      ]
     },
     "metadata": {},
     "output_type": "display_data"
    },
    {
     "data": {
      "text/html": [
       "<pre style=\"white-space:pre;overflow-x:auto;line-height:normal;font-family:Menlo,'DejaVu Sans Mono',consolas,'Courier New',monospace\"><span style=\"color: #7fbfbf; text-decoration-color: #7fbfbf\">                    </span><span style=\"color: #800000; text-decoration-color: #800000\">WARNING </span> File with name                                                    <a href=\"file:///home/adoni5/Projects/Chapter_1_Data/read_identities/python_scripts/make_squiggle.py\" target=\"_blank\"><span style=\"color: #7f7f7f; text-decoration-color: #7f7f7f\">make_squiggle.py</span></a><span style=\"color: #7f7f7f; text-decoration-color: #7f7f7f\">:</span><a href=\"file:///home/adoni5/Projects/Chapter_1_Data/read_identities/python_scripts/make_squiggle.py#145\" target=\"_blank\"><span style=\"color: #7f7f7f; text-decoration-color: #7f7f7f\">145</span></a>\n",
       "<span style=\"color: #7fbfbf; text-decoration-color: #7fbfbf\">                    </span>         raw_data/r9_squiggle/test_read_25_51155750_51157000.squiggle.npy  <span style=\"color: #7f7f7f; text-decoration-color: #7f7f7f\">                    </span>\n",
       "<span style=\"color: #7fbfbf; text-decoration-color: #7fbfbf\">                    </span>         already exists. Skipping<span style=\"color: #808000; text-decoration-color: #808000\">...</span>                                       <span style=\"color: #7f7f7f; text-decoration-color: #7f7f7f\">                    </span>\n",
       "</pre>\n"
      ],
      "text/plain": [
       "\u001b[2;36m                   \u001b[0m\u001b[2;36m \u001b[0m\u001b[31mWARNING \u001b[0m File with name                                                    \u001b]8;id=859217;file:///home/adoni5/Projects/Chapter_1_Data/read_identities/python_scripts/make_squiggle.py\u001b\\\u001b[2mmake_squiggle.py\u001b[0m\u001b]8;;\u001b\\\u001b[2m:\u001b[0m\u001b]8;id=228160;file:///home/adoni5/Projects/Chapter_1_Data/read_identities/python_scripts/make_squiggle.py#145\u001b\\\u001b[2m145\u001b[0m\u001b]8;;\u001b\\\n",
       "\u001b[2;36m                    \u001b[0m         raw_data/r9_squiggle/test_read_25_51155750_51157000.squiggle.npy  \u001b[2m                    \u001b[0m\n",
       "\u001b[2;36m                    \u001b[0m         already exists. Skipping\u001b[33m...\u001b[0m                                       \u001b[2m                    \u001b[0m\n"
      ]
     },
     "metadata": {},
     "output_type": "display_data"
    },
    {
     "data": {
      "text/html": [
       "<pre style=\"white-space:pre;overflow-x:auto;line-height:normal;font-family:Menlo,'DejaVu Sans Mono',consolas,'Courier New',monospace\"><span style=\"color: #7fbfbf; text-decoration-color: #7fbfbf\">                    </span><span style=\"color: #000080; text-decoration-color: #000080\">INFO    </span> Generating squiggle for test_read_26_51483077_51484377            <a href=\"file:///home/adoni5/Projects/Chapter_1_Data/read_identities/python_scripts/make_squiggle.py\" target=\"_blank\"><span style=\"color: #7f7f7f; text-decoration-color: #7f7f7f\">make_squiggle.py</span></a><span style=\"color: #7f7f7f; text-decoration-color: #7f7f7f\">:</span><a href=\"file:///home/adoni5/Projects/Chapter_1_Data/read_identities/python_scripts/make_squiggle.py#120\" target=\"_blank\"><span style=\"color: #7f7f7f; text-decoration-color: #7f7f7f\">120</span></a>\n",
       "</pre>\n"
      ],
      "text/plain": [
       "\u001b[2;36m                   \u001b[0m\u001b[2;36m \u001b[0m\u001b[34mINFO    \u001b[0m Generating squiggle for test_read_26_51483077_51484377            \u001b]8;id=868129;file:///home/adoni5/Projects/Chapter_1_Data/read_identities/python_scripts/make_squiggle.py\u001b\\\u001b[2mmake_squiggle.py\u001b[0m\u001b]8;;\u001b\\\u001b[2m:\u001b[0m\u001b]8;id=909934;file:///home/adoni5/Projects/Chapter_1_Data/read_identities/python_scripts/make_squiggle.py#120\u001b\\\u001b[2m120\u001b[0m\u001b]8;;\u001b\\\n"
      ]
     },
     "metadata": {},
     "output_type": "display_data"
    },
    {
     "data": {
      "text/html": [
       "<pre style=\"white-space:pre;overflow-x:auto;line-height:normal;font-family:Menlo,'DejaVu Sans Mono',consolas,'Courier New',monospace\"><span style=\"color: #7fbfbf; text-decoration-color: #7fbfbf\">                    </span><span style=\"color: #800000; text-decoration-color: #800000\">WARNING </span> File with name                                                    <a href=\"file:///home/adoni5/Projects/Chapter_1_Data/read_identities/python_scripts/make_squiggle.py\" target=\"_blank\"><span style=\"color: #7f7f7f; text-decoration-color: #7f7f7f\">make_squiggle.py</span></a><span style=\"color: #7f7f7f; text-decoration-color: #7f7f7f\">:</span><a href=\"file:///home/adoni5/Projects/Chapter_1_Data/read_identities/python_scripts/make_squiggle.py#145\" target=\"_blank\"><span style=\"color: #7f7f7f; text-decoration-color: #7f7f7f\">145</span></a>\n",
       "<span style=\"color: #7fbfbf; text-decoration-color: #7fbfbf\">                    </span>         raw_data/r9_squiggle/test_read_26_51483077_51484377.squiggle.npy  <span style=\"color: #7f7f7f; text-decoration-color: #7f7f7f\">                    </span>\n",
       "<span style=\"color: #7fbfbf; text-decoration-color: #7fbfbf\">                    </span>         already exists. Skipping<span style=\"color: #808000; text-decoration-color: #808000\">...</span>                                       <span style=\"color: #7f7f7f; text-decoration-color: #7f7f7f\">                    </span>\n",
       "</pre>\n"
      ],
      "text/plain": [
       "\u001b[2;36m                   \u001b[0m\u001b[2;36m \u001b[0m\u001b[31mWARNING \u001b[0m File with name                                                    \u001b]8;id=533592;file:///home/adoni5/Projects/Chapter_1_Data/read_identities/python_scripts/make_squiggle.py\u001b\\\u001b[2mmake_squiggle.py\u001b[0m\u001b]8;;\u001b\\\u001b[2m:\u001b[0m\u001b]8;id=39241;file:///home/adoni5/Projects/Chapter_1_Data/read_identities/python_scripts/make_squiggle.py#145\u001b\\\u001b[2m145\u001b[0m\u001b]8;;\u001b\\\n",
       "\u001b[2;36m                    \u001b[0m         raw_data/r9_squiggle/test_read_26_51483077_51484377.squiggle.npy  \u001b[2m                    \u001b[0m\n",
       "\u001b[2;36m                    \u001b[0m         already exists. Skipping\u001b[33m...\u001b[0m                                       \u001b[2m                    \u001b[0m\n"
      ]
     },
     "metadata": {},
     "output_type": "display_data"
    },
    {
     "data": {
      "text/html": [
       "<pre style=\"white-space:pre;overflow-x:auto;line-height:normal;font-family:Menlo,'DejaVu Sans Mono',consolas,'Courier New',monospace\"><span style=\"color: #7fbfbf; text-decoration-color: #7fbfbf\">                    </span><span style=\"color: #000080; text-decoration-color: #000080\">INFO    </span> Generating squiggle for test_read_27_141334_142684                <a href=\"file:///home/adoni5/Projects/Chapter_1_Data/read_identities/python_scripts/make_squiggle.py\" target=\"_blank\"><span style=\"color: #7f7f7f; text-decoration-color: #7f7f7f\">make_squiggle.py</span></a><span style=\"color: #7f7f7f; text-decoration-color: #7f7f7f\">:</span><a href=\"file:///home/adoni5/Projects/Chapter_1_Data/read_identities/python_scripts/make_squiggle.py#120\" target=\"_blank\"><span style=\"color: #7f7f7f; text-decoration-color: #7f7f7f\">120</span></a>\n",
       "</pre>\n"
      ],
      "text/plain": [
       "\u001b[2;36m                   \u001b[0m\u001b[2;36m \u001b[0m\u001b[34mINFO    \u001b[0m Generating squiggle for test_read_27_141334_142684                \u001b]8;id=215756;file:///home/adoni5/Projects/Chapter_1_Data/read_identities/python_scripts/make_squiggle.py\u001b\\\u001b[2mmake_squiggle.py\u001b[0m\u001b]8;;\u001b\\\u001b[2m:\u001b[0m\u001b]8;id=601235;file:///home/adoni5/Projects/Chapter_1_Data/read_identities/python_scripts/make_squiggle.py#120\u001b\\\u001b[2m120\u001b[0m\u001b]8;;\u001b\\\n"
      ]
     },
     "metadata": {},
     "output_type": "display_data"
    },
    {
     "data": {
      "text/html": [
       "<pre style=\"white-space:pre;overflow-x:auto;line-height:normal;font-family:Menlo,'DejaVu Sans Mono',consolas,'Courier New',monospace\"><span style=\"color: #7fbfbf; text-decoration-color: #7fbfbf\">                    </span><span style=\"color: #800000; text-decoration-color: #800000\">WARNING </span> File with name                                                    <a href=\"file:///home/adoni5/Projects/Chapter_1_Data/read_identities/python_scripts/make_squiggle.py\" target=\"_blank\"><span style=\"color: #7f7f7f; text-decoration-color: #7f7f7f\">make_squiggle.py</span></a><span style=\"color: #7f7f7f; text-decoration-color: #7f7f7f\">:</span><a href=\"file:///home/adoni5/Projects/Chapter_1_Data/read_identities/python_scripts/make_squiggle.py#145\" target=\"_blank\"><span style=\"color: #7f7f7f; text-decoration-color: #7f7f7f\">145</span></a>\n",
       "<span style=\"color: #7fbfbf; text-decoration-color: #7fbfbf\">                    </span>         raw_data/r9_squiggle/test_read_27_141334_142684.squiggle.npy      <span style=\"color: #7f7f7f; text-decoration-color: #7f7f7f\">                    </span>\n",
       "<span style=\"color: #7fbfbf; text-decoration-color: #7fbfbf\">                    </span>         already exists. Skipping<span style=\"color: #808000; text-decoration-color: #808000\">...</span>                                       <span style=\"color: #7f7f7f; text-decoration-color: #7f7f7f\">                    </span>\n",
       "</pre>\n"
      ],
      "text/plain": [
       "\u001b[2;36m                   \u001b[0m\u001b[2;36m \u001b[0m\u001b[31mWARNING \u001b[0m File with name                                                    \u001b]8;id=203548;file:///home/adoni5/Projects/Chapter_1_Data/read_identities/python_scripts/make_squiggle.py\u001b\\\u001b[2mmake_squiggle.py\u001b[0m\u001b]8;;\u001b\\\u001b[2m:\u001b[0m\u001b]8;id=516267;file:///home/adoni5/Projects/Chapter_1_Data/read_identities/python_scripts/make_squiggle.py#145\u001b\\\u001b[2m145\u001b[0m\u001b]8;;\u001b\\\n",
       "\u001b[2;36m                    \u001b[0m         raw_data/r9_squiggle/test_read_27_141334_142684.squiggle.npy      \u001b[2m                    \u001b[0m\n",
       "\u001b[2;36m                    \u001b[0m         already exists. Skipping\u001b[33m...\u001b[0m                                       \u001b[2m                    \u001b[0m\n"
      ]
     },
     "metadata": {},
     "output_type": "display_data"
    },
    {
     "data": {
      "text/html": [
       "<pre style=\"white-space:pre;overflow-x:auto;line-height:normal;font-family:Menlo,'DejaVu Sans Mono',consolas,'Courier New',monospace\"><span style=\"color: #7fbfbf; text-decoration-color: #7fbfbf\">                    </span><span style=\"color: #000080; text-decoration-color: #000080\">INFO    </span> Generating squiggle for test_read_28_46696553_46697953            <a href=\"file:///home/adoni5/Projects/Chapter_1_Data/read_identities/python_scripts/make_squiggle.py\" target=\"_blank\"><span style=\"color: #7f7f7f; text-decoration-color: #7f7f7f\">make_squiggle.py</span></a><span style=\"color: #7f7f7f; text-decoration-color: #7f7f7f\">:</span><a href=\"file:///home/adoni5/Projects/Chapter_1_Data/read_identities/python_scripts/make_squiggle.py#120\" target=\"_blank\"><span style=\"color: #7f7f7f; text-decoration-color: #7f7f7f\">120</span></a>\n",
       "</pre>\n"
      ],
      "text/plain": [
       "\u001b[2;36m                   \u001b[0m\u001b[2;36m \u001b[0m\u001b[34mINFO    \u001b[0m Generating squiggle for test_read_28_46696553_46697953            \u001b]8;id=310454;file:///home/adoni5/Projects/Chapter_1_Data/read_identities/python_scripts/make_squiggle.py\u001b\\\u001b[2mmake_squiggle.py\u001b[0m\u001b]8;;\u001b\\\u001b[2m:\u001b[0m\u001b]8;id=528594;file:///home/adoni5/Projects/Chapter_1_Data/read_identities/python_scripts/make_squiggle.py#120\u001b\\\u001b[2m120\u001b[0m\u001b]8;;\u001b\\\n"
      ]
     },
     "metadata": {},
     "output_type": "display_data"
    },
    {
     "data": {
      "text/html": [
       "<pre style=\"white-space:pre;overflow-x:auto;line-height:normal;font-family:Menlo,'DejaVu Sans Mono',consolas,'Courier New',monospace\"><span style=\"color: #7fbfbf; text-decoration-color: #7fbfbf\">                    </span><span style=\"color: #800000; text-decoration-color: #800000\">WARNING </span> File with name                                                    <a href=\"file:///home/adoni5/Projects/Chapter_1_Data/read_identities/python_scripts/make_squiggle.py\" target=\"_blank\"><span style=\"color: #7f7f7f; text-decoration-color: #7f7f7f\">make_squiggle.py</span></a><span style=\"color: #7f7f7f; text-decoration-color: #7f7f7f\">:</span><a href=\"file:///home/adoni5/Projects/Chapter_1_Data/read_identities/python_scripts/make_squiggle.py#145\" target=\"_blank\"><span style=\"color: #7f7f7f; text-decoration-color: #7f7f7f\">145</span></a>\n",
       "<span style=\"color: #7fbfbf; text-decoration-color: #7fbfbf\">                    </span>         raw_data/r9_squiggle/test_read_28_46696553_46697953.squiggle.npy  <span style=\"color: #7f7f7f; text-decoration-color: #7f7f7f\">                    </span>\n",
       "<span style=\"color: #7fbfbf; text-decoration-color: #7fbfbf\">                    </span>         already exists. Skipping<span style=\"color: #808000; text-decoration-color: #808000\">...</span>                                       <span style=\"color: #7f7f7f; text-decoration-color: #7f7f7f\">                    </span>\n",
       "</pre>\n"
      ],
      "text/plain": [
       "\u001b[2;36m                   \u001b[0m\u001b[2;36m \u001b[0m\u001b[31mWARNING \u001b[0m File with name                                                    \u001b]8;id=913961;file:///home/adoni5/Projects/Chapter_1_Data/read_identities/python_scripts/make_squiggle.py\u001b\\\u001b[2mmake_squiggle.py\u001b[0m\u001b]8;;\u001b\\\u001b[2m:\u001b[0m\u001b]8;id=421868;file:///home/adoni5/Projects/Chapter_1_Data/read_identities/python_scripts/make_squiggle.py#145\u001b\\\u001b[2m145\u001b[0m\u001b]8;;\u001b\\\n",
       "\u001b[2;36m                    \u001b[0m         raw_data/r9_squiggle/test_read_28_46696553_46697953.squiggle.npy  \u001b[2m                    \u001b[0m\n",
       "\u001b[2;36m                    \u001b[0m         already exists. Skipping\u001b[33m...\u001b[0m                                       \u001b[2m                    \u001b[0m\n"
      ]
     },
     "metadata": {},
     "output_type": "display_data"
    },
    {
     "data": {
      "text/html": [
       "<pre style=\"white-space:pre;overflow-x:auto;line-height:normal;font-family:Menlo,'DejaVu Sans Mono',consolas,'Courier New',monospace\"><span style=\"color: #7fbfbf; text-decoration-color: #7fbfbf\">                    </span><span style=\"color: #000080; text-decoration-color: #000080\">INFO    </span> Generating squiggle for test_read_29_29889428_29890878            <a href=\"file:///home/adoni5/Projects/Chapter_1_Data/read_identities/python_scripts/make_squiggle.py\" target=\"_blank\"><span style=\"color: #7f7f7f; text-decoration-color: #7f7f7f\">make_squiggle.py</span></a><span style=\"color: #7f7f7f; text-decoration-color: #7f7f7f\">:</span><a href=\"file:///home/adoni5/Projects/Chapter_1_Data/read_identities/python_scripts/make_squiggle.py#120\" target=\"_blank\"><span style=\"color: #7f7f7f; text-decoration-color: #7f7f7f\">120</span></a>\n",
       "</pre>\n"
      ],
      "text/plain": [
       "\u001b[2;36m                   \u001b[0m\u001b[2;36m \u001b[0m\u001b[34mINFO    \u001b[0m Generating squiggle for test_read_29_29889428_29890878            \u001b]8;id=210609;file:///home/adoni5/Projects/Chapter_1_Data/read_identities/python_scripts/make_squiggle.py\u001b\\\u001b[2mmake_squiggle.py\u001b[0m\u001b]8;;\u001b\\\u001b[2m:\u001b[0m\u001b]8;id=899192;file:///home/adoni5/Projects/Chapter_1_Data/read_identities/python_scripts/make_squiggle.py#120\u001b\\\u001b[2m120\u001b[0m\u001b]8;;\u001b\\\n"
      ]
     },
     "metadata": {},
     "output_type": "display_data"
    },
    {
     "data": {
      "text/html": [
       "<pre style=\"white-space:pre;overflow-x:auto;line-height:normal;font-family:Menlo,'DejaVu Sans Mono',consolas,'Courier New',monospace\"><span style=\"color: #7fbfbf; text-decoration-color: #7fbfbf\">                    </span><span style=\"color: #800000; text-decoration-color: #800000\">WARNING </span> File with name                                                    <a href=\"file:///home/adoni5/Projects/Chapter_1_Data/read_identities/python_scripts/make_squiggle.py\" target=\"_blank\"><span style=\"color: #7f7f7f; text-decoration-color: #7f7f7f\">make_squiggle.py</span></a><span style=\"color: #7f7f7f; text-decoration-color: #7f7f7f\">:</span><a href=\"file:///home/adoni5/Projects/Chapter_1_Data/read_identities/python_scripts/make_squiggle.py#145\" target=\"_blank\"><span style=\"color: #7f7f7f; text-decoration-color: #7f7f7f\">145</span></a>\n",
       "<span style=\"color: #7fbfbf; text-decoration-color: #7fbfbf\">                    </span>         raw_data/r9_squiggle/test_read_29_29889428_29890878.squiggle.npy  <span style=\"color: #7f7f7f; text-decoration-color: #7f7f7f\">                    </span>\n",
       "<span style=\"color: #7fbfbf; text-decoration-color: #7fbfbf\">                    </span>         already exists. Skipping<span style=\"color: #808000; text-decoration-color: #808000\">...</span>                                       <span style=\"color: #7f7f7f; text-decoration-color: #7f7f7f\">                    </span>\n",
       "</pre>\n"
      ],
      "text/plain": [
       "\u001b[2;36m                   \u001b[0m\u001b[2;36m \u001b[0m\u001b[31mWARNING \u001b[0m File with name                                                    \u001b]8;id=141707;file:///home/adoni5/Projects/Chapter_1_Data/read_identities/python_scripts/make_squiggle.py\u001b\\\u001b[2mmake_squiggle.py\u001b[0m\u001b]8;;\u001b\\\u001b[2m:\u001b[0m\u001b]8;id=355567;file:///home/adoni5/Projects/Chapter_1_Data/read_identities/python_scripts/make_squiggle.py#145\u001b\\\u001b[2m145\u001b[0m\u001b]8;;\u001b\\\n",
       "\u001b[2;36m                    \u001b[0m         raw_data/r9_squiggle/test_read_29_29889428_29890878.squiggle.npy  \u001b[2m                    \u001b[0m\n",
       "\u001b[2;36m                    \u001b[0m         already exists. Skipping\u001b[33m...\u001b[0m                                       \u001b[2m                    \u001b[0m\n"
      ]
     },
     "metadata": {},
     "output_type": "display_data"
    },
    {
     "data": {
      "text/html": [
       "<pre style=\"white-space:pre;overflow-x:auto;line-height:normal;font-family:Menlo,'DejaVu Sans Mono',consolas,'Courier New',monospace\"><span style=\"color: #7fbfbf; text-decoration-color: #7fbfbf\">                    </span><span style=\"color: #000080; text-decoration-color: #000080\">INFO    </span> Generating squiggle for test_read_30_17873141_17874641            <a href=\"file:///home/adoni5/Projects/Chapter_1_Data/read_identities/python_scripts/make_squiggle.py\" target=\"_blank\"><span style=\"color: #7f7f7f; text-decoration-color: #7f7f7f\">make_squiggle.py</span></a><span style=\"color: #7f7f7f; text-decoration-color: #7f7f7f\">:</span><a href=\"file:///home/adoni5/Projects/Chapter_1_Data/read_identities/python_scripts/make_squiggle.py#120\" target=\"_blank\"><span style=\"color: #7f7f7f; text-decoration-color: #7f7f7f\">120</span></a>\n",
       "</pre>\n"
      ],
      "text/plain": [
       "\u001b[2;36m                   \u001b[0m\u001b[2;36m \u001b[0m\u001b[34mINFO    \u001b[0m Generating squiggle for test_read_30_17873141_17874641            \u001b]8;id=101088;file:///home/adoni5/Projects/Chapter_1_Data/read_identities/python_scripts/make_squiggle.py\u001b\\\u001b[2mmake_squiggle.py\u001b[0m\u001b]8;;\u001b\\\u001b[2m:\u001b[0m\u001b]8;id=878393;file:///home/adoni5/Projects/Chapter_1_Data/read_identities/python_scripts/make_squiggle.py#120\u001b\\\u001b[2m120\u001b[0m\u001b]8;;\u001b\\\n"
      ]
     },
     "metadata": {},
     "output_type": "display_data"
    },
    {
     "data": {
      "text/html": [
       "<pre style=\"white-space:pre;overflow-x:auto;line-height:normal;font-family:Menlo,'DejaVu Sans Mono',consolas,'Courier New',monospace\"><span style=\"color: #7fbfbf; text-decoration-color: #7fbfbf\">                    </span><span style=\"color: #800000; text-decoration-color: #800000\">WARNING </span> File with name                                                    <a href=\"file:///home/adoni5/Projects/Chapter_1_Data/read_identities/python_scripts/make_squiggle.py\" target=\"_blank\"><span style=\"color: #7f7f7f; text-decoration-color: #7f7f7f\">make_squiggle.py</span></a><span style=\"color: #7f7f7f; text-decoration-color: #7f7f7f\">:</span><a href=\"file:///home/adoni5/Projects/Chapter_1_Data/read_identities/python_scripts/make_squiggle.py#145\" target=\"_blank\"><span style=\"color: #7f7f7f; text-decoration-color: #7f7f7f\">145</span></a>\n",
       "<span style=\"color: #7fbfbf; text-decoration-color: #7fbfbf\">                    </span>         raw_data/r9_squiggle/test_read_30_17873141_17874641.squiggle.npy  <span style=\"color: #7f7f7f; text-decoration-color: #7f7f7f\">                    </span>\n",
       "<span style=\"color: #7fbfbf; text-decoration-color: #7fbfbf\">                    </span>         already exists. Skipping<span style=\"color: #808000; text-decoration-color: #808000\">...</span>                                       <span style=\"color: #7f7f7f; text-decoration-color: #7f7f7f\">                    </span>\n",
       "</pre>\n"
      ],
      "text/plain": [
       "\u001b[2;36m                   \u001b[0m\u001b[2;36m \u001b[0m\u001b[31mWARNING \u001b[0m File with name                                                    \u001b]8;id=958864;file:///home/adoni5/Projects/Chapter_1_Data/read_identities/python_scripts/make_squiggle.py\u001b\\\u001b[2mmake_squiggle.py\u001b[0m\u001b]8;;\u001b\\\u001b[2m:\u001b[0m\u001b]8;id=925256;file:///home/adoni5/Projects/Chapter_1_Data/read_identities/python_scripts/make_squiggle.py#145\u001b\\\u001b[2m145\u001b[0m\u001b]8;;\u001b\\\n",
       "\u001b[2;36m                    \u001b[0m         raw_data/r9_squiggle/test_read_30_17873141_17874641.squiggle.npy  \u001b[2m                    \u001b[0m\n",
       "\u001b[2;36m                    \u001b[0m         already exists. Skipping\u001b[33m...\u001b[0m                                       \u001b[2m                    \u001b[0m\n"
      ]
     },
     "metadata": {},
     "output_type": "display_data"
    },
    {
     "data": {
      "text/html": [
       "<pre style=\"white-space:pre;overflow-x:auto;line-height:normal;font-family:Menlo,'DejaVu Sans Mono',consolas,'Courier New',monospace\"><span style=\"color: #7fbfbf; text-decoration-color: #7fbfbf\">                    </span><span style=\"color: #000080; text-decoration-color: #000080\">INFO    </span> Generating squiggle for test_read_31_48421731_48423281            <a href=\"file:///home/adoni5/Projects/Chapter_1_Data/read_identities/python_scripts/make_squiggle.py\" target=\"_blank\"><span style=\"color: #7f7f7f; text-decoration-color: #7f7f7f\">make_squiggle.py</span></a><span style=\"color: #7f7f7f; text-decoration-color: #7f7f7f\">:</span><a href=\"file:///home/adoni5/Projects/Chapter_1_Data/read_identities/python_scripts/make_squiggle.py#120\" target=\"_blank\"><span style=\"color: #7f7f7f; text-decoration-color: #7f7f7f\">120</span></a>\n",
       "</pre>\n"
      ],
      "text/plain": [
       "\u001b[2;36m                   \u001b[0m\u001b[2;36m \u001b[0m\u001b[34mINFO    \u001b[0m Generating squiggle for test_read_31_48421731_48423281            \u001b]8;id=805255;file:///home/adoni5/Projects/Chapter_1_Data/read_identities/python_scripts/make_squiggle.py\u001b\\\u001b[2mmake_squiggle.py\u001b[0m\u001b]8;;\u001b\\\u001b[2m:\u001b[0m\u001b]8;id=558388;file:///home/adoni5/Projects/Chapter_1_Data/read_identities/python_scripts/make_squiggle.py#120\u001b\\\u001b[2m120\u001b[0m\u001b]8;;\u001b\\\n"
      ]
     },
     "metadata": {},
     "output_type": "display_data"
    },
    {
     "data": {
      "text/html": [
       "<pre style=\"white-space:pre;overflow-x:auto;line-height:normal;font-family:Menlo,'DejaVu Sans Mono',consolas,'Courier New',monospace\"><span style=\"color: #7fbfbf; text-decoration-color: #7fbfbf\">                    </span><span style=\"color: #800000; text-decoration-color: #800000\">WARNING </span> File with name                                                    <a href=\"file:///home/adoni5/Projects/Chapter_1_Data/read_identities/python_scripts/make_squiggle.py\" target=\"_blank\"><span style=\"color: #7f7f7f; text-decoration-color: #7f7f7f\">make_squiggle.py</span></a><span style=\"color: #7f7f7f; text-decoration-color: #7f7f7f\">:</span><a href=\"file:///home/adoni5/Projects/Chapter_1_Data/read_identities/python_scripts/make_squiggle.py#145\" target=\"_blank\"><span style=\"color: #7f7f7f; text-decoration-color: #7f7f7f\">145</span></a>\n",
       "<span style=\"color: #7fbfbf; text-decoration-color: #7fbfbf\">                    </span>         raw_data/r9_squiggle/test_read_31_48421731_48423281.squiggle.npy  <span style=\"color: #7f7f7f; text-decoration-color: #7f7f7f\">                    </span>\n",
       "<span style=\"color: #7fbfbf; text-decoration-color: #7fbfbf\">                    </span>         already exists. Skipping<span style=\"color: #808000; text-decoration-color: #808000\">...</span>                                       <span style=\"color: #7f7f7f; text-decoration-color: #7f7f7f\">                    </span>\n",
       "</pre>\n"
      ],
      "text/plain": [
       "\u001b[2;36m                   \u001b[0m\u001b[2;36m \u001b[0m\u001b[31mWARNING \u001b[0m File with name                                                    \u001b]8;id=88793;file:///home/adoni5/Projects/Chapter_1_Data/read_identities/python_scripts/make_squiggle.py\u001b\\\u001b[2mmake_squiggle.py\u001b[0m\u001b]8;;\u001b\\\u001b[2m:\u001b[0m\u001b]8;id=139478;file:///home/adoni5/Projects/Chapter_1_Data/read_identities/python_scripts/make_squiggle.py#145\u001b\\\u001b[2m145\u001b[0m\u001b]8;;\u001b\\\n",
       "\u001b[2;36m                    \u001b[0m         raw_data/r9_squiggle/test_read_31_48421731_48423281.squiggle.npy  \u001b[2m                    \u001b[0m\n",
       "\u001b[2;36m                    \u001b[0m         already exists. Skipping\u001b[33m...\u001b[0m                                       \u001b[2m                    \u001b[0m\n"
      ]
     },
     "metadata": {},
     "output_type": "display_data"
    },
    {
     "data": {
      "text/html": [
       "<pre style=\"white-space:pre;overflow-x:auto;line-height:normal;font-family:Menlo,'DejaVu Sans Mono',consolas,'Courier New',monospace\"><span style=\"color: #7fbfbf; text-decoration-color: #7fbfbf\">                    </span><span style=\"color: #000080; text-decoration-color: #000080\">INFO    </span> Generating squiggle for test_read_32_53809656_53811256            <a href=\"file:///home/adoni5/Projects/Chapter_1_Data/read_identities/python_scripts/make_squiggle.py\" target=\"_blank\"><span style=\"color: #7f7f7f; text-decoration-color: #7f7f7f\">make_squiggle.py</span></a><span style=\"color: #7f7f7f; text-decoration-color: #7f7f7f\">:</span><a href=\"file:///home/adoni5/Projects/Chapter_1_Data/read_identities/python_scripts/make_squiggle.py#120\" target=\"_blank\"><span style=\"color: #7f7f7f; text-decoration-color: #7f7f7f\">120</span></a>\n",
       "</pre>\n"
      ],
      "text/plain": [
       "\u001b[2;36m                   \u001b[0m\u001b[2;36m \u001b[0m\u001b[34mINFO    \u001b[0m Generating squiggle for test_read_32_53809656_53811256            \u001b]8;id=223313;file:///home/adoni5/Projects/Chapter_1_Data/read_identities/python_scripts/make_squiggle.py\u001b\\\u001b[2mmake_squiggle.py\u001b[0m\u001b]8;;\u001b\\\u001b[2m:\u001b[0m\u001b]8;id=281028;file:///home/adoni5/Projects/Chapter_1_Data/read_identities/python_scripts/make_squiggle.py#120\u001b\\\u001b[2m120\u001b[0m\u001b]8;;\u001b\\\n"
      ]
     },
     "metadata": {},
     "output_type": "display_data"
    },
    {
     "data": {
      "text/html": [
       "<pre style=\"white-space:pre;overflow-x:auto;line-height:normal;font-family:Menlo,'DejaVu Sans Mono',consolas,'Courier New',monospace\"><span style=\"color: #7fbfbf; text-decoration-color: #7fbfbf\">                    </span><span style=\"color: #800000; text-decoration-color: #800000\">WARNING </span> File with name                                                    <a href=\"file:///home/adoni5/Projects/Chapter_1_Data/read_identities/python_scripts/make_squiggle.py\" target=\"_blank\"><span style=\"color: #7f7f7f; text-decoration-color: #7f7f7f\">make_squiggle.py</span></a><span style=\"color: #7f7f7f; text-decoration-color: #7f7f7f\">:</span><a href=\"file:///home/adoni5/Projects/Chapter_1_Data/read_identities/python_scripts/make_squiggle.py#145\" target=\"_blank\"><span style=\"color: #7f7f7f; text-decoration-color: #7f7f7f\">145</span></a>\n",
       "<span style=\"color: #7fbfbf; text-decoration-color: #7fbfbf\">                    </span>         raw_data/r9_squiggle/test_read_32_53809656_53811256.squiggle.npy  <span style=\"color: #7f7f7f; text-decoration-color: #7f7f7f\">                    </span>\n",
       "<span style=\"color: #7fbfbf; text-decoration-color: #7fbfbf\">                    </span>         already exists. Skipping<span style=\"color: #808000; text-decoration-color: #808000\">...</span>                                       <span style=\"color: #7f7f7f; text-decoration-color: #7f7f7f\">                    </span>\n",
       "</pre>\n"
      ],
      "text/plain": [
       "\u001b[2;36m                   \u001b[0m\u001b[2;36m \u001b[0m\u001b[31mWARNING \u001b[0m File with name                                                    \u001b]8;id=881991;file:///home/adoni5/Projects/Chapter_1_Data/read_identities/python_scripts/make_squiggle.py\u001b\\\u001b[2mmake_squiggle.py\u001b[0m\u001b]8;;\u001b\\\u001b[2m:\u001b[0m\u001b]8;id=267692;file:///home/adoni5/Projects/Chapter_1_Data/read_identities/python_scripts/make_squiggle.py#145\u001b\\\u001b[2m145\u001b[0m\u001b]8;;\u001b\\\n",
       "\u001b[2;36m                    \u001b[0m         raw_data/r9_squiggle/test_read_32_53809656_53811256.squiggle.npy  \u001b[2m                    \u001b[0m\n",
       "\u001b[2;36m                    \u001b[0m         already exists. Skipping\u001b[33m...\u001b[0m                                       \u001b[2m                    \u001b[0m\n"
      ]
     },
     "metadata": {},
     "output_type": "display_data"
    },
    {
     "data": {
      "text/html": [
       "<pre style=\"white-space:pre;overflow-x:auto;line-height:normal;font-family:Menlo,'DejaVu Sans Mono',consolas,'Courier New',monospace\"><span style=\"color: #7fbfbf; text-decoration-color: #7fbfbf\">                    </span><span style=\"color: #000080; text-decoration-color: #000080\">INFO    </span> Generating squiggle for test_read_33_15351972_15353622            <a href=\"file:///home/adoni5/Projects/Chapter_1_Data/read_identities/python_scripts/make_squiggle.py\" target=\"_blank\"><span style=\"color: #7f7f7f; text-decoration-color: #7f7f7f\">make_squiggle.py</span></a><span style=\"color: #7f7f7f; text-decoration-color: #7f7f7f\">:</span><a href=\"file:///home/adoni5/Projects/Chapter_1_Data/read_identities/python_scripts/make_squiggle.py#120\" target=\"_blank\"><span style=\"color: #7f7f7f; text-decoration-color: #7f7f7f\">120</span></a>\n",
       "</pre>\n"
      ],
      "text/plain": [
       "\u001b[2;36m                   \u001b[0m\u001b[2;36m \u001b[0m\u001b[34mINFO    \u001b[0m Generating squiggle for test_read_33_15351972_15353622            \u001b]8;id=305361;file:///home/adoni5/Projects/Chapter_1_Data/read_identities/python_scripts/make_squiggle.py\u001b\\\u001b[2mmake_squiggle.py\u001b[0m\u001b]8;;\u001b\\\u001b[2m:\u001b[0m\u001b]8;id=246614;file:///home/adoni5/Projects/Chapter_1_Data/read_identities/python_scripts/make_squiggle.py#120\u001b\\\u001b[2m120\u001b[0m\u001b]8;;\u001b\\\n"
      ]
     },
     "metadata": {},
     "output_type": "display_data"
    },
    {
     "data": {
      "text/html": [
       "<pre style=\"white-space:pre;overflow-x:auto;line-height:normal;font-family:Menlo,'DejaVu Sans Mono',consolas,'Courier New',monospace\"><span style=\"color: #7fbfbf; text-decoration-color: #7fbfbf\">                    </span><span style=\"color: #800000; text-decoration-color: #800000\">WARNING </span> File with name                                                    <a href=\"file:///home/adoni5/Projects/Chapter_1_Data/read_identities/python_scripts/make_squiggle.py\" target=\"_blank\"><span style=\"color: #7f7f7f; text-decoration-color: #7f7f7f\">make_squiggle.py</span></a><span style=\"color: #7f7f7f; text-decoration-color: #7f7f7f\">:</span><a href=\"file:///home/adoni5/Projects/Chapter_1_Data/read_identities/python_scripts/make_squiggle.py#145\" target=\"_blank\"><span style=\"color: #7f7f7f; text-decoration-color: #7f7f7f\">145</span></a>\n",
       "<span style=\"color: #7fbfbf; text-decoration-color: #7fbfbf\">                    </span>         raw_data/r9_squiggle/test_read_33_15351972_15353622.squiggle.npy  <span style=\"color: #7f7f7f; text-decoration-color: #7f7f7f\">                    </span>\n",
       "<span style=\"color: #7fbfbf; text-decoration-color: #7fbfbf\">                    </span>         already exists. Skipping<span style=\"color: #808000; text-decoration-color: #808000\">...</span>                                       <span style=\"color: #7f7f7f; text-decoration-color: #7f7f7f\">                    </span>\n",
       "</pre>\n"
      ],
      "text/plain": [
       "\u001b[2;36m                   \u001b[0m\u001b[2;36m \u001b[0m\u001b[31mWARNING \u001b[0m File with name                                                    \u001b]8;id=749845;file:///home/adoni5/Projects/Chapter_1_Data/read_identities/python_scripts/make_squiggle.py\u001b\\\u001b[2mmake_squiggle.py\u001b[0m\u001b]8;;\u001b\\\u001b[2m:\u001b[0m\u001b]8;id=930364;file:///home/adoni5/Projects/Chapter_1_Data/read_identities/python_scripts/make_squiggle.py#145\u001b\\\u001b[2m145\u001b[0m\u001b]8;;\u001b\\\n",
       "\u001b[2;36m                    \u001b[0m         raw_data/r9_squiggle/test_read_33_15351972_15353622.squiggle.npy  \u001b[2m                    \u001b[0m\n",
       "\u001b[2;36m                    \u001b[0m         already exists. Skipping\u001b[33m...\u001b[0m                                       \u001b[2m                    \u001b[0m\n"
      ]
     },
     "metadata": {},
     "output_type": "display_data"
    },
    {
     "data": {
      "text/html": [
       "<pre style=\"white-space:pre;overflow-x:auto;line-height:normal;font-family:Menlo,'DejaVu Sans Mono',consolas,'Courier New',monospace\"><span style=\"color: #7fbfbf; text-decoration-color: #7fbfbf\">                    </span><span style=\"color: #000080; text-decoration-color: #000080\">INFO    </span> Generating squiggle for test_read_34_39671635_39673335            <a href=\"file:///home/adoni5/Projects/Chapter_1_Data/read_identities/python_scripts/make_squiggle.py\" target=\"_blank\"><span style=\"color: #7f7f7f; text-decoration-color: #7f7f7f\">make_squiggle.py</span></a><span style=\"color: #7f7f7f; text-decoration-color: #7f7f7f\">:</span><a href=\"file:///home/adoni5/Projects/Chapter_1_Data/read_identities/python_scripts/make_squiggle.py#120\" target=\"_blank\"><span style=\"color: #7f7f7f; text-decoration-color: #7f7f7f\">120</span></a>\n",
       "</pre>\n"
      ],
      "text/plain": [
       "\u001b[2;36m                   \u001b[0m\u001b[2;36m \u001b[0m\u001b[34mINFO    \u001b[0m Generating squiggle for test_read_34_39671635_39673335            \u001b]8;id=807668;file:///home/adoni5/Projects/Chapter_1_Data/read_identities/python_scripts/make_squiggle.py\u001b\\\u001b[2mmake_squiggle.py\u001b[0m\u001b]8;;\u001b\\\u001b[2m:\u001b[0m\u001b]8;id=109340;file:///home/adoni5/Projects/Chapter_1_Data/read_identities/python_scripts/make_squiggle.py#120\u001b\\\u001b[2m120\u001b[0m\u001b]8;;\u001b\\\n"
      ]
     },
     "metadata": {},
     "output_type": "display_data"
    },
    {
     "data": {
      "text/html": [
       "<pre style=\"white-space:pre;overflow-x:auto;line-height:normal;font-family:Menlo,'DejaVu Sans Mono',consolas,'Courier New',monospace\"><span style=\"color: #7fbfbf; text-decoration-color: #7fbfbf\">                    </span><span style=\"color: #800000; text-decoration-color: #800000\">WARNING </span> File with name                                                    <a href=\"file:///home/adoni5/Projects/Chapter_1_Data/read_identities/python_scripts/make_squiggle.py\" target=\"_blank\"><span style=\"color: #7f7f7f; text-decoration-color: #7f7f7f\">make_squiggle.py</span></a><span style=\"color: #7f7f7f; text-decoration-color: #7f7f7f\">:</span><a href=\"file:///home/adoni5/Projects/Chapter_1_Data/read_identities/python_scripts/make_squiggle.py#145\" target=\"_blank\"><span style=\"color: #7f7f7f; text-decoration-color: #7f7f7f\">145</span></a>\n",
       "<span style=\"color: #7fbfbf; text-decoration-color: #7fbfbf\">                    </span>         raw_data/r9_squiggle/test_read_34_39671635_39673335.squiggle.npy  <span style=\"color: #7f7f7f; text-decoration-color: #7f7f7f\">                    </span>\n",
       "<span style=\"color: #7fbfbf; text-decoration-color: #7fbfbf\">                    </span>         already exists. Skipping<span style=\"color: #808000; text-decoration-color: #808000\">...</span>                                       <span style=\"color: #7f7f7f; text-decoration-color: #7f7f7f\">                    </span>\n",
       "</pre>\n"
      ],
      "text/plain": [
       "\u001b[2;36m                   \u001b[0m\u001b[2;36m \u001b[0m\u001b[31mWARNING \u001b[0m File with name                                                    \u001b]8;id=398700;file:///home/adoni5/Projects/Chapter_1_Data/read_identities/python_scripts/make_squiggle.py\u001b\\\u001b[2mmake_squiggle.py\u001b[0m\u001b]8;;\u001b\\\u001b[2m:\u001b[0m\u001b]8;id=908243;file:///home/adoni5/Projects/Chapter_1_Data/read_identities/python_scripts/make_squiggle.py#145\u001b\\\u001b[2m145\u001b[0m\u001b]8;;\u001b\\\n",
       "\u001b[2;36m                    \u001b[0m         raw_data/r9_squiggle/test_read_34_39671635_39673335.squiggle.npy  \u001b[2m                    \u001b[0m\n",
       "\u001b[2;36m                    \u001b[0m         already exists. Skipping\u001b[33m...\u001b[0m                                       \u001b[2m                    \u001b[0m\n"
      ]
     },
     "metadata": {},
     "output_type": "display_data"
    },
    {
     "data": {
      "text/html": [
       "<pre style=\"white-space:pre;overflow-x:auto;line-height:normal;font-family:Menlo,'DejaVu Sans Mono',consolas,'Courier New',monospace\"><span style=\"color: #7fbfbf; text-decoration-color: #7fbfbf\">                    </span><span style=\"color: #000080; text-decoration-color: #000080\">INFO    </span> Generating squiggle for test_read_35_63436042_63437792            <a href=\"file:///home/adoni5/Projects/Chapter_1_Data/read_identities/python_scripts/make_squiggle.py\" target=\"_blank\"><span style=\"color: #7f7f7f; text-decoration-color: #7f7f7f\">make_squiggle.py</span></a><span style=\"color: #7f7f7f; text-decoration-color: #7f7f7f\">:</span><a href=\"file:///home/adoni5/Projects/Chapter_1_Data/read_identities/python_scripts/make_squiggle.py#120\" target=\"_blank\"><span style=\"color: #7f7f7f; text-decoration-color: #7f7f7f\">120</span></a>\n",
       "</pre>\n"
      ],
      "text/plain": [
       "\u001b[2;36m                   \u001b[0m\u001b[2;36m \u001b[0m\u001b[34mINFO    \u001b[0m Generating squiggle for test_read_35_63436042_63437792            \u001b]8;id=357456;file:///home/adoni5/Projects/Chapter_1_Data/read_identities/python_scripts/make_squiggle.py\u001b\\\u001b[2mmake_squiggle.py\u001b[0m\u001b]8;;\u001b\\\u001b[2m:\u001b[0m\u001b]8;id=120260;file:///home/adoni5/Projects/Chapter_1_Data/read_identities/python_scripts/make_squiggle.py#120\u001b\\\u001b[2m120\u001b[0m\u001b]8;;\u001b\\\n"
      ]
     },
     "metadata": {},
     "output_type": "display_data"
    },
    {
     "data": {
      "text/html": [
       "<pre style=\"white-space:pre;overflow-x:auto;line-height:normal;font-family:Menlo,'DejaVu Sans Mono',consolas,'Courier New',monospace\"><span style=\"color: #7fbfbf; text-decoration-color: #7fbfbf\">                    </span><span style=\"color: #800000; text-decoration-color: #800000\">WARNING </span> File with name                                                    <a href=\"file:///home/adoni5/Projects/Chapter_1_Data/read_identities/python_scripts/make_squiggle.py\" target=\"_blank\"><span style=\"color: #7f7f7f; text-decoration-color: #7f7f7f\">make_squiggle.py</span></a><span style=\"color: #7f7f7f; text-decoration-color: #7f7f7f\">:</span><a href=\"file:///home/adoni5/Projects/Chapter_1_Data/read_identities/python_scripts/make_squiggle.py#145\" target=\"_blank\"><span style=\"color: #7f7f7f; text-decoration-color: #7f7f7f\">145</span></a>\n",
       "<span style=\"color: #7fbfbf; text-decoration-color: #7fbfbf\">                    </span>         raw_data/r9_squiggle/test_read_35_63436042_63437792.squiggle.npy  <span style=\"color: #7f7f7f; text-decoration-color: #7f7f7f\">                    </span>\n",
       "<span style=\"color: #7fbfbf; text-decoration-color: #7fbfbf\">                    </span>         already exists. Skipping<span style=\"color: #808000; text-decoration-color: #808000\">...</span>                                       <span style=\"color: #7f7f7f; text-decoration-color: #7f7f7f\">                    </span>\n",
       "</pre>\n"
      ],
      "text/plain": [
       "\u001b[2;36m                   \u001b[0m\u001b[2;36m \u001b[0m\u001b[31mWARNING \u001b[0m File with name                                                    \u001b]8;id=396403;file:///home/adoni5/Projects/Chapter_1_Data/read_identities/python_scripts/make_squiggle.py\u001b\\\u001b[2mmake_squiggle.py\u001b[0m\u001b]8;;\u001b\\\u001b[2m:\u001b[0m\u001b]8;id=80375;file:///home/adoni5/Projects/Chapter_1_Data/read_identities/python_scripts/make_squiggle.py#145\u001b\\\u001b[2m145\u001b[0m\u001b]8;;\u001b\\\n",
       "\u001b[2;36m                    \u001b[0m         raw_data/r9_squiggle/test_read_35_63436042_63437792.squiggle.npy  \u001b[2m                    \u001b[0m\n",
       "\u001b[2;36m                    \u001b[0m         already exists. Skipping\u001b[33m...\u001b[0m                                       \u001b[2m                    \u001b[0m\n"
      ]
     },
     "metadata": {},
     "output_type": "display_data"
    },
    {
     "data": {
      "text/html": [
       "<pre style=\"white-space:pre;overflow-x:auto;line-height:normal;font-family:Menlo,'DejaVu Sans Mono',consolas,'Courier New',monospace\"><span style=\"color: #7fbfbf; text-decoration-color: #7fbfbf\">                    </span><span style=\"color: #000080; text-decoration-color: #000080\">INFO    </span> Generating squiggle for test_read_36_6860348_6862148              <a href=\"file:///home/adoni5/Projects/Chapter_1_Data/read_identities/python_scripts/make_squiggle.py\" target=\"_blank\"><span style=\"color: #7f7f7f; text-decoration-color: #7f7f7f\">make_squiggle.py</span></a><span style=\"color: #7f7f7f; text-decoration-color: #7f7f7f\">:</span><a href=\"file:///home/adoni5/Projects/Chapter_1_Data/read_identities/python_scripts/make_squiggle.py#120\" target=\"_blank\"><span style=\"color: #7f7f7f; text-decoration-color: #7f7f7f\">120</span></a>\n",
       "</pre>\n"
      ],
      "text/plain": [
       "\u001b[2;36m                   \u001b[0m\u001b[2;36m \u001b[0m\u001b[34mINFO    \u001b[0m Generating squiggle for test_read_36_6860348_6862148              \u001b]8;id=85714;file:///home/adoni5/Projects/Chapter_1_Data/read_identities/python_scripts/make_squiggle.py\u001b\\\u001b[2mmake_squiggle.py\u001b[0m\u001b]8;;\u001b\\\u001b[2m:\u001b[0m\u001b]8;id=998502;file:///home/adoni5/Projects/Chapter_1_Data/read_identities/python_scripts/make_squiggle.py#120\u001b\\\u001b[2m120\u001b[0m\u001b]8;;\u001b\\\n"
      ]
     },
     "metadata": {},
     "output_type": "display_data"
    },
    {
     "data": {
      "text/html": [
       "<pre style=\"white-space:pre;overflow-x:auto;line-height:normal;font-family:Menlo,'DejaVu Sans Mono',consolas,'Courier New',monospace\"><span style=\"color: #7fbfbf; text-decoration-color: #7fbfbf\">                    </span><span style=\"color: #800000; text-decoration-color: #800000\">WARNING </span> File with name                                                    <a href=\"file:///home/adoni5/Projects/Chapter_1_Data/read_identities/python_scripts/make_squiggle.py\" target=\"_blank\"><span style=\"color: #7f7f7f; text-decoration-color: #7f7f7f\">make_squiggle.py</span></a><span style=\"color: #7f7f7f; text-decoration-color: #7f7f7f\">:</span><a href=\"file:///home/adoni5/Projects/Chapter_1_Data/read_identities/python_scripts/make_squiggle.py#145\" target=\"_blank\"><span style=\"color: #7f7f7f; text-decoration-color: #7f7f7f\">145</span></a>\n",
       "<span style=\"color: #7fbfbf; text-decoration-color: #7fbfbf\">                    </span>         raw_data/r9_squiggle/test_read_36_6860348_6862148.squiggle.npy    <span style=\"color: #7f7f7f; text-decoration-color: #7f7f7f\">                    </span>\n",
       "<span style=\"color: #7fbfbf; text-decoration-color: #7fbfbf\">                    </span>         already exists. Skipping<span style=\"color: #808000; text-decoration-color: #808000\">...</span>                                       <span style=\"color: #7f7f7f; text-decoration-color: #7f7f7f\">                    </span>\n",
       "</pre>\n"
      ],
      "text/plain": [
       "\u001b[2;36m                   \u001b[0m\u001b[2;36m \u001b[0m\u001b[31mWARNING \u001b[0m File with name                                                    \u001b]8;id=591865;file:///home/adoni5/Projects/Chapter_1_Data/read_identities/python_scripts/make_squiggle.py\u001b\\\u001b[2mmake_squiggle.py\u001b[0m\u001b]8;;\u001b\\\u001b[2m:\u001b[0m\u001b]8;id=560248;file:///home/adoni5/Projects/Chapter_1_Data/read_identities/python_scripts/make_squiggle.py#145\u001b\\\u001b[2m145\u001b[0m\u001b]8;;\u001b\\\n",
       "\u001b[2;36m                    \u001b[0m         raw_data/r9_squiggle/test_read_36_6860348_6862148.squiggle.npy    \u001b[2m                    \u001b[0m\n",
       "\u001b[2;36m                    \u001b[0m         already exists. Skipping\u001b[33m...\u001b[0m                                       \u001b[2m                    \u001b[0m\n"
      ]
     },
     "metadata": {},
     "output_type": "display_data"
    },
    {
     "data": {
      "text/html": [
       "<pre style=\"white-space:pre;overflow-x:auto;line-height:normal;font-family:Menlo,'DejaVu Sans Mono',consolas,'Courier New',monospace\"><span style=\"color: #7fbfbf; text-decoration-color: #7fbfbf\">                    </span><span style=\"color: #000080; text-decoration-color: #000080\">INFO    </span> Generating squiggle for test_read_37_60493772_60495622            <a href=\"file:///home/adoni5/Projects/Chapter_1_Data/read_identities/python_scripts/make_squiggle.py\" target=\"_blank\"><span style=\"color: #7f7f7f; text-decoration-color: #7f7f7f\">make_squiggle.py</span></a><span style=\"color: #7f7f7f; text-decoration-color: #7f7f7f\">:</span><a href=\"file:///home/adoni5/Projects/Chapter_1_Data/read_identities/python_scripts/make_squiggle.py#120\" target=\"_blank\"><span style=\"color: #7f7f7f; text-decoration-color: #7f7f7f\">120</span></a>\n",
       "</pre>\n"
      ],
      "text/plain": [
       "\u001b[2;36m                   \u001b[0m\u001b[2;36m \u001b[0m\u001b[34mINFO    \u001b[0m Generating squiggle for test_read_37_60493772_60495622            \u001b]8;id=290647;file:///home/adoni5/Projects/Chapter_1_Data/read_identities/python_scripts/make_squiggle.py\u001b\\\u001b[2mmake_squiggle.py\u001b[0m\u001b]8;;\u001b\\\u001b[2m:\u001b[0m\u001b]8;id=112963;file:///home/adoni5/Projects/Chapter_1_Data/read_identities/python_scripts/make_squiggle.py#120\u001b\\\u001b[2m120\u001b[0m\u001b]8;;\u001b\\\n"
      ]
     },
     "metadata": {},
     "output_type": "display_data"
    },
    {
     "data": {
      "text/html": [
       "<pre style=\"white-space:pre;overflow-x:auto;line-height:normal;font-family:Menlo,'DejaVu Sans Mono',consolas,'Courier New',monospace\"><span style=\"color: #7fbfbf; text-decoration-color: #7fbfbf\">                    </span><span style=\"color: #800000; text-decoration-color: #800000\">WARNING </span> File with name                                                    <a href=\"file:///home/adoni5/Projects/Chapter_1_Data/read_identities/python_scripts/make_squiggle.py\" target=\"_blank\"><span style=\"color: #7f7f7f; text-decoration-color: #7f7f7f\">make_squiggle.py</span></a><span style=\"color: #7f7f7f; text-decoration-color: #7f7f7f\">:</span><a href=\"file:///home/adoni5/Projects/Chapter_1_Data/read_identities/python_scripts/make_squiggle.py#145\" target=\"_blank\"><span style=\"color: #7f7f7f; text-decoration-color: #7f7f7f\">145</span></a>\n",
       "<span style=\"color: #7fbfbf; text-decoration-color: #7fbfbf\">                    </span>         raw_data/r9_squiggle/test_read_37_60493772_60495622.squiggle.npy  <span style=\"color: #7f7f7f; text-decoration-color: #7f7f7f\">                    </span>\n",
       "<span style=\"color: #7fbfbf; text-decoration-color: #7fbfbf\">                    </span>         already exists. Skipping<span style=\"color: #808000; text-decoration-color: #808000\">...</span>                                       <span style=\"color: #7f7f7f; text-decoration-color: #7f7f7f\">                    </span>\n",
       "</pre>\n"
      ],
      "text/plain": [
       "\u001b[2;36m                   \u001b[0m\u001b[2;36m \u001b[0m\u001b[31mWARNING \u001b[0m File with name                                                    \u001b]8;id=12983;file:///home/adoni5/Projects/Chapter_1_Data/read_identities/python_scripts/make_squiggle.py\u001b\\\u001b[2mmake_squiggle.py\u001b[0m\u001b]8;;\u001b\\\u001b[2m:\u001b[0m\u001b]8;id=643486;file:///home/adoni5/Projects/Chapter_1_Data/read_identities/python_scripts/make_squiggle.py#145\u001b\\\u001b[2m145\u001b[0m\u001b]8;;\u001b\\\n",
       "\u001b[2;36m                    \u001b[0m         raw_data/r9_squiggle/test_read_37_60493772_60495622.squiggle.npy  \u001b[2m                    \u001b[0m\n",
       "\u001b[2;36m                    \u001b[0m         already exists. Skipping\u001b[33m...\u001b[0m                                       \u001b[2m                    \u001b[0m\n"
      ]
     },
     "metadata": {},
     "output_type": "display_data"
    },
    {
     "data": {
      "text/html": [
       "<pre style=\"white-space:pre;overflow-x:auto;line-height:normal;font-family:Menlo,'DejaVu Sans Mono',consolas,'Courier New',monospace\"><span style=\"color: #7fbfbf; text-decoration-color: #7fbfbf\">                    </span><span style=\"color: #000080; text-decoration-color: #000080\">INFO    </span> Generating squiggle for test_read_38_21302342_21304242            <a href=\"file:///home/adoni5/Projects/Chapter_1_Data/read_identities/python_scripts/make_squiggle.py\" target=\"_blank\"><span style=\"color: #7f7f7f; text-decoration-color: #7f7f7f\">make_squiggle.py</span></a><span style=\"color: #7f7f7f; text-decoration-color: #7f7f7f\">:</span><a href=\"file:///home/adoni5/Projects/Chapter_1_Data/read_identities/python_scripts/make_squiggle.py#120\" target=\"_blank\"><span style=\"color: #7f7f7f; text-decoration-color: #7f7f7f\">120</span></a>\n",
       "</pre>\n"
      ],
      "text/plain": [
       "\u001b[2;36m                   \u001b[0m\u001b[2;36m \u001b[0m\u001b[34mINFO    \u001b[0m Generating squiggle for test_read_38_21302342_21304242            \u001b]8;id=120693;file:///home/adoni5/Projects/Chapter_1_Data/read_identities/python_scripts/make_squiggle.py\u001b\\\u001b[2mmake_squiggle.py\u001b[0m\u001b]8;;\u001b\\\u001b[2m:\u001b[0m\u001b]8;id=866249;file:///home/adoni5/Projects/Chapter_1_Data/read_identities/python_scripts/make_squiggle.py#120\u001b\\\u001b[2m120\u001b[0m\u001b]8;;\u001b\\\n"
      ]
     },
     "metadata": {},
     "output_type": "display_data"
    },
    {
     "data": {
      "text/html": [
       "<pre style=\"white-space:pre;overflow-x:auto;line-height:normal;font-family:Menlo,'DejaVu Sans Mono',consolas,'Courier New',monospace\"><span style=\"color: #7fbfbf; text-decoration-color: #7fbfbf\">                    </span><span style=\"color: #800000; text-decoration-color: #800000\">WARNING </span> File with name                                                    <a href=\"file:///home/adoni5/Projects/Chapter_1_Data/read_identities/python_scripts/make_squiggle.py\" target=\"_blank\"><span style=\"color: #7f7f7f; text-decoration-color: #7f7f7f\">make_squiggle.py</span></a><span style=\"color: #7f7f7f; text-decoration-color: #7f7f7f\">:</span><a href=\"file:///home/adoni5/Projects/Chapter_1_Data/read_identities/python_scripts/make_squiggle.py#145\" target=\"_blank\"><span style=\"color: #7f7f7f; text-decoration-color: #7f7f7f\">145</span></a>\n",
       "<span style=\"color: #7fbfbf; text-decoration-color: #7fbfbf\">                    </span>         raw_data/r9_squiggle/test_read_38_21302342_21304242.squiggle.npy  <span style=\"color: #7f7f7f; text-decoration-color: #7f7f7f\">                    </span>\n",
       "<span style=\"color: #7fbfbf; text-decoration-color: #7fbfbf\">                    </span>         already exists. Skipping<span style=\"color: #808000; text-decoration-color: #808000\">...</span>                                       <span style=\"color: #7f7f7f; text-decoration-color: #7f7f7f\">                    </span>\n",
       "</pre>\n"
      ],
      "text/plain": [
       "\u001b[2;36m                   \u001b[0m\u001b[2;36m \u001b[0m\u001b[31mWARNING \u001b[0m File with name                                                    \u001b]8;id=251273;file:///home/adoni5/Projects/Chapter_1_Data/read_identities/python_scripts/make_squiggle.py\u001b\\\u001b[2mmake_squiggle.py\u001b[0m\u001b]8;;\u001b\\\u001b[2m:\u001b[0m\u001b]8;id=823669;file:///home/adoni5/Projects/Chapter_1_Data/read_identities/python_scripts/make_squiggle.py#145\u001b\\\u001b[2m145\u001b[0m\u001b]8;;\u001b\\\n",
       "\u001b[2;36m                    \u001b[0m         raw_data/r9_squiggle/test_read_38_21302342_21304242.squiggle.npy  \u001b[2m                    \u001b[0m\n",
       "\u001b[2;36m                    \u001b[0m         already exists. Skipping\u001b[33m...\u001b[0m                                       \u001b[2m                    \u001b[0m\n"
      ]
     },
     "metadata": {},
     "output_type": "display_data"
    },
    {
     "data": {
      "text/html": [
       "<pre style=\"white-space:pre;overflow-x:auto;line-height:normal;font-family:Menlo,'DejaVu Sans Mono',consolas,'Courier New',monospace\"><span style=\"color: #7fbfbf; text-decoration-color: #7fbfbf\">                    </span><span style=\"color: #000080; text-decoration-color: #000080\">INFO    </span> Generating squiggle for test_read_39_2052859_2054809              <a href=\"file:///home/adoni5/Projects/Chapter_1_Data/read_identities/python_scripts/make_squiggle.py\" target=\"_blank\"><span style=\"color: #7f7f7f; text-decoration-color: #7f7f7f\">make_squiggle.py</span></a><span style=\"color: #7f7f7f; text-decoration-color: #7f7f7f\">:</span><a href=\"file:///home/adoni5/Projects/Chapter_1_Data/read_identities/python_scripts/make_squiggle.py#120\" target=\"_blank\"><span style=\"color: #7f7f7f; text-decoration-color: #7f7f7f\">120</span></a>\n",
       "</pre>\n"
      ],
      "text/plain": [
       "\u001b[2;36m                   \u001b[0m\u001b[2;36m \u001b[0m\u001b[34mINFO    \u001b[0m Generating squiggle for test_read_39_2052859_2054809              \u001b]8;id=472811;file:///home/adoni5/Projects/Chapter_1_Data/read_identities/python_scripts/make_squiggle.py\u001b\\\u001b[2mmake_squiggle.py\u001b[0m\u001b]8;;\u001b\\\u001b[2m:\u001b[0m\u001b]8;id=175514;file:///home/adoni5/Projects/Chapter_1_Data/read_identities/python_scripts/make_squiggle.py#120\u001b\\\u001b[2m120\u001b[0m\u001b]8;;\u001b\\\n"
      ]
     },
     "metadata": {},
     "output_type": "display_data"
    },
    {
     "data": {
      "text/html": [
       "<pre style=\"white-space:pre;overflow-x:auto;line-height:normal;font-family:Menlo,'DejaVu Sans Mono',consolas,'Courier New',monospace\"><span style=\"color: #7fbfbf; text-decoration-color: #7fbfbf\">                    </span><span style=\"color: #800000; text-decoration-color: #800000\">WARNING </span> File with name                                                    <a href=\"file:///home/adoni5/Projects/Chapter_1_Data/read_identities/python_scripts/make_squiggle.py\" target=\"_blank\"><span style=\"color: #7f7f7f; text-decoration-color: #7f7f7f\">make_squiggle.py</span></a><span style=\"color: #7f7f7f; text-decoration-color: #7f7f7f\">:</span><a href=\"file:///home/adoni5/Projects/Chapter_1_Data/read_identities/python_scripts/make_squiggle.py#145\" target=\"_blank\"><span style=\"color: #7f7f7f; text-decoration-color: #7f7f7f\">145</span></a>\n",
       "<span style=\"color: #7fbfbf; text-decoration-color: #7fbfbf\">                    </span>         raw_data/r9_squiggle/test_read_39_2052859_2054809.squiggle.npy    <span style=\"color: #7f7f7f; text-decoration-color: #7f7f7f\">                    </span>\n",
       "<span style=\"color: #7fbfbf; text-decoration-color: #7fbfbf\">                    </span>         already exists. Skipping<span style=\"color: #808000; text-decoration-color: #808000\">...</span>                                       <span style=\"color: #7f7f7f; text-decoration-color: #7f7f7f\">                    </span>\n",
       "</pre>\n"
      ],
      "text/plain": [
       "\u001b[2;36m                   \u001b[0m\u001b[2;36m \u001b[0m\u001b[31mWARNING \u001b[0m File with name                                                    \u001b]8;id=886066;file:///home/adoni5/Projects/Chapter_1_Data/read_identities/python_scripts/make_squiggle.py\u001b\\\u001b[2mmake_squiggle.py\u001b[0m\u001b]8;;\u001b\\\u001b[2m:\u001b[0m\u001b]8;id=107829;file:///home/adoni5/Projects/Chapter_1_Data/read_identities/python_scripts/make_squiggle.py#145\u001b\\\u001b[2m145\u001b[0m\u001b]8;;\u001b\\\n",
       "\u001b[2;36m                    \u001b[0m         raw_data/r9_squiggle/test_read_39_2052859_2054809.squiggle.npy    \u001b[2m                    \u001b[0m\n",
       "\u001b[2;36m                    \u001b[0m         already exists. Skipping\u001b[33m...\u001b[0m                                       \u001b[2m                    \u001b[0m\n"
      ]
     },
     "metadata": {},
     "output_type": "display_data"
    },
    {
     "data": {
      "text/html": [
       "<pre style=\"white-space:pre;overflow-x:auto;line-height:normal;font-family:Menlo,'DejaVu Sans Mono',consolas,'Courier New',monospace\"><span style=\"color: #7fbfbf; text-decoration-color: #7fbfbf\">                    </span><span style=\"color: #000080; text-decoration-color: #000080\">INFO    </span> Generating squiggle for test_read_40_1498011_1500011              <a href=\"file:///home/adoni5/Projects/Chapter_1_Data/read_identities/python_scripts/make_squiggle.py\" target=\"_blank\"><span style=\"color: #7f7f7f; text-decoration-color: #7f7f7f\">make_squiggle.py</span></a><span style=\"color: #7f7f7f; text-decoration-color: #7f7f7f\">:</span><a href=\"file:///home/adoni5/Projects/Chapter_1_Data/read_identities/python_scripts/make_squiggle.py#120\" target=\"_blank\"><span style=\"color: #7f7f7f; text-decoration-color: #7f7f7f\">120</span></a>\n",
       "</pre>\n"
      ],
      "text/plain": [
       "\u001b[2;36m                   \u001b[0m\u001b[2;36m \u001b[0m\u001b[34mINFO    \u001b[0m Generating squiggle for test_read_40_1498011_1500011              \u001b]8;id=569298;file:///home/adoni5/Projects/Chapter_1_Data/read_identities/python_scripts/make_squiggle.py\u001b\\\u001b[2mmake_squiggle.py\u001b[0m\u001b]8;;\u001b\\\u001b[2m:\u001b[0m\u001b]8;id=953389;file:///home/adoni5/Projects/Chapter_1_Data/read_identities/python_scripts/make_squiggle.py#120\u001b\\\u001b[2m120\u001b[0m\u001b]8;;\u001b\\\n"
      ]
     },
     "metadata": {},
     "output_type": "display_data"
    },
    {
     "data": {
      "text/html": [
       "<pre style=\"white-space:pre;overflow-x:auto;line-height:normal;font-family:Menlo,'DejaVu Sans Mono',consolas,'Courier New',monospace\"><span style=\"color: #7fbfbf; text-decoration-color: #7fbfbf\">                    </span><span style=\"color: #800000; text-decoration-color: #800000\">WARNING </span> File with name                                                    <a href=\"file:///home/adoni5/Projects/Chapter_1_Data/read_identities/python_scripts/make_squiggle.py\" target=\"_blank\"><span style=\"color: #7f7f7f; text-decoration-color: #7f7f7f\">make_squiggle.py</span></a><span style=\"color: #7f7f7f; text-decoration-color: #7f7f7f\">:</span><a href=\"file:///home/adoni5/Projects/Chapter_1_Data/read_identities/python_scripts/make_squiggle.py#145\" target=\"_blank\"><span style=\"color: #7f7f7f; text-decoration-color: #7f7f7f\">145</span></a>\n",
       "<span style=\"color: #7fbfbf; text-decoration-color: #7fbfbf\">                    </span>         raw_data/r9_squiggle/test_read_40_1498011_1500011.squiggle.npy    <span style=\"color: #7f7f7f; text-decoration-color: #7f7f7f\">                    </span>\n",
       "<span style=\"color: #7fbfbf; text-decoration-color: #7fbfbf\">                    </span>         already exists. Skipping<span style=\"color: #808000; text-decoration-color: #808000\">...</span>                                       <span style=\"color: #7f7f7f; text-decoration-color: #7f7f7f\">                    </span>\n",
       "</pre>\n"
      ],
      "text/plain": [
       "\u001b[2;36m                   \u001b[0m\u001b[2;36m \u001b[0m\u001b[31mWARNING \u001b[0m File with name                                                    \u001b]8;id=746178;file:///home/adoni5/Projects/Chapter_1_Data/read_identities/python_scripts/make_squiggle.py\u001b\\\u001b[2mmake_squiggle.py\u001b[0m\u001b]8;;\u001b\\\u001b[2m:\u001b[0m\u001b]8;id=500181;file:///home/adoni5/Projects/Chapter_1_Data/read_identities/python_scripts/make_squiggle.py#145\u001b\\\u001b[2m145\u001b[0m\u001b]8;;\u001b\\\n",
       "\u001b[2;36m                    \u001b[0m         raw_data/r9_squiggle/test_read_40_1498011_1500011.squiggle.npy    \u001b[2m                    \u001b[0m\n",
       "\u001b[2;36m                    \u001b[0m         already exists. Skipping\u001b[33m...\u001b[0m                                       \u001b[2m                    \u001b[0m\n"
      ]
     },
     "metadata": {},
     "output_type": "display_data"
    },
    {
     "data": {
      "text/html": [
       "<pre style=\"white-space:pre;overflow-x:auto;line-height:normal;font-family:Menlo,'DejaVu Sans Mono',consolas,'Courier New',monospace\"><span style=\"color: #7fbfbf; text-decoration-color: #7fbfbf\">                    </span><span style=\"color: #000080; text-decoration-color: #000080\">INFO    </span> Generating squiggle for test_read_41_1707642_1709692              <a href=\"file:///home/adoni5/Projects/Chapter_1_Data/read_identities/python_scripts/make_squiggle.py\" target=\"_blank\"><span style=\"color: #7f7f7f; text-decoration-color: #7f7f7f\">make_squiggle.py</span></a><span style=\"color: #7f7f7f; text-decoration-color: #7f7f7f\">:</span><a href=\"file:///home/adoni5/Projects/Chapter_1_Data/read_identities/python_scripts/make_squiggle.py#120\" target=\"_blank\"><span style=\"color: #7f7f7f; text-decoration-color: #7f7f7f\">120</span></a>\n",
       "</pre>\n"
      ],
      "text/plain": [
       "\u001b[2;36m                   \u001b[0m\u001b[2;36m \u001b[0m\u001b[34mINFO    \u001b[0m Generating squiggle for test_read_41_1707642_1709692              \u001b]8;id=332835;file:///home/adoni5/Projects/Chapter_1_Data/read_identities/python_scripts/make_squiggle.py\u001b\\\u001b[2mmake_squiggle.py\u001b[0m\u001b]8;;\u001b\\\u001b[2m:\u001b[0m\u001b]8;id=41544;file:///home/adoni5/Projects/Chapter_1_Data/read_identities/python_scripts/make_squiggle.py#120\u001b\\\u001b[2m120\u001b[0m\u001b]8;;\u001b\\\n"
      ]
     },
     "metadata": {},
     "output_type": "display_data"
    },
    {
     "data": {
      "text/html": [
       "<pre style=\"white-space:pre;overflow-x:auto;line-height:normal;font-family:Menlo,'DejaVu Sans Mono',consolas,'Courier New',monospace\"><span style=\"color: #7fbfbf; text-decoration-color: #7fbfbf\">                    </span><span style=\"color: #800000; text-decoration-color: #800000\">WARNING </span> File with name                                                    <a href=\"file:///home/adoni5/Projects/Chapter_1_Data/read_identities/python_scripts/make_squiggle.py\" target=\"_blank\"><span style=\"color: #7f7f7f; text-decoration-color: #7f7f7f\">make_squiggle.py</span></a><span style=\"color: #7f7f7f; text-decoration-color: #7f7f7f\">:</span><a href=\"file:///home/adoni5/Projects/Chapter_1_Data/read_identities/python_scripts/make_squiggle.py#145\" target=\"_blank\"><span style=\"color: #7f7f7f; text-decoration-color: #7f7f7f\">145</span></a>\n",
       "<span style=\"color: #7fbfbf; text-decoration-color: #7fbfbf\">                    </span>         raw_data/r9_squiggle/test_read_41_1707642_1709692.squiggle.npy    <span style=\"color: #7f7f7f; text-decoration-color: #7f7f7f\">                    </span>\n",
       "<span style=\"color: #7fbfbf; text-decoration-color: #7fbfbf\">                    </span>         already exists. Skipping<span style=\"color: #808000; text-decoration-color: #808000\">...</span>                                       <span style=\"color: #7f7f7f; text-decoration-color: #7f7f7f\">                    </span>\n",
       "</pre>\n"
      ],
      "text/plain": [
       "\u001b[2;36m                   \u001b[0m\u001b[2;36m \u001b[0m\u001b[31mWARNING \u001b[0m File with name                                                    \u001b]8;id=309906;file:///home/adoni5/Projects/Chapter_1_Data/read_identities/python_scripts/make_squiggle.py\u001b\\\u001b[2mmake_squiggle.py\u001b[0m\u001b]8;;\u001b\\\u001b[2m:\u001b[0m\u001b]8;id=761773;file:///home/adoni5/Projects/Chapter_1_Data/read_identities/python_scripts/make_squiggle.py#145\u001b\\\u001b[2m145\u001b[0m\u001b]8;;\u001b\\\n",
       "\u001b[2;36m                    \u001b[0m         raw_data/r9_squiggle/test_read_41_1707642_1709692.squiggle.npy    \u001b[2m                    \u001b[0m\n",
       "\u001b[2;36m                    \u001b[0m         already exists. Skipping\u001b[33m...\u001b[0m                                       \u001b[2m                    \u001b[0m\n"
      ]
     },
     "metadata": {},
     "output_type": "display_data"
    },
    {
     "data": {
      "text/html": [
       "<pre style=\"white-space:pre;overflow-x:auto;line-height:normal;font-family:Menlo,'DejaVu Sans Mono',consolas,'Courier New',monospace\"><span style=\"color: #7fbfbf; text-decoration-color: #7fbfbf\">                    </span><span style=\"color: #000080; text-decoration-color: #000080\">INFO    </span> Generating squiggle for test_read_42_43590303_43592403            <a href=\"file:///home/adoni5/Projects/Chapter_1_Data/read_identities/python_scripts/make_squiggle.py\" target=\"_blank\"><span style=\"color: #7f7f7f; text-decoration-color: #7f7f7f\">make_squiggle.py</span></a><span style=\"color: #7f7f7f; text-decoration-color: #7f7f7f\">:</span><a href=\"file:///home/adoni5/Projects/Chapter_1_Data/read_identities/python_scripts/make_squiggle.py#120\" target=\"_blank\"><span style=\"color: #7f7f7f; text-decoration-color: #7f7f7f\">120</span></a>\n",
       "</pre>\n"
      ],
      "text/plain": [
       "\u001b[2;36m                   \u001b[0m\u001b[2;36m \u001b[0m\u001b[34mINFO    \u001b[0m Generating squiggle for test_read_42_43590303_43592403            \u001b]8;id=328498;file:///home/adoni5/Projects/Chapter_1_Data/read_identities/python_scripts/make_squiggle.py\u001b\\\u001b[2mmake_squiggle.py\u001b[0m\u001b]8;;\u001b\\\u001b[2m:\u001b[0m\u001b]8;id=417915;file:///home/adoni5/Projects/Chapter_1_Data/read_identities/python_scripts/make_squiggle.py#120\u001b\\\u001b[2m120\u001b[0m\u001b]8;;\u001b\\\n"
      ]
     },
     "metadata": {},
     "output_type": "display_data"
    },
    {
     "data": {
      "text/html": [
       "<pre style=\"white-space:pre;overflow-x:auto;line-height:normal;font-family:Menlo,'DejaVu Sans Mono',consolas,'Courier New',monospace\"><span style=\"color: #7fbfbf; text-decoration-color: #7fbfbf\">                    </span><span style=\"color: #800000; text-decoration-color: #800000\">WARNING </span> File with name                                                    <a href=\"file:///home/adoni5/Projects/Chapter_1_Data/read_identities/python_scripts/make_squiggle.py\" target=\"_blank\"><span style=\"color: #7f7f7f; text-decoration-color: #7f7f7f\">make_squiggle.py</span></a><span style=\"color: #7f7f7f; text-decoration-color: #7f7f7f\">:</span><a href=\"file:///home/adoni5/Projects/Chapter_1_Data/read_identities/python_scripts/make_squiggle.py#145\" target=\"_blank\"><span style=\"color: #7f7f7f; text-decoration-color: #7f7f7f\">145</span></a>\n",
       "<span style=\"color: #7fbfbf; text-decoration-color: #7fbfbf\">                    </span>         raw_data/r9_squiggle/test_read_42_43590303_43592403.squiggle.npy  <span style=\"color: #7f7f7f; text-decoration-color: #7f7f7f\">                    </span>\n",
       "<span style=\"color: #7fbfbf; text-decoration-color: #7fbfbf\">                    </span>         already exists. Skipping<span style=\"color: #808000; text-decoration-color: #808000\">...</span>                                       <span style=\"color: #7f7f7f; text-decoration-color: #7f7f7f\">                    </span>\n",
       "</pre>\n"
      ],
      "text/plain": [
       "\u001b[2;36m                   \u001b[0m\u001b[2;36m \u001b[0m\u001b[31mWARNING \u001b[0m File with name                                                    \u001b]8;id=630662;file:///home/adoni5/Projects/Chapter_1_Data/read_identities/python_scripts/make_squiggle.py\u001b\\\u001b[2mmake_squiggle.py\u001b[0m\u001b]8;;\u001b\\\u001b[2m:\u001b[0m\u001b]8;id=478001;file:///home/adoni5/Projects/Chapter_1_Data/read_identities/python_scripts/make_squiggle.py#145\u001b\\\u001b[2m145\u001b[0m\u001b]8;;\u001b\\\n",
       "\u001b[2;36m                    \u001b[0m         raw_data/r9_squiggle/test_read_42_43590303_43592403.squiggle.npy  \u001b[2m                    \u001b[0m\n",
       "\u001b[2;36m                    \u001b[0m         already exists. Skipping\u001b[33m...\u001b[0m                                       \u001b[2m                    \u001b[0m\n"
      ]
     },
     "metadata": {},
     "output_type": "display_data"
    },
    {
     "data": {
      "text/html": [
       "<pre style=\"white-space:pre;overflow-x:auto;line-height:normal;font-family:Menlo,'DejaVu Sans Mono',consolas,'Courier New',monospace\"><span style=\"color: #7fbfbf; text-decoration-color: #7fbfbf\">                    </span><span style=\"color: #000080; text-decoration-color: #000080\">INFO    </span> Generating squiggle for test_read_43_36333576_36335726            <a href=\"file:///home/adoni5/Projects/Chapter_1_Data/read_identities/python_scripts/make_squiggle.py\" target=\"_blank\"><span style=\"color: #7f7f7f; text-decoration-color: #7f7f7f\">make_squiggle.py</span></a><span style=\"color: #7f7f7f; text-decoration-color: #7f7f7f\">:</span><a href=\"file:///home/adoni5/Projects/Chapter_1_Data/read_identities/python_scripts/make_squiggle.py#120\" target=\"_blank\"><span style=\"color: #7f7f7f; text-decoration-color: #7f7f7f\">120</span></a>\n",
       "</pre>\n"
      ],
      "text/plain": [
       "\u001b[2;36m                   \u001b[0m\u001b[2;36m \u001b[0m\u001b[34mINFO    \u001b[0m Generating squiggle for test_read_43_36333576_36335726            \u001b]8;id=647817;file:///home/adoni5/Projects/Chapter_1_Data/read_identities/python_scripts/make_squiggle.py\u001b\\\u001b[2mmake_squiggle.py\u001b[0m\u001b]8;;\u001b\\\u001b[2m:\u001b[0m\u001b]8;id=815707;file:///home/adoni5/Projects/Chapter_1_Data/read_identities/python_scripts/make_squiggle.py#120\u001b\\\u001b[2m120\u001b[0m\u001b]8;;\u001b\\\n"
      ]
     },
     "metadata": {},
     "output_type": "display_data"
    },
    {
     "data": {
      "text/html": [
       "<pre style=\"white-space:pre;overflow-x:auto;line-height:normal;font-family:Menlo,'DejaVu Sans Mono',consolas,'Courier New',monospace\"><span style=\"color: #7fbfbf; text-decoration-color: #7fbfbf\">                    </span><span style=\"color: #800000; text-decoration-color: #800000\">WARNING </span> File with name                                                    <a href=\"file:///home/adoni5/Projects/Chapter_1_Data/read_identities/python_scripts/make_squiggle.py\" target=\"_blank\"><span style=\"color: #7f7f7f; text-decoration-color: #7f7f7f\">make_squiggle.py</span></a><span style=\"color: #7f7f7f; text-decoration-color: #7f7f7f\">:</span><a href=\"file:///home/adoni5/Projects/Chapter_1_Data/read_identities/python_scripts/make_squiggle.py#145\" target=\"_blank\"><span style=\"color: #7f7f7f; text-decoration-color: #7f7f7f\">145</span></a>\n",
       "<span style=\"color: #7fbfbf; text-decoration-color: #7fbfbf\">                    </span>         raw_data/r9_squiggle/test_read_43_36333576_36335726.squiggle.npy  <span style=\"color: #7f7f7f; text-decoration-color: #7f7f7f\">                    </span>\n",
       "<span style=\"color: #7fbfbf; text-decoration-color: #7fbfbf\">                    </span>         already exists. Skipping<span style=\"color: #808000; text-decoration-color: #808000\">...</span>                                       <span style=\"color: #7f7f7f; text-decoration-color: #7f7f7f\">                    </span>\n",
       "</pre>\n"
      ],
      "text/plain": [
       "\u001b[2;36m                   \u001b[0m\u001b[2;36m \u001b[0m\u001b[31mWARNING \u001b[0m File with name                                                    \u001b]8;id=491698;file:///home/adoni5/Projects/Chapter_1_Data/read_identities/python_scripts/make_squiggle.py\u001b\\\u001b[2mmake_squiggle.py\u001b[0m\u001b]8;;\u001b\\\u001b[2m:\u001b[0m\u001b]8;id=693983;file:///home/adoni5/Projects/Chapter_1_Data/read_identities/python_scripts/make_squiggle.py#145\u001b\\\u001b[2m145\u001b[0m\u001b]8;;\u001b\\\n",
       "\u001b[2;36m                    \u001b[0m         raw_data/r9_squiggle/test_read_43_36333576_36335726.squiggle.npy  \u001b[2m                    \u001b[0m\n",
       "\u001b[2;36m                    \u001b[0m         already exists. Skipping\u001b[33m...\u001b[0m                                       \u001b[2m                    \u001b[0m\n"
      ]
     },
     "metadata": {},
     "output_type": "display_data"
    },
    {
     "data": {
      "text/html": [
       "<pre style=\"white-space:pre;overflow-x:auto;line-height:normal;font-family:Menlo,'DejaVu Sans Mono',consolas,'Courier New',monospace\"><span style=\"color: #7fbfbf; text-decoration-color: #7fbfbf\">                    </span><span style=\"color: #000080; text-decoration-color: #000080\">INFO    </span> Generating squiggle for test_read_44_617732_619932                <a href=\"file:///home/adoni5/Projects/Chapter_1_Data/read_identities/python_scripts/make_squiggle.py\" target=\"_blank\"><span style=\"color: #7f7f7f; text-decoration-color: #7f7f7f\">make_squiggle.py</span></a><span style=\"color: #7f7f7f; text-decoration-color: #7f7f7f\">:</span><a href=\"file:///home/adoni5/Projects/Chapter_1_Data/read_identities/python_scripts/make_squiggle.py#120\" target=\"_blank\"><span style=\"color: #7f7f7f; text-decoration-color: #7f7f7f\">120</span></a>\n",
       "</pre>\n"
      ],
      "text/plain": [
       "\u001b[2;36m                   \u001b[0m\u001b[2;36m \u001b[0m\u001b[34mINFO    \u001b[0m Generating squiggle for test_read_44_617732_619932                \u001b]8;id=217932;file:///home/adoni5/Projects/Chapter_1_Data/read_identities/python_scripts/make_squiggle.py\u001b\\\u001b[2mmake_squiggle.py\u001b[0m\u001b]8;;\u001b\\\u001b[2m:\u001b[0m\u001b]8;id=322249;file:///home/adoni5/Projects/Chapter_1_Data/read_identities/python_scripts/make_squiggle.py#120\u001b\\\u001b[2m120\u001b[0m\u001b]8;;\u001b\\\n"
      ]
     },
     "metadata": {},
     "output_type": "display_data"
    },
    {
     "data": {
      "text/html": [
       "<pre style=\"white-space:pre;overflow-x:auto;line-height:normal;font-family:Menlo,'DejaVu Sans Mono',consolas,'Courier New',monospace\"><span style=\"color: #7fbfbf; text-decoration-color: #7fbfbf\">                    </span><span style=\"color: #800000; text-decoration-color: #800000\">WARNING </span> File with name                                                    <a href=\"file:///home/adoni5/Projects/Chapter_1_Data/read_identities/python_scripts/make_squiggle.py\" target=\"_blank\"><span style=\"color: #7f7f7f; text-decoration-color: #7f7f7f\">make_squiggle.py</span></a><span style=\"color: #7f7f7f; text-decoration-color: #7f7f7f\">:</span><a href=\"file:///home/adoni5/Projects/Chapter_1_Data/read_identities/python_scripts/make_squiggle.py#145\" target=\"_blank\"><span style=\"color: #7f7f7f; text-decoration-color: #7f7f7f\">145</span></a>\n",
       "<span style=\"color: #7fbfbf; text-decoration-color: #7fbfbf\">                    </span>         raw_data/r9_squiggle/test_read_44_617732_619932.squiggle.npy      <span style=\"color: #7f7f7f; text-decoration-color: #7f7f7f\">                    </span>\n",
       "<span style=\"color: #7fbfbf; text-decoration-color: #7fbfbf\">                    </span>         already exists. Skipping<span style=\"color: #808000; text-decoration-color: #808000\">...</span>                                       <span style=\"color: #7f7f7f; text-decoration-color: #7f7f7f\">                    </span>\n",
       "</pre>\n"
      ],
      "text/plain": [
       "\u001b[2;36m                   \u001b[0m\u001b[2;36m \u001b[0m\u001b[31mWARNING \u001b[0m File with name                                                    \u001b]8;id=859808;file:///home/adoni5/Projects/Chapter_1_Data/read_identities/python_scripts/make_squiggle.py\u001b\\\u001b[2mmake_squiggle.py\u001b[0m\u001b]8;;\u001b\\\u001b[2m:\u001b[0m\u001b]8;id=294426;file:///home/adoni5/Projects/Chapter_1_Data/read_identities/python_scripts/make_squiggle.py#145\u001b\\\u001b[2m145\u001b[0m\u001b]8;;\u001b\\\n",
       "\u001b[2;36m                    \u001b[0m         raw_data/r9_squiggle/test_read_44_617732_619932.squiggle.npy      \u001b[2m                    \u001b[0m\n",
       "\u001b[2;36m                    \u001b[0m         already exists. Skipping\u001b[33m...\u001b[0m                                       \u001b[2m                    \u001b[0m\n"
      ]
     },
     "metadata": {},
     "output_type": "display_data"
    },
    {
     "data": {
      "text/html": [
       "<pre style=\"white-space:pre;overflow-x:auto;line-height:normal;font-family:Menlo,'DejaVu Sans Mono',consolas,'Courier New',monospace\"><span style=\"color: #7fbfbf; text-decoration-color: #7fbfbf\">                    </span><span style=\"color: #000080; text-decoration-color: #000080\">INFO    </span> Generating squiggle for test_read_45_63025233_63027483            <a href=\"file:///home/adoni5/Projects/Chapter_1_Data/read_identities/python_scripts/make_squiggle.py\" target=\"_blank\"><span style=\"color: #7f7f7f; text-decoration-color: #7f7f7f\">make_squiggle.py</span></a><span style=\"color: #7f7f7f; text-decoration-color: #7f7f7f\">:</span><a href=\"file:///home/adoni5/Projects/Chapter_1_Data/read_identities/python_scripts/make_squiggle.py#120\" target=\"_blank\"><span style=\"color: #7f7f7f; text-decoration-color: #7f7f7f\">120</span></a>\n",
       "</pre>\n"
      ],
      "text/plain": [
       "\u001b[2;36m                   \u001b[0m\u001b[2;36m \u001b[0m\u001b[34mINFO    \u001b[0m Generating squiggle for test_read_45_63025233_63027483            \u001b]8;id=683682;file:///home/adoni5/Projects/Chapter_1_Data/read_identities/python_scripts/make_squiggle.py\u001b\\\u001b[2mmake_squiggle.py\u001b[0m\u001b]8;;\u001b\\\u001b[2m:\u001b[0m\u001b]8;id=602256;file:///home/adoni5/Projects/Chapter_1_Data/read_identities/python_scripts/make_squiggle.py#120\u001b\\\u001b[2m120\u001b[0m\u001b]8;;\u001b\\\n"
      ]
     },
     "metadata": {},
     "output_type": "display_data"
    },
    {
     "data": {
      "text/html": [
       "<pre style=\"white-space:pre;overflow-x:auto;line-height:normal;font-family:Menlo,'DejaVu Sans Mono',consolas,'Courier New',monospace\"><span style=\"color: #7fbfbf; text-decoration-color: #7fbfbf\">                    </span><span style=\"color: #800000; text-decoration-color: #800000\">WARNING </span> File with name                                                    <a href=\"file:///home/adoni5/Projects/Chapter_1_Data/read_identities/python_scripts/make_squiggle.py\" target=\"_blank\"><span style=\"color: #7f7f7f; text-decoration-color: #7f7f7f\">make_squiggle.py</span></a><span style=\"color: #7f7f7f; text-decoration-color: #7f7f7f\">:</span><a href=\"file:///home/adoni5/Projects/Chapter_1_Data/read_identities/python_scripts/make_squiggle.py#145\" target=\"_blank\"><span style=\"color: #7f7f7f; text-decoration-color: #7f7f7f\">145</span></a>\n",
       "<span style=\"color: #7fbfbf; text-decoration-color: #7fbfbf\">                    </span>         raw_data/r9_squiggle/test_read_45_63025233_63027483.squiggle.npy  <span style=\"color: #7f7f7f; text-decoration-color: #7f7f7f\">                    </span>\n",
       "<span style=\"color: #7fbfbf; text-decoration-color: #7fbfbf\">                    </span>         already exists. Skipping<span style=\"color: #808000; text-decoration-color: #808000\">...</span>                                       <span style=\"color: #7f7f7f; text-decoration-color: #7f7f7f\">                    </span>\n",
       "</pre>\n"
      ],
      "text/plain": [
       "\u001b[2;36m                   \u001b[0m\u001b[2;36m \u001b[0m\u001b[31mWARNING \u001b[0m File with name                                                    \u001b]8;id=409446;file:///home/adoni5/Projects/Chapter_1_Data/read_identities/python_scripts/make_squiggle.py\u001b\\\u001b[2mmake_squiggle.py\u001b[0m\u001b]8;;\u001b\\\u001b[2m:\u001b[0m\u001b]8;id=321686;file:///home/adoni5/Projects/Chapter_1_Data/read_identities/python_scripts/make_squiggle.py#145\u001b\\\u001b[2m145\u001b[0m\u001b]8;;\u001b\\\n",
       "\u001b[2;36m                    \u001b[0m         raw_data/r9_squiggle/test_read_45_63025233_63027483.squiggle.npy  \u001b[2m                    \u001b[0m\n",
       "\u001b[2;36m                    \u001b[0m         already exists. Skipping\u001b[33m...\u001b[0m                                       \u001b[2m                    \u001b[0m\n"
      ]
     },
     "metadata": {},
     "output_type": "display_data"
    },
    {
     "data": {
      "text/html": [
       "<pre style=\"white-space:pre;overflow-x:auto;line-height:normal;font-family:Menlo,'DejaVu Sans Mono',consolas,'Courier New',monospace\"><span style=\"color: #7fbfbf; text-decoration-color: #7fbfbf\">                    </span><span style=\"color: #000080; text-decoration-color: #000080\">INFO    </span> Generating squiggle for test_read_46_59138603_59140903            <a href=\"file:///home/adoni5/Projects/Chapter_1_Data/read_identities/python_scripts/make_squiggle.py\" target=\"_blank\"><span style=\"color: #7f7f7f; text-decoration-color: #7f7f7f\">make_squiggle.py</span></a><span style=\"color: #7f7f7f; text-decoration-color: #7f7f7f\">:</span><a href=\"file:///home/adoni5/Projects/Chapter_1_Data/read_identities/python_scripts/make_squiggle.py#120\" target=\"_blank\"><span style=\"color: #7f7f7f; text-decoration-color: #7f7f7f\">120</span></a>\n",
       "</pre>\n"
      ],
      "text/plain": [
       "\u001b[2;36m                   \u001b[0m\u001b[2;36m \u001b[0m\u001b[34mINFO    \u001b[0m Generating squiggle for test_read_46_59138603_59140903            \u001b]8;id=831239;file:///home/adoni5/Projects/Chapter_1_Data/read_identities/python_scripts/make_squiggle.py\u001b\\\u001b[2mmake_squiggle.py\u001b[0m\u001b]8;;\u001b\\\u001b[2m:\u001b[0m\u001b]8;id=888285;file:///home/adoni5/Projects/Chapter_1_Data/read_identities/python_scripts/make_squiggle.py#120\u001b\\\u001b[2m120\u001b[0m\u001b]8;;\u001b\\\n"
      ]
     },
     "metadata": {},
     "output_type": "display_data"
    },
    {
     "data": {
      "text/html": [
       "<pre style=\"white-space:pre;overflow-x:auto;line-height:normal;font-family:Menlo,'DejaVu Sans Mono',consolas,'Courier New',monospace\"><span style=\"color: #7fbfbf; text-decoration-color: #7fbfbf\">                    </span><span style=\"color: #800000; text-decoration-color: #800000\">WARNING </span> File with name                                                    <a href=\"file:///home/adoni5/Projects/Chapter_1_Data/read_identities/python_scripts/make_squiggle.py\" target=\"_blank\"><span style=\"color: #7f7f7f; text-decoration-color: #7f7f7f\">make_squiggle.py</span></a><span style=\"color: #7f7f7f; text-decoration-color: #7f7f7f\">:</span><a href=\"file:///home/adoni5/Projects/Chapter_1_Data/read_identities/python_scripts/make_squiggle.py#145\" target=\"_blank\"><span style=\"color: #7f7f7f; text-decoration-color: #7f7f7f\">145</span></a>\n",
       "<span style=\"color: #7fbfbf; text-decoration-color: #7fbfbf\">                    </span>         raw_data/r9_squiggle/test_read_46_59138603_59140903.squiggle.npy  <span style=\"color: #7f7f7f; text-decoration-color: #7f7f7f\">                    </span>\n",
       "<span style=\"color: #7fbfbf; text-decoration-color: #7fbfbf\">                    </span>         already exists. Skipping<span style=\"color: #808000; text-decoration-color: #808000\">...</span>                                       <span style=\"color: #7f7f7f; text-decoration-color: #7f7f7f\">                    </span>\n",
       "</pre>\n"
      ],
      "text/plain": [
       "\u001b[2;36m                   \u001b[0m\u001b[2;36m \u001b[0m\u001b[31mWARNING \u001b[0m File with name                                                    \u001b]8;id=257790;file:///home/adoni5/Projects/Chapter_1_Data/read_identities/python_scripts/make_squiggle.py\u001b\\\u001b[2mmake_squiggle.py\u001b[0m\u001b]8;;\u001b\\\u001b[2m:\u001b[0m\u001b]8;id=350573;file:///home/adoni5/Projects/Chapter_1_Data/read_identities/python_scripts/make_squiggle.py#145\u001b\\\u001b[2m145\u001b[0m\u001b]8;;\u001b\\\n",
       "\u001b[2;36m                    \u001b[0m         raw_data/r9_squiggle/test_read_46_59138603_59140903.squiggle.npy  \u001b[2m                    \u001b[0m\n",
       "\u001b[2;36m                    \u001b[0m         already exists. Skipping\u001b[33m...\u001b[0m                                       \u001b[2m                    \u001b[0m\n"
      ]
     },
     "metadata": {},
     "output_type": "display_data"
    },
    {
     "data": {
      "text/html": [
       "<pre style=\"white-space:pre;overflow-x:auto;line-height:normal;font-family:Menlo,'DejaVu Sans Mono',consolas,'Courier New',monospace\"><span style=\"color: #7fbfbf; text-decoration-color: #7fbfbf\">                    </span><span style=\"color: #000080; text-decoration-color: #000080\">INFO    </span> Generating squiggle for test_read_47_25582183_25584533            <a href=\"file:///home/adoni5/Projects/Chapter_1_Data/read_identities/python_scripts/make_squiggle.py\" target=\"_blank\"><span style=\"color: #7f7f7f; text-decoration-color: #7f7f7f\">make_squiggle.py</span></a><span style=\"color: #7f7f7f; text-decoration-color: #7f7f7f\">:</span><a href=\"file:///home/adoni5/Projects/Chapter_1_Data/read_identities/python_scripts/make_squiggle.py#120\" target=\"_blank\"><span style=\"color: #7f7f7f; text-decoration-color: #7f7f7f\">120</span></a>\n",
       "</pre>\n"
      ],
      "text/plain": [
       "\u001b[2;36m                   \u001b[0m\u001b[2;36m \u001b[0m\u001b[34mINFO    \u001b[0m Generating squiggle for test_read_47_25582183_25584533            \u001b]8;id=846796;file:///home/adoni5/Projects/Chapter_1_Data/read_identities/python_scripts/make_squiggle.py\u001b\\\u001b[2mmake_squiggle.py\u001b[0m\u001b]8;;\u001b\\\u001b[2m:\u001b[0m\u001b]8;id=624912;file:///home/adoni5/Projects/Chapter_1_Data/read_identities/python_scripts/make_squiggle.py#120\u001b\\\u001b[2m120\u001b[0m\u001b]8;;\u001b\\\n"
      ]
     },
     "metadata": {},
     "output_type": "display_data"
    },
    {
     "data": {
      "text/html": [
       "<pre style=\"white-space:pre;overflow-x:auto;line-height:normal;font-family:Menlo,'DejaVu Sans Mono',consolas,'Courier New',monospace\"><span style=\"color: #7fbfbf; text-decoration-color: #7fbfbf\">                    </span><span style=\"color: #800000; text-decoration-color: #800000\">WARNING </span> File with name                                                    <a href=\"file:///home/adoni5/Projects/Chapter_1_Data/read_identities/python_scripts/make_squiggle.py\" target=\"_blank\"><span style=\"color: #7f7f7f; text-decoration-color: #7f7f7f\">make_squiggle.py</span></a><span style=\"color: #7f7f7f; text-decoration-color: #7f7f7f\">:</span><a href=\"file:///home/adoni5/Projects/Chapter_1_Data/read_identities/python_scripts/make_squiggle.py#145\" target=\"_blank\"><span style=\"color: #7f7f7f; text-decoration-color: #7f7f7f\">145</span></a>\n",
       "<span style=\"color: #7fbfbf; text-decoration-color: #7fbfbf\">                    </span>         raw_data/r9_squiggle/test_read_47_25582183_25584533.squiggle.npy  <span style=\"color: #7f7f7f; text-decoration-color: #7f7f7f\">                    </span>\n",
       "<span style=\"color: #7fbfbf; text-decoration-color: #7fbfbf\">                    </span>         already exists. Skipping<span style=\"color: #808000; text-decoration-color: #808000\">...</span>                                       <span style=\"color: #7f7f7f; text-decoration-color: #7f7f7f\">                    </span>\n",
       "</pre>\n"
      ],
      "text/plain": [
       "\u001b[2;36m                   \u001b[0m\u001b[2;36m \u001b[0m\u001b[31mWARNING \u001b[0m File with name                                                    \u001b]8;id=847525;file:///home/adoni5/Projects/Chapter_1_Data/read_identities/python_scripts/make_squiggle.py\u001b\\\u001b[2mmake_squiggle.py\u001b[0m\u001b]8;;\u001b\\\u001b[2m:\u001b[0m\u001b]8;id=255600;file:///home/adoni5/Projects/Chapter_1_Data/read_identities/python_scripts/make_squiggle.py#145\u001b\\\u001b[2m145\u001b[0m\u001b]8;;\u001b\\\n",
       "\u001b[2;36m                    \u001b[0m         raw_data/r9_squiggle/test_read_47_25582183_25584533.squiggle.npy  \u001b[2m                    \u001b[0m\n",
       "\u001b[2;36m                    \u001b[0m         already exists. Skipping\u001b[33m...\u001b[0m                                       \u001b[2m                    \u001b[0m\n"
      ]
     },
     "metadata": {},
     "output_type": "display_data"
    },
    {
     "data": {
      "text/html": [
       "<pre style=\"white-space:pre;overflow-x:auto;line-height:normal;font-family:Menlo,'DejaVu Sans Mono',consolas,'Courier New',monospace\"><span style=\"color: #7fbfbf; text-decoration-color: #7fbfbf\">                    </span><span style=\"color: #000080; text-decoration-color: #000080\">INFO    </span> Generating squiggle for test_read_48_46069151_46071551            <a href=\"file:///home/adoni5/Projects/Chapter_1_Data/read_identities/python_scripts/make_squiggle.py\" target=\"_blank\"><span style=\"color: #7f7f7f; text-decoration-color: #7f7f7f\">make_squiggle.py</span></a><span style=\"color: #7f7f7f; text-decoration-color: #7f7f7f\">:</span><a href=\"file:///home/adoni5/Projects/Chapter_1_Data/read_identities/python_scripts/make_squiggle.py#120\" target=\"_blank\"><span style=\"color: #7f7f7f; text-decoration-color: #7f7f7f\">120</span></a>\n",
       "</pre>\n"
      ],
      "text/plain": [
       "\u001b[2;36m                   \u001b[0m\u001b[2;36m \u001b[0m\u001b[34mINFO    \u001b[0m Generating squiggle for test_read_48_46069151_46071551            \u001b]8;id=909698;file:///home/adoni5/Projects/Chapter_1_Data/read_identities/python_scripts/make_squiggle.py\u001b\\\u001b[2mmake_squiggle.py\u001b[0m\u001b]8;;\u001b\\\u001b[2m:\u001b[0m\u001b]8;id=74361;file:///home/adoni5/Projects/Chapter_1_Data/read_identities/python_scripts/make_squiggle.py#120\u001b\\\u001b[2m120\u001b[0m\u001b]8;;\u001b\\\n"
      ]
     },
     "metadata": {},
     "output_type": "display_data"
    },
    {
     "data": {
      "text/html": [
       "<pre style=\"white-space:pre;overflow-x:auto;line-height:normal;font-family:Menlo,'DejaVu Sans Mono',consolas,'Courier New',monospace\"><span style=\"color: #7fbfbf; text-decoration-color: #7fbfbf\">                    </span><span style=\"color: #800000; text-decoration-color: #800000\">WARNING </span> File with name                                                    <a href=\"file:///home/adoni5/Projects/Chapter_1_Data/read_identities/python_scripts/make_squiggle.py\" target=\"_blank\"><span style=\"color: #7f7f7f; text-decoration-color: #7f7f7f\">make_squiggle.py</span></a><span style=\"color: #7f7f7f; text-decoration-color: #7f7f7f\">:</span><a href=\"file:///home/adoni5/Projects/Chapter_1_Data/read_identities/python_scripts/make_squiggle.py#145\" target=\"_blank\"><span style=\"color: #7f7f7f; text-decoration-color: #7f7f7f\">145</span></a>\n",
       "<span style=\"color: #7fbfbf; text-decoration-color: #7fbfbf\">                    </span>         raw_data/r9_squiggle/test_read_48_46069151_46071551.squiggle.npy  <span style=\"color: #7f7f7f; text-decoration-color: #7f7f7f\">                    </span>\n",
       "<span style=\"color: #7fbfbf; text-decoration-color: #7fbfbf\">                    </span>         already exists. Skipping<span style=\"color: #808000; text-decoration-color: #808000\">...</span>                                       <span style=\"color: #7f7f7f; text-decoration-color: #7f7f7f\">                    </span>\n",
       "</pre>\n"
      ],
      "text/plain": [
       "\u001b[2;36m                   \u001b[0m\u001b[2;36m \u001b[0m\u001b[31mWARNING \u001b[0m File with name                                                    \u001b]8;id=10398;file:///home/adoni5/Projects/Chapter_1_Data/read_identities/python_scripts/make_squiggle.py\u001b\\\u001b[2mmake_squiggle.py\u001b[0m\u001b]8;;\u001b\\\u001b[2m:\u001b[0m\u001b]8;id=304948;file:///home/adoni5/Projects/Chapter_1_Data/read_identities/python_scripts/make_squiggle.py#145\u001b\\\u001b[2m145\u001b[0m\u001b]8;;\u001b\\\n",
       "\u001b[2;36m                    \u001b[0m         raw_data/r9_squiggle/test_read_48_46069151_46071551.squiggle.npy  \u001b[2m                    \u001b[0m\n",
       "\u001b[2;36m                    \u001b[0m         already exists. Skipping\u001b[33m...\u001b[0m                                       \u001b[2m                    \u001b[0m\n"
      ]
     },
     "metadata": {},
     "output_type": "display_data"
    },
    {
     "data": {
      "text/html": [
       "<pre style=\"white-space:pre;overflow-x:auto;line-height:normal;font-family:Menlo,'DejaVu Sans Mono',consolas,'Courier New',monospace\"><span style=\"color: #7fbfbf; text-decoration-color: #7fbfbf\">                    </span><span style=\"color: #000080; text-decoration-color: #000080\">INFO    </span> Generating squiggle for test_read_49_14535739_14538189            <a href=\"file:///home/adoni5/Projects/Chapter_1_Data/read_identities/python_scripts/make_squiggle.py\" target=\"_blank\"><span style=\"color: #7f7f7f; text-decoration-color: #7f7f7f\">make_squiggle.py</span></a><span style=\"color: #7f7f7f; text-decoration-color: #7f7f7f\">:</span><a href=\"file:///home/adoni5/Projects/Chapter_1_Data/read_identities/python_scripts/make_squiggle.py#120\" target=\"_blank\"><span style=\"color: #7f7f7f; text-decoration-color: #7f7f7f\">120</span></a>\n",
       "</pre>\n"
      ],
      "text/plain": [
       "\u001b[2;36m                   \u001b[0m\u001b[2;36m \u001b[0m\u001b[34mINFO    \u001b[0m Generating squiggle for test_read_49_14535739_14538189            \u001b]8;id=491608;file:///home/adoni5/Projects/Chapter_1_Data/read_identities/python_scripts/make_squiggle.py\u001b\\\u001b[2mmake_squiggle.py\u001b[0m\u001b]8;;\u001b\\\u001b[2m:\u001b[0m\u001b]8;id=904553;file:///home/adoni5/Projects/Chapter_1_Data/read_identities/python_scripts/make_squiggle.py#120\u001b\\\u001b[2m120\u001b[0m\u001b]8;;\u001b\\\n"
      ]
     },
     "metadata": {},
     "output_type": "display_data"
    },
    {
     "data": {
      "text/html": [
       "<pre style=\"white-space:pre;overflow-x:auto;line-height:normal;font-family:Menlo,'DejaVu Sans Mono',consolas,'Courier New',monospace\"><span style=\"color: #7fbfbf; text-decoration-color: #7fbfbf\">                    </span><span style=\"color: #800000; text-decoration-color: #800000\">WARNING </span> File with name                                                    <a href=\"file:///home/adoni5/Projects/Chapter_1_Data/read_identities/python_scripts/make_squiggle.py\" target=\"_blank\"><span style=\"color: #7f7f7f; text-decoration-color: #7f7f7f\">make_squiggle.py</span></a><span style=\"color: #7f7f7f; text-decoration-color: #7f7f7f\">:</span><a href=\"file:///home/adoni5/Projects/Chapter_1_Data/read_identities/python_scripts/make_squiggle.py#145\" target=\"_blank\"><span style=\"color: #7f7f7f; text-decoration-color: #7f7f7f\">145</span></a>\n",
       "<span style=\"color: #7fbfbf; text-decoration-color: #7fbfbf\">                    </span>         raw_data/r9_squiggle/test_read_49_14535739_14538189.squiggle.npy  <span style=\"color: #7f7f7f; text-decoration-color: #7f7f7f\">                    </span>\n",
       "<span style=\"color: #7fbfbf; text-decoration-color: #7fbfbf\">                    </span>         already exists. Skipping<span style=\"color: #808000; text-decoration-color: #808000\">...</span>                                       <span style=\"color: #7f7f7f; text-decoration-color: #7f7f7f\">                    </span>\n",
       "</pre>\n"
      ],
      "text/plain": [
       "\u001b[2;36m                   \u001b[0m\u001b[2;36m \u001b[0m\u001b[31mWARNING \u001b[0m File with name                                                    \u001b]8;id=815525;file:///home/adoni5/Projects/Chapter_1_Data/read_identities/python_scripts/make_squiggle.py\u001b\\\u001b[2mmake_squiggle.py\u001b[0m\u001b]8;;\u001b\\\u001b[2m:\u001b[0m\u001b]8;id=833600;file:///home/adoni5/Projects/Chapter_1_Data/read_identities/python_scripts/make_squiggle.py#145\u001b\\\u001b[2m145\u001b[0m\u001b]8;;\u001b\\\n",
       "\u001b[2;36m                    \u001b[0m         raw_data/r9_squiggle/test_read_49_14535739_14538189.squiggle.npy  \u001b[2m                    \u001b[0m\n",
       "\u001b[2;36m                    \u001b[0m         already exists. Skipping\u001b[33m...\u001b[0m                                       \u001b[2m                    \u001b[0m\n"
      ]
     },
     "metadata": {},
     "output_type": "display_data"
    },
    {
     "data": {
      "text/html": [
       "<pre style=\"white-space:pre;overflow-x:auto;line-height:normal;font-family:Menlo,'DejaVu Sans Mono',consolas,'Courier New',monospace\"><span style=\"color: #7fbfbf; text-decoration-color: #7fbfbf\">                    </span><span style=\"color: #000080; text-decoration-color: #000080\">INFO    </span> Generating squiggle for test_read_50_28327763_28330263            <a href=\"file:///home/adoni5/Projects/Chapter_1_Data/read_identities/python_scripts/make_squiggle.py\" target=\"_blank\"><span style=\"color: #7f7f7f; text-decoration-color: #7f7f7f\">make_squiggle.py</span></a><span style=\"color: #7f7f7f; text-decoration-color: #7f7f7f\">:</span><a href=\"file:///home/adoni5/Projects/Chapter_1_Data/read_identities/python_scripts/make_squiggle.py#120\" target=\"_blank\"><span style=\"color: #7f7f7f; text-decoration-color: #7f7f7f\">120</span></a>\n",
       "</pre>\n"
      ],
      "text/plain": [
       "\u001b[2;36m                   \u001b[0m\u001b[2;36m \u001b[0m\u001b[34mINFO    \u001b[0m Generating squiggle for test_read_50_28327763_28330263            \u001b]8;id=697562;file:///home/adoni5/Projects/Chapter_1_Data/read_identities/python_scripts/make_squiggle.py\u001b\\\u001b[2mmake_squiggle.py\u001b[0m\u001b]8;;\u001b\\\u001b[2m:\u001b[0m\u001b]8;id=181657;file:///home/adoni5/Projects/Chapter_1_Data/read_identities/python_scripts/make_squiggle.py#120\u001b\\\u001b[2m120\u001b[0m\u001b]8;;\u001b\\\n"
      ]
     },
     "metadata": {},
     "output_type": "display_data"
    },
    {
     "data": {
      "text/html": [
       "<pre style=\"white-space:pre;overflow-x:auto;line-height:normal;font-family:Menlo,'DejaVu Sans Mono',consolas,'Courier New',monospace\"><span style=\"color: #7fbfbf; text-decoration-color: #7fbfbf\">                    </span><span style=\"color: #800000; text-decoration-color: #800000\">WARNING </span> File with name                                                    <a href=\"file:///home/adoni5/Projects/Chapter_1_Data/read_identities/python_scripts/make_squiggle.py\" target=\"_blank\"><span style=\"color: #7f7f7f; text-decoration-color: #7f7f7f\">make_squiggle.py</span></a><span style=\"color: #7f7f7f; text-decoration-color: #7f7f7f\">:</span><a href=\"file:///home/adoni5/Projects/Chapter_1_Data/read_identities/python_scripts/make_squiggle.py#145\" target=\"_blank\"><span style=\"color: #7f7f7f; text-decoration-color: #7f7f7f\">145</span></a>\n",
       "<span style=\"color: #7fbfbf; text-decoration-color: #7fbfbf\">                    </span>         raw_data/r9_squiggle/test_read_50_28327763_28330263.squiggle.npy  <span style=\"color: #7f7f7f; text-decoration-color: #7f7f7f\">                    </span>\n",
       "<span style=\"color: #7fbfbf; text-decoration-color: #7fbfbf\">                    </span>         already exists. Skipping<span style=\"color: #808000; text-decoration-color: #808000\">...</span>                                       <span style=\"color: #7f7f7f; text-decoration-color: #7f7f7f\">                    </span>\n",
       "</pre>\n"
      ],
      "text/plain": [
       "\u001b[2;36m                   \u001b[0m\u001b[2;36m \u001b[0m\u001b[31mWARNING \u001b[0m File with name                                                    \u001b]8;id=861457;file:///home/adoni5/Projects/Chapter_1_Data/read_identities/python_scripts/make_squiggle.py\u001b\\\u001b[2mmake_squiggle.py\u001b[0m\u001b]8;;\u001b\\\u001b[2m:\u001b[0m\u001b]8;id=907590;file:///home/adoni5/Projects/Chapter_1_Data/read_identities/python_scripts/make_squiggle.py#145\u001b\\\u001b[2m145\u001b[0m\u001b]8;;\u001b\\\n",
       "\u001b[2;36m                    \u001b[0m         raw_data/r9_squiggle/test_read_50_28327763_28330263.squiggle.npy  \u001b[2m                    \u001b[0m\n",
       "\u001b[2;36m                    \u001b[0m         already exists. Skipping\u001b[33m...\u001b[0m                                       \u001b[2m                    \u001b[0m\n"
      ]
     },
     "metadata": {},
     "output_type": "display_data"
    },
    {
     "data": {
      "text/html": [
       "<pre style=\"white-space:pre;overflow-x:auto;line-height:normal;font-family:Menlo,'DejaVu Sans Mono',consolas,'Courier New',monospace\"><span style=\"color: #7fbfbf; text-decoration-color: #7fbfbf\">                    </span><span style=\"color: #000080; text-decoration-color: #000080\">INFO    </span> Creating distributions file.                                      <a href=\"file:///home/adoni5/Projects/Chapter_1_Data/read_identities/python_scripts/make_squiggle.py\" target=\"_blank\"><span style=\"color: #7f7f7f; text-decoration-color: #7f7f7f\">make_squiggle.py</span></a><span style=\"color: #7f7f7f; text-decoration-color: #7f7f7f\">:</span><a href=\"file:///home/adoni5/Projects/Chapter_1_Data/read_identities/python_scripts/make_squiggle.py#147\" target=\"_blank\"><span style=\"color: #7f7f7f; text-decoration-color: #7f7f7f\">147</span></a>\n",
       "</pre>\n"
      ],
      "text/plain": [
       "\u001b[2;36m                   \u001b[0m\u001b[2;36m \u001b[0m\u001b[34mINFO    \u001b[0m Creating distributions file.                                      \u001b]8;id=539343;file:///home/adoni5/Projects/Chapter_1_Data/read_identities/python_scripts/make_squiggle.py\u001b\\\u001b[2mmake_squiggle.py\u001b[0m\u001b]8;;\u001b\\\u001b[2m:\u001b[0m\u001b]8;id=875235;file:///home/adoni5/Projects/Chapter_1_Data/read_identities/python_scripts/make_squiggle.py#147\u001b\\\u001b[2m147\u001b[0m\u001b]8;;\u001b\\\n"
      ]
     },
     "metadata": {},
     "output_type": "display_data"
    }
   ],
   "source": [
    "# make directory if it doesn't already exist\n",
    "R9_OUTDIR.mkdir(exist_ok=True)\n",
    "job_progress, overall_progress, progress_table, task_lookup = progress_bar_setup(1)\n",
    "barcode = None\n",
    "get_sequence(\n",
    "    TEST_FASTA.resolve(),\n",
    "    R9_OUTDIR,\n",
    "    job_progress,\n",
    "    task_lookup,\n",
    "    0,\n",
    "    barcode,\n",
    "    None,\n",
    ")"
   ]
  },
  {
   "cell_type": "code",
   "execution_count": 57,
   "id": "77301324-6e03-4a5c-acd0-c089a819043a",
   "metadata": {
    "scrolled": true
   },
   "outputs": [
    {
     "name": "stdout",
     "output_type": "stream",
     "text": [
      "nm 0\n",
      "nm 5\n",
      "0.9726027397260274\n",
      "nm 0\n",
      "nm 0\n",
      "nm 3\n",
      "0.9897610921501706\n",
      "nm 2\n",
      "0.9970845481049563\n",
      "nm 2\n",
      "0.9949494949494949\n",
      "nm 2\n",
      "0.9954954954954955\n",
      "nm 8\n",
      "0.9878542510121457\n",
      "nm 4\n",
      "0.9925650557620818\n",
      "nm 5\n",
      "0.9915966386554622\n",
      "nm 15\n",
      "0.9768518518518519\n",
      "nm 3\n",
      "0.9956709956709957\n",
      "nm 6\n",
      "0.9946164199192463\n",
      "nm 7\n",
      "0.9924337957124842\n",
      "nm 6\n",
      "0.9928825622775801\n",
      "nm 11\n",
      "0.9888017917133258\n",
      "nm 2\n",
      "0.9978835978835979\n",
      "nm 5\n",
      "0.9949647532729103\n",
      "nm 12\n",
      "0.9894128970163619\n",
      "nm 13\n",
      "0.9890510948905109\n",
      "nm 8\n",
      "0.994750656167979\n",
      "nm 13\n",
      "0.9898477157360406\n",
      "nm 17\n",
      "0.9887459807073955\n",
      "nm 15\n",
      "0.9892141756548536\n",
      "nm 16\n",
      "0.9910714285714286\n",
      "nm 14\n",
      "0.9921259842519685\n",
      "nm 2\n",
      "0.9986159169550173\n",
      "nm 10\n",
      "0.9933199732798931\n",
      "nm 12\n",
      "0.9922279792746114\n",
      "nm 12\n",
      "0.9949653870358716\n",
      "nm 4\n",
      "0.9975669099756691\n",
      "nm 28\n",
      "0.9934367541766109\n",
      "nm 21\n",
      "0.9896848137535816\n",
      "nm 26\n",
      "0.9888205701509223\n",
      "nm 13\n",
      "0.9951113525258012\n",
      "nm 9\n",
      "0.9952556668423828\n",
      "nm 15\n",
      "0.9938398357289527\n",
      "nm 10\n",
      "0.9949974987493747\n",
      "nm 19\n",
      "0.9912280701754386\n",
      "nm 32\n",
      "0.9861641221374046\n",
      "nm 14\n",
      "0.9939450395901258\n",
      "nm 18\n",
      "0.992269213278763\n",
      "nm 22\n",
      "0.9915292019616585\n",
      "nm 8\n",
      "0.9965095986038395\n",
      "nm 11\n",
      "0.9957337883959044\n",
      "nm 27\n",
      "0.9891576313594662\n",
      "nm 21\n",
      "0.9914250714577378\n",
      "nm 1\n",
      "0.9995988768551946\n"
     ]
    }
   ],
   "source": [
    "r9_identities = []\n",
    "with start_guppy_server_and_client(\n",
    "    BIN_PATH,\n",
    "    \"dna_r9.4.1_450bps_hac.cfg\",\n",
    "    GUPPY_ADDRESS,\n",
    "    [\"--device\", \"cuda:all\"],\n",
    ") as client:\n",
    "    fa = Fasta(str(TEST_FASTA.resolve()))\n",
    "    res = []\n",
    "    reads_sent, reads_recv = 0, 0\n",
    "    for signal_array in natsorted(R9_OUTDIR.rglob(\"*.npy\")):\n",
    "        # remove any non ACGT and replace with A\n",
    "        read_id = signal_array.stem.partition(\".\")[0]\n",
    "        signal = np.load(signal_array)\n",
    "        read = {\"read_id\": read_id, \"raw_data\": signal}\n",
    "        success_pass = client.pass_read(read, pack)\n",
    "        reads_sent += 1\n",
    "        t.sleep(0.1)\n",
    "    t.sleep(20)\n",
    "    ress = []\n",
    "    while reads_recv < reads_sent:\n",
    "        res = client.get_completed_reads()\n",
    "        if not res:\n",
    "            print(reads_recv, reads_sent)\n",
    "            t.sleep(3)\n",
    "            continue\n",
    "        for res_batch in res:\n",
    "            for r in res_batch:\n",
    "                ress.append(r)\n",
    "                reads_recv += 1\n",
    "\n",
    "for r in sorted(ress, key=lambda x: len(x[\"datasets\"].get(\"sequence\", \"\"))):\n",
    "    read_id = r[\"metadata\"][\"read_id\"]\n",
    "    reference_fasta = fa[read_id]\n",
    "    aligner = mp.Aligner(seq=str(reference_fasta))\n",
    "    read_number = r[\"metadata\"][\"read_id\"].rsplit(\"_\", 3)[-3]\n",
    "    sequence = r[\"datasets\"].get(\"sequence\", \"\")\n",
    "    query_len = len(sequence)\n",
    "    als = aligner.map(sequence)\n",
    "    for al in als:\n",
    "        r9_identities.append((len(reference_fasta), gap_compressed_identity(al)))"
   ]
  },
  {
   "cell_type": "markdown",
   "id": "29330be8-f6d1-4d5a-99a0-50511260fd8c",
   "metadata": {},
   "source": [
    "## R10"
   ]
  },
  {
   "cell_type": "markdown",
   "id": "915a8e75-4931-4348-a16c-cb9e62686c8c",
   "metadata": {},
   "source": [
    "### Generate the R10 signal"
   ]
  },
  {
   "cell_type": "code",
   "execution_count": 58,
   "id": "867731ac-4e81-4763-9f0d-003a10a49692",
   "metadata": {},
   "outputs": [],
   "source": [
    "def sliding_window(iterable, n):\n",
    "    # sliding_window('ABCDEFG', 4) --> ABCD BCDE CDEF DEFG\n",
    "    it = iter(iterable)\n",
    "    window = collections.deque(islice(it, n), maxlen=n)\n",
    "    if len(window) == n:\n",
    "        yield tuple(window)\n",
    "    for x in it:\n",
    "        window.append(x)\n",
    "        yield tuple(window)\n",
    "\n",
    "\n",
    "def signalify(\n",
    "    kmers: dict[str, dict[str, float]], sequence: str, noise: bool = True\n",
    ") -> npt.NDArray[np.int16]:\n",
    "    \"\"\"convert a given sequence to signal using R10 models,\n",
    "    returning np array containing 10 samples per base\"\"\"\n",
    "    a = []\n",
    "    # Always upper case signal\n",
    "    for kmer in sliding_window(sequence.upper(), 9):\n",
    "        value = kmers[\"\".join(kmer)]\n",
    "        # value = (value * 2048) / 300 - 57\n",
    "        for _ in range(sample(SAMPLES, 1)[0]):\n",
    "            # Multiplied by digitisation and divided by the range\n",
    "            a.append((value))\n",
    "    if noise:\n",
    "        # Add laplace noise\n",
    "        a = expandy(np.array(a), 1 / np.sqrt(2))\n",
    "    return a.astype(np.int16)\n",
    "\n",
    "\n",
    "def read_kmers() -> dict[str, float]:\n",
    "    kmers = {}\n",
    "    with open(R10_KMERS_MODEL, newline=\"\") as csvfile:\n",
    "        reader = csv.DictReader(csvfile, delimiter=\"\\t\", fieldnames=[\"Kmer\", \"Value\"])\n",
    "        kmers = {row[\"Kmer\"]: float(row[\"Value\"]) for row in reader}\n",
    "        return kmers\n",
    "\n",
    "\n",
    "def expandy(arr, n):\n",
    "    \"\"\"\n",
    "    :param arr:\n",
    "    :param n:\n",
    "    :return:\n",
    "    \"\"\"\n",
    "    return np.random.laplace(arr, n)"
   ]
  },
  {
   "cell_type": "code",
   "execution_count": 59,
   "id": "84ecf2fe-a66f-4765-8395-61457e545b1f",
   "metadata": {},
   "outputs": [],
   "source": [
    "kmers = read_kmers()\n",
    "fa = Fasta(str(TEST_FASTA.resolve()))\n",
    "R10_SQUIGGLE_OUTDIR.mkdir(exist_ok=True)\n",
    "for seq in fa:\n",
    "    name, seq = seq.name, seq.seq\n",
    "    signal = signalify(kmers, seq)\n",
    "    with open(R10_SQUIGGLE_OUTDIR / f\"{name}.npy\", \"wb\") as fh:\n",
    "        np.save(fh, signal, allow_pickle=False)"
   ]
  },
  {
   "cell_type": "markdown",
   "id": "e69c9279-88f6-425e-b91e-17197cb34382",
   "metadata": {},
   "source": [
    "### Basecall R10 data"
   ]
  },
  {
   "cell_type": "code",
   "execution_count": 60,
   "id": "2d8f6062-87cb-496c-b06d-a926cd55922f",
   "metadata": {
    "scrolled": true
   },
   "outputs": [
    {
     "name": "stdout",
     "output_type": "stream",
     "text": [
      "raw_data/r10_squiggle/test_read_1_9017031_9017081.npy\n",
      "raw_data/r10_squiggle/test_read_2_38198625_38198725.npy\n",
      "raw_data/r10_squiggle/test_read_3_56870315_56870465.npy\n",
      "raw_data/r10_squiggle/test_read_4_53839096_53839296.npy\n",
      "raw_data/r10_squiggle/test_read_5_51256047_51256297.npy\n",
      "raw_data/r10_squiggle/test_read_6_4235027_4235327.npy\n",
      "raw_data/r10_squiggle/test_read_7_17117392_17117742.npy\n",
      "raw_data/r10_squiggle/test_read_8_7913390_7913790.npy\n",
      "raw_data/r10_squiggle/test_read_9_33248085_33248535.npy\n",
      "raw_data/r10_squiggle/test_read_10_51067325_51067825.npy\n",
      "raw_data/r10_squiggle/test_read_11_30164834_30165384.npy\n",
      "raw_data/r10_squiggle/test_read_12_31691841_31692441.npy\n",
      "raw_data/r10_squiggle/test_read_13_43727664_43728314.npy\n",
      "raw_data/r10_squiggle/test_read_14_25475546_25476246.npy\n",
      "raw_data/r10_squiggle/test_read_15_52930328_52931078.npy\n",
      "raw_data/r10_squiggle/test_read_16_14089828_14090628.npy\n",
      "raw_data/r10_squiggle/test_read_17_6298810_6299660.npy\n",
      "raw_data/r10_squiggle/test_read_18_32739506_32740406.npy\n",
      "raw_data/r10_squiggle/test_read_19_1902366_1903316.npy\n",
      "raw_data/r10_squiggle/test_read_20_59949491_59950491.npy\n",
      "raw_data/r10_squiggle/test_read_21_56087246_56088296.npy\n",
      "raw_data/r10_squiggle/test_read_22_26159626_26160726.npy\n",
      "raw_data/r10_squiggle/test_read_23_29042506_29043656.npy\n",
      "raw_data/r10_squiggle/test_read_24_40764473_40765673.npy\n",
      "raw_data/r10_squiggle/test_read_25_51155750_51157000.npy\n",
      "raw_data/r10_squiggle/test_read_26_51483077_51484377.npy\n",
      "raw_data/r10_squiggle/test_read_27_141334_142684.npy\n",
      "raw_data/r10_squiggle/test_read_28_46696553_46697953.npy\n",
      "raw_data/r10_squiggle/test_read_29_29889428_29890878.npy\n",
      "raw_data/r10_squiggle/test_read_30_17873141_17874641.npy\n",
      "raw_data/r10_squiggle/test_read_31_48421731_48423281.npy\n",
      "raw_data/r10_squiggle/test_read_32_53809656_53811256.npy\n",
      "raw_data/r10_squiggle/test_read_33_15351972_15353622.npy\n",
      "raw_data/r10_squiggle/test_read_34_39671635_39673335.npy\n",
      "raw_data/r10_squiggle/test_read_35_63436042_63437792.npy\n",
      "raw_data/r10_squiggle/test_read_36_6860348_6862148.npy\n",
      "raw_data/r10_squiggle/test_read_37_60493772_60495622.npy\n",
      "raw_data/r10_squiggle/test_read_38_21302342_21304242.npy\n",
      "raw_data/r10_squiggle/test_read_39_2052859_2054809.npy\n",
      "raw_data/r10_squiggle/test_read_40_1498011_1500011.npy\n",
      "raw_data/r10_squiggle/test_read_41_1707642_1709692.npy\n",
      "raw_data/r10_squiggle/test_read_42_43590303_43592403.npy\n",
      "raw_data/r10_squiggle/test_read_43_36333576_36335726.npy\n",
      "raw_data/r10_squiggle/test_read_44_617732_619932.npy\n",
      "raw_data/r10_squiggle/test_read_45_63025233_63027483.npy\n",
      "raw_data/r10_squiggle/test_read_46_59138603_59140903.npy\n",
      "raw_data/r10_squiggle/test_read_47_25582183_25584533.npy\n",
      "raw_data/r10_squiggle/test_read_48_46069151_46071551.npy\n",
      "raw_data/r10_squiggle/test_read_49_14535739_14538189.npy\n",
      "raw_data/r10_squiggle/test_read_50_28327763_28330263.npy\n",
      "CCAAGGAGACAGGAAAGCTGGGAATTTAAATACAGAGTTATAAGTGTTAA\n",
      "GTCAGGATAGCAGGCATAGCATAAGGAGAGACAGTTTGTCCTGATACGTGATGTCAGCTGGGAACACTTGAAGGGTGACTCAATGGCTGGAGGGTGGAAT\n",
      "TCCTAATAATAGTAATGCCCCCAGCCCCCACTACCATCACCCCAATAAGAAGAAGTAGCTGACATCCAAGTCCTGACTCTGCCAATCTCCGGATCTCAGTGTCTAGGTGACTAACTCACTGAATCCGCACCACCACCCCACGCAGGTGGT\n",
      "nm 13\n",
      "0.9007633587786259\n",
      "TGGGAGGCTGAGGTGGGCAGATCACCTGAGATTGGGAGTTCGAGACCAGCCTGACCAAAATGAAGAAACCCCGTCTCTACTAAAAATACAAAAATTAGCCAGGCGTGGTGGCGCATGCCTGTAATCCCAGCTACTCGGGAGGCTGAGGCAGGAGAATCACTTGAACCCGGGAGGCTGAGGCAGGAGAATCACTTGAACCC\n",
      "nm 0\n",
      "CCTTGCACAGATCAAGAAACTTCGTTCTTGAAGGTCACAGTGTAACTGCCCAACAAGTTCTTCTTACCCATTGCCCAGATGAAGCTGATTTATTAAAACAAGGGAAAGAGTTTAATACATGAAGAGCTGGGTAAATGAGAGATCAGAGTTTTATTATTACTCACATTAGCTTCCTTGAAAATTTGGGGACTAGGGTGTTTCAAAGATAGTTTGGGTGGGCAGGGGCTAGGGAATGGATGCTGCTGATTGG\n",
      "nm 29\n",
      "0.8870292887029289\n",
      "ATTGTGAAGACTCGAAGGGGTGAGTCGAGGGCACCGTGGGCCTGCTATACCAAGCCGAGCCTCTCACATTCCTTGCATCACCAATTTTCTGTGGTGAGAGGTAACTGACAGGGTCCTTTCACTTGAGATGCGCCGGGTGTAGGTCAGAAGTCCTTCTGTGCCCTCGTGTTTGCTTCAGGATCCTTGAACTACCTGGGGCTGGCCCCAGACTCCCTTCTGTAGCTGAGGGGCAGGTGAAGGGAGGGCAGCTCCTAGAGCAACGGAGGCTGCCTGGTGGAGCCCAAGTTCAGGGAGATGAGC\n",
      "nm 49\n",
      "0.8430034129692833\n",
      "CGGCTGTGAATCCATCTGGTCCTGGACTCTTTTTGGTTGGTAAGCTATTGATTATTGCCACAATTTCAGAGGCTGTTATTGGTCTATTCAGAGCGTCAACTTCTTCCTGGTTTAGTCTTGGGAGGGTGTATGTGTTGAGGAATTTATCCATTTCTTCTAGATTTTCTAGTTTATTTGCATAGAGGTGTTTGTAGTATTCTCTGATGGTAGTTTGTATTTCTGTGGGATTGTTGGTGATATCCCCTTTATCATTTTTTATTGCGTCTATTTGATTCTTCTGTCTTTTCTTCTTTATTAGTCTTGCTAGTGGTCTATCAATTTTGTTGATCCGTTCAAAAAACCAGCTCCTG\n",
      "nm 77\n",
      "0.8115501519756839\n",
      "AAGAGCACATTTTGGTGGAAACTGAAGGAAGGAAAATCTGATGGGGAAAAGAGGTGTATAGCTTAAGGAGGTTTGAGTCTTTCCCAGAGACTTCCACTCAGTTTCCAGCTTTGACTCAAGATGATTGTAATCCCAAAATACAACCAGGAAAGAGATAATAATTCACAGCTTGTGGACAGGGTGAATGAATGACCTGATGAAACCTTTATAGTTCAACATCAGATTATGTGATATATTGTTTTTGCTAAGATGAATGATTTGAGTGAATGAATCAATGAATCTTGACCCATGGATGAACCACAGTGAAAGGAATATTGCTGAAAGAAGAAGTAGACAGTGAGGGATCAAAGATGTGGCTTTTTTAAACCTTCATTATTTTCTTTCTTCAATCTTCTTAGCC\n",
      "nm 60\n",
      "0.8727272727272728\n",
      "GGAAGGGAGATCATGTACTGCACAAATTTAACAGGTCTGATAATGTTGCCCACCTGAGTAGAAGGATCAGATGTCCCTGGAGCCACTAATGGGACCCTAACATCCTGGAACTCTTTGGTCTCATCCACTACCCCTGTGGAGTCCCATAAAAGAGAGGTGCCCAGGGGAAGCATCACCACCAGATTAGAGTTAGGGGGCCCCATCTGGGGTATTATGACAGCCTGAACCACAAACTACCCCAGAGACGTGCACTCCTTAGGGAAAAAGAAAAAAAGAATGGTTGAGAACACGGAGATTGGAATTTCACAGGCACAGCCTAATCAAGCACTGTCCAGTCCATGTCCACCTCAAGCCCCACCAAGTTCAGTGTTTCCCAGCATGTGCTGCAGTATTTACTGTGCATCCTGCCCTAATCAGGCAAGGGTACCAGCCCATTAGCAGACCACCTTA\n",
      "nm 49\n",
      "0.9187935034802784\n",
      "CAGCTACTCAGGGGGCTGAGGTGGGAGGATCACCTGAGCCCCGGAGGTAGTGAGCCATGATCGCACCACTGCACTCCAACCTGGGTGACAGAGTGAGACCCGGTCTCAAAAACCAAAAAAATCCAAAACACATTTTCTTGCTCTTTTCTTCAGATTGGATAATTTACATGGACCTATCTTTAAGGTGTAACTTTTCCCCACGTCATTTACATTCTGCTGTTAAACTTGTCCCCTAATTTTAAATTTCATATGATGTATTTTTCAGTTCTAGAATTTCCATTTGGTTTCTAGTTATATTTTTCTTTTCCTGCTGAGGTTTCCTATTTTGAATATTATGTGGTAGAGACTTTAGATTCTTATTTGCCAAAGAGTGCAGATTTTTTAAGCAGATAATTGAGTTGGTTGAACGAAAACTGCAAAGTCTGTCTCTAGTGAGACAGCTAATATCTCAGTTCAGCTTTTTTTTTTTTTTTTTAACCTTCATTTAGGCTGCTTGAAAT\n",
      "nm 67\n",
      "0.895397489539749\n",
      "AAAAATCCCCGTTTCCAACGAAAGTCTCAAAGAGCTCCAAATATCCACTAGCAGATTATTCAAAAGGAGTGTTTCAAGACTACTCTATCAAAAGAAAGGTTCAACTCAGTGAGTTGAATGCACACATCACAAAGAAGTTTCTTAGAATGCTTCTGTCTAGTTTTTATGTGAAGATATTTCCTTTTCCGCCATAGGCCTCACATCTCCACAAATATCCACTTGCAGATTCTACAAAAAGACTGTTTTAAAACTGCTCTATCAAAAGGAAGGTTCAACTCTGTGAGTTGGATGTACACATCACAAAGAAGTTTCTGAGAGTACTTCTGCCTAATTTTTGTGAGAAGATATTTCCTTTTTCACCATAGGCCTCAAAGCGCTCCAAATGATTACTTGCAGATTCTACAAAAAGAATGTTTCAAAACTGCTCTATCAAAAGAAAGGTTAAACTCTGTGAGTTGAAAGCACACTTCACAAAGATGTTTGTGAGAATGCGTCTGTCCGGTTTTTATGTGAAGATATTCCCGTTTCCATTGAAGGCCTCAAAGCTCCA\n",
      "nm 57\n",
      "0.9055555555555556\n",
      "CCGCAAGATACCATCTCACACCCACCAGCTCCATAAAAATTTAAGTCTGACCATATCAAGTATTAACAAAGAGGTAAAGTAATGGAAAACCCATATGCTGTTGGTGGCTGTGTAAATTCACACAAACACAGGAAAACAATCTGCCATTACCTTCTGATCAAGCAATTCCACTTCTGTGTAAACCCTACAACAATGATTCTCAGTGAGGTCCCAGGACCAAGAGTGGCAGCATCAGCTGAGAAGTTGTTAGAAGTGCAAATTCTGAGGGCCCCAACCCTGACATACACAATCAAACACTTTGGGGGTGGAGCCCAGCAATCTGAGGTTTAACAAACCTTCCAGGTGATTCTGATGGGCAGCTAAAGTTTGGGAACCACTGCCTGGGAGAAACTCTTGAACATGTGCATGTGCAGGAGACACAAACAGTTTTCATAACAGCATTGTCTGAAACAGCAAAAACAAGGGGACAACCCAAATAACCACTGACAGCAGAATGGATACACAGCTTGAGACATGATCATATAAATGGATACGAAAATGAACAAATTATGCTATGCAAGTAACATGGATGGATCTCAACCTTGAATGAAAAAAGGAAAC\n",
      "nm 84\n",
      "0.9028960817717206\n",
      "TGCCGTTGTCCCTCACAGAACTGGACCAAAGTCTGAATGGACGCAATTGACACATATCTCAGGGTGTTAGTGGTTTTGGTCCTCTGACATTCTATTTACATGTCTGGTGTTAGGTAGGATTTCTTCTAAAAATTGGCCTGGAGCTCCTTCCCACCCCCCACCCTGTTAAATTGTTTCTCAAGATCTGAGTGACAGTAGAGAAATACCATATTCCTGAATAGGAAGACTCAAAATCATAAATGAATATTCTCTGTAAACTAAATTACATAAATTACATAGTCATCCTAAATTGATACATAAATATAATGCAATTCCAAATAATTTTTGTAGCTTTATGTGCTGATATCTGATAGAGCAAGTCTCTGCTTGTTATTAGTTTTCCCCCCAAAAGCCTTGACTATCTTCAAGGATTTGTTATTCTAGATCATGTGTCAACAAACTATGGGCCCATGATTCAAATCCAGATGGCTATCTGCTTTTGTAAATAAAGTTTTATTGAAGCACAGCCACACCCATTTGTTTATATATTGTCCATTGGCTGCTTTTGAGCTAGATTTGAGTAGTTGCAACAGAATCCAGATGACCTAGAAACCTCTAATGTTTTCTGTCTGGCCCATTATAGAAAAAGCTCACCCATCCTATTCTTGGTG\n",
      "nm 102\n",
      "0.8564742589703588\n",
      "CAGCCTCTTCTGGGAACAACAATGAAAAATCTTTGGAAGCGAGGGCCGGGCGCAGTGGCTCACGCCTGTAATCCCAGCACTTTGTGAGGCCAAGGCGGGCAGATCACCTTTGAGGACAGCCTGGCTAACATGGTGAAACCCCGTCTCTACTAAAAATACAAAAATTAGTCAGGCGTGGTGGCAGGTGCCTGTAATCCCAGCTACTTGGGAGGCTGATGCACAAGAATATCTTGAACCCGGAAGGTGGGTTCAGGACCCCGAAAGGCAGTCCTGCCCTCCCTCTGCCCAGTGGTAGAGCACCAGATGACCGTGGCATTCCGGGACGGGGCTGGGCTCACAACCCCTACTCAGGCTGAAGGGCTACACAGCCCCCATCAGGGGCTGCGAGCTTGTCGGCAGGAAGGGCCACATAGCACCATTAGCAACAGGGGTCAGTGGGTTAGTTCTGCATTTTTAGTTTGAAGTGTTTAGTTTTAAGAATGAGTAGAAGGCAAACCTGTCGTTCTCTCTCAAATCTACATGTTTCTCCAGAGCCCGGACGACGTCTTCCAGATGTAGAAGTTTGGTTTCCATGTCATCCTTCTCTCTCTCCAGCGCTATTTTGGTCTCCCCCTCTTCTGGGGCAGCAAGCTGCTCCTGCCAGGAACCCTGCGGGTCTGCGAGCTGGAGGTGGGATGGCAAGGACCCTCTCCTGGCAACC\n",
      "nm 51\n",
      "0.9317851959361393\n",
      "ACTTTGGGAGGCTGAGGCGGGTGTATCACAAGGTCAGGAGATCAAGACCATCCTGGCCAACATGGTGAAACCCCATCTCTACTAAAAATACAAAAATCAGCTGGACATGGTGGCACACACCTATAGTCCCAGCTACTCAGGAAGTTGAGGCAGGAGAATCGCTTGAACCTGGGAGGCAAAGATAGCAATGAGCTGAGATCTTGCCACTGTACTCCAGCCTGGTGACAGAGTGAGACTCTGTCTCAAAAAAAAAAAGAATACAAGATTCTCAAGTGTGGCCCCTGGACCAGTGTTAGGGCCTTACTGTTTAAGCCAGAATTGGCAAACTGTGGCCTACAGGCCAATTCTGGGCACACTCATTCATCGTTGTATTGCCTTTGGCTGCTTTCAGCCTATAATGGCCATGTTGAGTAGCTGTGATGGAGACCCTATGGCCCATAAAGCCTAAAAGACTTACTGTCTTGTCTTTTACAGACAAGTTTGCTGATGGCTGACTTAAATTTTAAGCCAATGGTGCATTTTTTCTCTCTATAAGAACTGGTTCAGAGAGAGATCCATGAATCAAATCAGGCTAGTAAAAGGCAACGAAACTCGGCCGAGCATGGTGGCTCATACCTGTAATCACAGCACTTTGGGAGGCCAAGGTGGGCAGATCACAAGGTCAGGTGATCGAGACCATCCTGGCCAACATGGTGAAACCCTATCTCTACTTAAAAAAAAAAAATACAAAAATTAGCTGGGCATGGTGGC\n",
      "nm 85\n",
      "0.9277929155313351\n",
      "TCTCCCAATGGTGGCTTTGTATATAGCTATAGTACAATATCAAAAGCAGATTTTAAAAAATAATTTATTTTAGTTTCAGGGAGTGCTTGTATACTTGTTACATGGTATATTGCATAATGCTGAAGTTTGGGGTATGACTGATCCTGTCACCTAGGTAATGAGCATAGTACTCAATGGTTACTTTTTCAACCTTGCCCTTTCTTTTCCTTCCCCCTTATTAGTGTTGCCATTTTTATGTCCATGTTTACCCAATGTCAAAAACCGAAAATTGATATTGTTACATTACTGTTGTCTAGACTACAGACTTTATTCAGTTTTAACAATTTTTAAACTTGCATTCATGTGAATGTGTGTATATATGTGTGTAGTTCTTTGTAGTTGTATTTAATGAATAGATTCATGTGACCACCACCACAATCTAGATACAGAACTATTCCATTATCATAAAAGAACTCCCTCATGCTGGCCGGGCACGGTAGCTCACACCTGTAATCCCAGTACTTTGGGAGGTCAAGGCGGGTGGATCATGAGGTCAGGAGTTCGAGACCAGCCTGGCCAAGATGGTGAAACCCCGTCTCTACTGAAAATACAAAAATTAGCTGGGCACGGTGGCAGGTGCCTGTAATCCCAGCTACTCTGGAGGCTGAGGCAGGAGAATCGCTTGAACCCGGGAGGTGGAGGTTGCAATGAGCCGAGATTGCACCATTGCACTCTAGCCTAGGCAACAGAGCAAGACTCCGTGTCAAAAAAAAAAAAAAGAACCCCCTCATGCTGCCACCTTTGTATTTATATCCACCCAT\n",
      "nm 66\n",
      "0.9278481012658228\n",
      "ACAACAATTCTGAGTAACTTAAATAAATATGGAATGTTCTGGAAGCTGTGGGGTAGGATACAGAGTTGAGGGAAAGCCCAAGACCCAGAAATTAGAAGGTCAGTGTTAAAAACATCTCTCAGATGTGGGTAGTGAGAAATAAAGGAGAGCCCTTCGTGCAGGGGGTCATCAGCTCCAAGCATTTTCTCATCTTTATACATCTCCCTTCAAGATTCAGAACCCTAGGAGGAGTCTGATTGACCTAGCATGGGTTATACGACCAGCCTTGGCGAGAGGAGGGCAGGATTCTTTAAATAATGGGAAACCTGTGCTATTACCAAAGATAGGGAGAGGAGAACTGCGAAGGCAAAATACAGATGACCATCACGAACAAGGGGTACTTTTCTTTTCTATCTGTGGTTTCTAATGTTTTTGCTACAAACAAAATACAAAAAATATTTAAGAAATATTTATGTATTATATATATAATATATATATTTATAAATGTTATAATAAACATTTTAACATTTGTCCTTTTAATAGTAAGAAGAAAAGATAGCAGCAACACCATTAAGAGGAAGCTAGTTCACTGGAAGGGATTCAGAGGTGAACATTTGGGAAAGTAAACGGACAGGAAGCCATGCAAAATAGGCTCTTGGTAGGAGCCTGGGATGTTTTAGTTGGTGAATGAGGATACTCAGGTGCATATGAGAGCTCTTTTTTACCACTTGAGGGAACAGTATCTGGATGTGGTGGGCAGTATTCTGCAGGGTTCCAGGAGTGAGAGTGCTGGGCCCAGGGGTGCTTCTAAAGAGGGTTGCTGCTCAATGGCAGGAGAGGCAGCCTCAAGTGCTCTCATAGGACCTCACCC\n",
      "nm 118\n",
      "0.8726635514018691\n",
      "TAGTGGCGGGTGCCTGTACTCCCAGCTACTCGGAAGGCTGAGGCAGGAGAATGGCGTGAACCCGGGAGGTGGAGCTTGCAGTGAGTCGAGATTGCACCACTGTACTCCAGCCTCGGTGACAGAGCAAGGCTCTGTATCAAAAAAAAAAAAAAAAAAAATACATAAAAGCACTTAGATCCCTATTGTCCAGTGGCCACTTGCCACATAAGCGCTTGAAAAGGGCTAATCTGACCAGGGGTGGTGGCTCACTCCTGTAATCCCAGCACTTTGGGGGGCCAAGGTGGGTGGATCACTTGAGGTCAGGAGTTCGAGACTACCCTGACCAACATGGCGAAAGCCCATCTCTACTAAAAATACAAGAAAAAATTAGATGGGCATGGTGGTGAACACCTGTAATCTCAGCTACTTGAGTGGCTGCAGCATGAGACTCACTTGAACCCTGTAGGCGGAGGTTTCAGTGAGCCGAGATCACATCCCCGCACTCTAGCCTGGGCAACAAAGCGAGACTGTCTTTAAAAAGAAAAGGGCTGGCCGGATGCGGTGGCTCACACCTGTAATCCCAAAACTTTGGGAGGCCGAGGTGGGCAGATCATGAAGTCAGGAGATCGAGACCATCCTGGCTAACACGGTGAAACCCCATCTCTATTAAAAATATAAAAAATCAGCCGGGCATGGTCGCAGGCAGCTGTAGTCCCAGCTACTTGGGAGGCTGAGGCAGGAAAATGGCGTGAACCCGGGAGGCGGAGCTTGCAGTGAGCCGAGATCACGCCACTGCACTCCAGCCTGGGCAACAGGGCCAGACACTGTCTCAAAAAAAAAAAGAAAAGGGCTAAACTACTTTAAGATGTGCCGTAAGTGTAAAACACCAGATTTAGAAAACTTTGTACCAAAAAGTAAAAT\n",
      "nm 38\n",
      "0.9738339021615472\n",
      "CTTAGGCCACACAGCCAGTGAGAGGTAAAGCCAGGCTCCACTCCTCACTTTACCCTTAACCACTTTGCAGTCATTATTAGGGTCATTTTAATTGTAAATATTCATTCAACAAATATTTTTGAGCACCTACTATGTGCCAGGGATGGCTCTAGGTGCTTGGAGGATACAAATGTGAACAAGACAGACAAAAACACCTGCTCTCGTGCAGCAGACATTCTAGTGAGGAAGAGAAAAACACACCCAAGTAAACAAATGATGCCAGGTAGCTGGGGAGAAAAGCAGGAGGAGGGAAGGGAGAAGGTTAGTCAGGACAGAGGGAGGGCCGCTCTAAGGAGCAGAGGCCTCAAGAAAATGTACAATTAAGGCCAGGTGCGGTGGCTCACGCCTATAATCCCAGCACTTTGGGAGGCTGAGGTGGGCAGATCACCTGAGGTCAGGAGTTTGAGACCAGCCTGGCCAACATGGCGAAATCCCATCTCCACTAAAAATACAAAAATTAGCCGGGCATGGTGGCGTGCGCCTGGAATCCCAGCTACTCTGGAGGCTGCGGCAGGAGAATCGCTTGACCCCAGGAGGCAGAGGTTGCAGTGAGCCGAGATTGCACCACTGCACTCCCGCCTGGGTGACAGAGCAAGACTCTGTCTCAAAAAAAAAAAAAAAAAAAAAGAAAAGAAAGAAAAGAAAATGGAGGAGTAGCCACGGGGGATAGCAAGAGCCCTCCATGTGGGAGGAATGGCAGATGCAAAGGCCCTGAGGCAGGAATGAGCTTGTATGTTCCAGGAATTGCAAAGAGGCCAGTGGGGCTGGAGTGAAAGTAGAAGAGGTGGGGGAGTGAGCAGAGGTCAGGGCCAGACCAGCAGGATCTGGCTCATTGAGCACCTAACATGGAGCATGTCTGGCTTGTGAGAGGATCATTATGCATTCTCTCATTTAATTCTCACCACGGGTTC\n",
      "nm 61\n",
      "0.9529025191675794\n",
      "GTGGAGGATTCTCTTTGATTCATTGAACAGTCTCACATCATAAAACACTGTATCCAGCATAGAATCGTCCTCAATGAAGTAACATAAATCATCAATTTATAAAAATCTTCACAGAGATCCCTGTTTCATAAAATGCAATTTGAATATTTTTGTCTTCAGCAATTTAATGTATAAGGAATTACTGTAATAATACTGGAAAATATATATGGAATTAAAAATGGAATAGTCATAAATAATTGCCCTAGCTTAAATGAGATTTTAGAGCAAACAAATAACACATATTTAACTTTAGATTACATTAAGCGAGGACAATTTCATGTGAGCTCCTCCCTAGACCTACTGAGTCAAAGTCTGCATTTTAACAAAATCCTTGGCACATTAAAGTTTGAGAAATCTGCTTTCCTGGTACTTAAGTCTGCAAGTTTGAGTGACTACCTTTATGGTGGGTGAGTAGCTGGTAGGCCCTCTCCCCCTCAAGCAAGCCATTTGCTTATCTAGCCCTATTTTCTCCGTAGTTTAAAGGCACTGGGCTGGCTGCTTACCTAACAGGTTGCCTAAATGAATGATTCACGGCCTCTGATAAAATCTGCTCCACAAGTGAATGCTAAGGAGTTGAAGTTTATTTATTTATTTTTTTCAATAGCTTTTAGGGTACAAGCGGTTTTTTGTTACATGGATAAATTATATAGAGATGAATTCTGAGATGTTAGTGCACCTGTCACCCGAGTAGTGTACATTGTACGTCATGTGCAGTTTTTTATCGCCAGCCTCCCTCCCAACTTTCCCCTACTGAGTCTCTAAAGTCCATATGTCACTCTGTATGCCCTTGCATATTCATAGCTTAGCTCCCACTTCTAAGTGAAAACATAAAGATTTGGGTTTACCACTCCTATGTTACTTCAGTTAGAATAATGAGGTCAGGAGTTCGAGACAAGCCTGGCCAACAAGGCGAAACCCTGTCTCTACCAAAAGTGCAAAAATTAGCCAGGCATGGTAGCAT\n",
      "nm 103\n",
      "0.904621435594887\n",
      "TAATTCTATGTCAGTTCTGGATCCATTTTGATTGATTAAATTTTATTCTGGGTTATAGGGGTTTTTTGCTTCTTTGCATGCTTGGCAATTTTTATTAGATGCAAATATTATGAATTTTCTATTGTGGAATGCTGGCTATTCTTCTATTCTTTCTGATATTCTCAAGCTTTGTCCTGAGATGCAGTTAGTTACTTGGAAACAGTTTGATCCTTTCATGTCTAGATTTTAAGATTTGTTAAATGAGATGTAAGCAATGCTCAGTCTTGAGATGATTATTCCCCACTATTGAAGCAAGACCCTTCTGTGTACTCTACCGATGTTCATTAAATCATGGGGTTTTCCCATCTCACTGGTGGGAGCAAGCACCATCTCTGGCCCTATATAAATGTCAGGTCCTGTTATCTCTCACCTTTTTTTTTTTTTTTTGTGGTCTTTTCCATGACCTTGGGTAGTTTAGTCATATGCATGTGCTGATCAGTATTCAGCTGAATACTCAAAAGCGACCCTCTGCAGATCTCTGCAGTTCTTCTCTATGCAGTGCTCTCCCACTTCTTACAAATTCTCCTACCCTGATTTCTCTAAACTTTCATTTCCATCTCCTCAACTCAAGGAGTTCACTGGGCTCCACCCGAGGTTCCTTTTTTGTGCCACAATCTGGAAACTCTCTCAGGTTTGCAGGTTTCTGAAGCAAACGTAGGGCTCACGGTTTTTGTTTCCCATCTGTCAGGGATCACTGTCCTTCGTGGTCTGATGTCCAGTGTCTTGAAAACCTATTGTTTTATATATTTTGTTTCCTTTTTGCTTATTTCGGGCAGGAAGAAAAATCCTTCATCTTAGTTGGAAGTAGAAGTCCTTGTCTCAACTTTACCTATTCTACTCATTTCTAATAAGGGCCCCTGATTGGTTTTCCCAACAACTGAACTCTATGCTTTGATCACTCACCTTCTAGCACATTCTGCCTCTCTGATTTGACTCAAAGAAATACTATAATCTTGGGATCAGGAATACCTAGGTTCACTTGCTTGCTGTTGCACTAACTCTATTAGTTTA\n",
      "nm 138\n",
      "0.8886756238003839\n",
      "CCCAAATCCATATATTCCAGGTAGATACAGTGAACTTCATTAGATTTGCTTCCAATAGTTTGTAGTCATTGTTTAATTGGGGAATTTACTGCTACTCCAAATATCATATGGAATCCCAGTCATCTCTTAATGTCTTTTTTAAAAATGAATTTGCCAATATTTTATAGGTAATACAAGGCCAGAATAGTAAAATGATCCAATAAAGGCAAGCTAACTAATCAATTAATCTGAAAATAAAATTGTCACCTGAAATTCTACTATGTAGGGGTCATTGCTGTTAAAACATTAGGGCCCTCCACTATTGTGGGGCCAATTTAGTTCTATACACTTTCTGATATTCTCAACTGTGTCACTATAACTTGTATCCCTTGTCCCGAACACCAAGTCTTTTTCTTATTCTTCTACTCTCTCTAATTCTTAAAATTAGACCCAACATTGTCTGAAGGAAGAACTTGGGGCTGGGAATTAGGATCTTATCAATGAAAATGAAGTAATCTAAAGGTCACTGGATATCTTTAGATATTTATTTACATAGATGAAATATGGCTAGCAACATAGTTAGAAGCATAAGATATTGTGAACAGAAAATAAGAAGATGAAATTATCTCAAATAGGAAGTATAAAAAAAATCAAGGACATCGGAAGTGAGCCTGGGGGAGCAAAGTTTACTCTATCTTTTAAATAATAATTTTCTTTATTTCTTTTAATAATACATTCTTTAGAAATCATAAGGCTAGGTATTAAAACTTGTGATACCAGTGTGCTCAAATTATGTCTACCATTGGAGATTCTCACTTTTATTTTTTGAATTTATATTTTAGAAAAAATTACCTGTCCCTGTTTAAATGTATATTCATCCCAATATAAAATACATAAATAAAATGATATAGACTCAATACTTTAAAAAAAACTTAAATTCTAACATTCTGTAGTTCTTCCACATCTCATTTGTAAAACAAGTAACTGATTTTTAAATTAATGCCCTATAAATAGGTTAAATTTATTTTTAAATTTGCCCTCCAGAGAAAAGGGTTGTAGCATTTTATTTTTAACACACAAAATCTATCTAGATATTGAAAAAACCTTGTCATTGGCAGATA\n",
      "nm 154\n",
      "0.8774774774774775\n",
      "TCTCTTGAATTTGTGATCCACCCACCTCAGCCTCCAAAAGTGCTGGGATTAAAGGCATGAGCCACCATGTGCTGCCCAATAAATGCTTTTTAAAGAATGTGTTAATAATTTTTTTCCAGAATTGTATGTTCAGAATTTTGTTTTTTTAGGATTGTAATTTTCAGGATTTTAGACTGTACAGATTTAGATCTTTTGGGACTTCAACATATGGGATTACGACGTTTAGGATTGTGTTTTCCTGGGCTGTGGCCCAAACTCGTGTGGTCCAACACTATTTCACATGAGAGGAAAGCAAACCACGTGCACAGATGCAATGAAGGCTTAAATAAGCGTCATGTATAGATTATATCCCAGGAAAACATGATTAAGATGATACATAGCGACTTTTTTTTCCCCAGTGAAAAAGATCCACATTCTTTTTCTTGTGTGGAATTAAACACAATTTCTGAATCAATGTAAGTGAATGCAAATCACCACGTTCACTTAGCTGATGCTCCTTTATTAACAGGGATAGAAAGGAGGTCATTCGAAGAGATGATGGCATGGGACCCAGGACCTGAGGAAGCTGCAGTGGGTGAAGGGGAGAAACAGAGGAGCAGGGGCTGGAGAAAGAGTGGGGAGTCATCAACCACCCTCCTTTCTCCTGGCATCTGGTGTTCGGAGCCCAGAGGTCTTCTCTAGGGCCTCGGAGAAGCTTCCAAGTCTGTTCATTTATCTTTCCCCACCCCTGCTTGTATCACAAATAAAGAAATTATTGACAACTGAGTTCCTGACTAGGTGGCAGGATTTTAGGGACCCTTCACCTCGTCTGAAACTCATGAAGGTAGTGGGAATCCCATGGGTTAGTTAGTAACAGTCCCTGAGATTATTTGGTCATATAAATAATCAGAAAACTCATAGTCATCTTGCTTTTCTCATAATGCCCAGCTGGGGGATGTTGGGGGTAGGGAGGACTGGAGTGAGAAGAGACAGAACCAGAGCTGGCTTTCATGTATGGGGCTCTCCAGAGCAATCAGGCCTAAGTACAACCAAGAAGGGTCTTGAAGCCACTCTGGCAAGGGCAGCCTGGTCTCAGACCCCAGCTCACACCAAGCACGTCACCTGTCCGACTGGAAAGCTTAAACAATGTGTTTCTGTTTTTGCTTTTGTT\n",
      "nm 177\n",
      "0.8681506849315068\n",
      "GCAGATAGAGAGACGGGAGTCATGCTAAGCCAGTATAATGACCTTTGTAGGATGGAGAAGGAAATTGGAGAGACCCTGCATTTAATGACAGGCATTGTACCAAGAGCACTCTCATTTGTAATCTCAATTACTTCCTGACAACAGTCATAGAAAGTAGTATTCACCCCACTTGAATGATGAAGAAACTGAGGCAGAGAGAGAAGTAATTTACTCAAAATCACACATGCACACAGCTAGAAAGTGGCAGAAACTTCAAAGTATGTACTCATTCCACTGCTCCCCACAGCCTTCCAGCTTTGCATCCAAAGAGTTTTCTAGAGCCCTCAGTGGGGTCTTTGTCTCCGATTTGCTCACTGCTTGGTGGTGAGCATCATGGCTGCCTCCCATAATCATCTGTAGCTTGTCCCCGGTTTCTTTCTACAAATTCCTCGTCAGCTTGATGCTCCTACCTGATCCTCCCTGGCCCTGGCTGTCACCCTACACGCCACCGGCAGCAAGCTGGAGCATGTGGTGGAGTAGGAATACAGCCTAGTGCCTGCTGGGGCACACCCCACAAGGGAGGAGTCAACAGAAAAATGTCCAAAGTGATCATCCTCAAAGTCTGGTCCCCAGGCCAGCCGCATCAGCATCACCTAGGAGCCTATTAGAATGCAAGTTCTCAGGCCCCATCCAGATTTACTGAATGAGAATCTCCGAAGCTGGGGCCTTGCAATCTCTGGTTTTCTGTTTGTTTTTGTTTTGTTTTGTTTTGTTTTGTTTTGTTGTTTTGTTTGAGACAGAGTCTCACTCTGTCGCCCAGGCTGGAGTGAGTGCAGTGGCACGATCTTGGCTCACTGCAACCCTCGCCACCTGGGTTAAAGCGATTCTCCTGCCACAGCCTCCTGAGTAGCTGGGATTACAGGCACCCACCACCACACCCCACCAATTTTTGTATTTTTAGTAGAAACAGGGTTTCACCATGTTGGCCAGGCTGGTCTCAAACTCCTGACCTCAGGTGATCCGCCTGCCTCAGCCTCCCGAAATGTTGGGATTACAGGCGTGAGCCACTGCGCCCAGCCACAGTCTCTGTTTTAATAAGCTTTCCAGGTGACTCTGATGCCATTAAAGTTTGAGAACCACTGATCTGAAGATAAAGGGGAACTTTTTTGTCCCTTAACCCTCCCAAGCTAGACTTCAGAGTCTAGAGGTTTGGCACTTTAC\n",
      "nm 95\n",
      "0.9291014014839242\n",
      "GTATATTCACAATGCTGTGCAACCAGCCCTTCTATCCCGTTCCAAAACATTATCATCGCCCGGAAAGGAAACCCCTTACCCGGGAAACAATCGCTTCCTCTTCCTGTCTCTCCCCAGACCCTGGCAACCAAAACTGCTTTCTGTCTCTGGATGTACCTATTCTGGATATTACATGTAAATGGAGTCATACAATACATGAATTTTTGCGCCTGGCTTCTTTTGGTTAACAAATGGTGTTTGAGGGTCACTTGCATTGTAGCCTGTGTTAATGCCTCATTCCTTTCTAAGGCTGGAGAATATTCCCTTGTATGGATAGACCATATTTTACGTAACCATTCGTCAGCTGATGGCCATTTGGGTTGTTTCCACCTTTTGGCTGTTGTGAATAGTGCTGCTAGGCTCACGTTCTCTCAGTACATTTTTTTTTCTCTTACGTTTTCCAGAATTGGCTTCTGTTCATGGCTATTGAGAAATCCTTACTGATGGAATGCCAAAAAGGCTTTATTTTCAGGGCTCCAGAACACATAGTCCGAGGAAGGTGAAAATGTAAAAAACATCTCCGATGAATTAGACTCAGCAGGGAACGGTCCCAGTTCCGGGAGGACTTTTGTGAATGATCACTGAACGCCGTGGTTGGTGCCTCAGCTCGGGGCCCTCTGAGAGGTGCCATTTGCTGAGAATGCTTTGGAGAAAGGAAGCCAAGAAGGCACTCCTCAAAGGATGGCAGCTGGGATCATTTTAAGTTTTTATCCATCCCCTTTGGAATGGAGAGGAGCTAGGGAAGCGAGCCTTTGGGGACTCAATGATTGCAGCCCTTCCCCCAGCTGGTCCAACAGTAAAGCGACAGATACATGCTGAGAGAGCAGAAGCTTTTAGGTGCTGATTATAACTTGGGTGACAAGTGACAAGATGCAGGCAGGCCTGGGTAAGATAAAAAGATCGCAGCAGCTGACAGCTATTGATGCTTCCTGCACACCCTGCTCTGTGCTGAACCCTCTGCAGGCATCGTCTCATTTACCCCTCACAGCAGCCTACGGGGAAGGCACTAGTGCTAGCCTCACTCTGCAGAGAAGAAGGGGGTGCACAGAGTGGCTTAGGCACTCGTCCCAGATCACAGCAGGAAGTGGCAGAGTGGTGCTCTTAAAACAGTGAAGAGGAGGCTGTAAAAGGCAGCTCAGCATCTGGCTACATGTGTATCTGTGTCCTGTTTCACAGATGCCTTAATTCTCTTCCAGGGAATCATGGAGGTT\n",
      "nm 175\n",
      "0.8801587301587301\n",
      "AGCCCCAGCCCTTGCGTGCCCGTTCTGCCTGTGGATCCCTGCAGCCAGGTGCGCATTTAGATGGTTCCCAACTTTCCCCCATTACAAACACTGCAATAAGAACCCTTGCAAGTGGCACGTCTCTGAAAACGACTCTGCTATCAACTCTGCTCAGGGCTTTTTAAATACTCTCAGTTGGACGATTCCAATCCAAAATGTGAGACTGATTTTCAAAATGGCAACGGGCCAAACAGTTTTGAATTTTACTAAAATAAAACATTAACGATGTTAAGTAGCATTTTGTTGAATTTGAAATATTAGGAAATTGCTATCATCCTCAAAGATTTCACTCTGAAAGAAAGAAAAAGCCCAGGGTGGGGGAGAAGGCCGAGCGGGAGGGTACCGGGGAAGAGGACTGCAATTCCCCATGGCCATGCAGCACATGGGGAGAAAATTTTTACAAACACACATGGATCCCAATTCAGTATCTATTTTGGGGTGCTAAAGTTGCAGCACGTACCTGCCATCCTAACCCCACCTTCCACCCTCTCCCCCCCACCACACACACACACACAGACACACACACAAGCAGACCAGGCACACTTCGTCCATGACTTGACTCTCACCCATTCCAACAAGCCATGACTGTGTGTTAATCACTTCAATAACAACCCTAACTCTTGGTAACTCTCTCTGCCTCCATCCCATATTAGATCCATCTCAAAGCCCTGTCAATTCCATTCCCTAAATCCCACTCAAATTTGCCACCTGTGACTCTCCATCACTTCCACTCTAGTGCCCTGGTCAAAGAGGGGGCCCAGTCTCCTTACCCACCCCTCTCCCTCCACCTACACACAGTCTTCTTCACATAGCAGTCCAGCTAGAAAGATCCTTAAAATGGTAAGTTAGAGCTTTTGCCACCTCTGCTAAAATCGCCCCAACAGCAAACATCTTCCTTGCATCAAAAAGCCCGAGTCCTTACCATGACTCAGAAGATCCCATATGATCTGGCCCTGCTTCTCCATCTCCCACCCACCCTTCTTCCCTCCCTGCTGCCCCCCATGACAGCCACACTGGCCTTGTCACCCTCAAGAGAGCCAGACACCCACCAGGCAGGTGCCCGTCCCTGCATCCCAACACTTATCATGCCCTCAGCTTGAAATGCTCTCCCTCCATGACCTGCAGGGCTCACCCCACTCTTCATTGGAACCTGTCCTCAGGTGACCTCTCATCAGAGAAGCCTTCCCAGACAGCCGCACCCCAATGTGACACCCCACGCCCTTCCCACTGTCCCTCCACACACCCTGCCTTAAGTTGCATC\n",
      "nm 141\n",
      "0.9079048349961627\n",
      "GGAAAAGTATACATGCTATATTACTTCATTTATGTAATATTCAAGAGAATGCCAAGAAAGCTACAAGAACAAATAGCAGGTCAGTCGTTGCCTGGGTATCATGGAGGTAGAGGGAGGGAAGGGAAGAGGAAAGAGTGGATGCCAAAGAGGAATGAGAAACATTTTGAGAGTGAAGGATATATACATTATGTTGATTAAGGTAATGGTTTCACCAGTGCATCTTTTGCCAAGTTCATCAAATTATACACTCTAAATAATGCAGTTTAATGTACATCAATTATATCTCAATAATTTGGAATGAAAAAAAAAAACTCCTCACAAAGAACAAAACCTCTAGGACCTGATAGCTTTCAGTCACAATATAGTCAGGCACTCAAAAAAAAACTTTAACACAATAAAATTCTCTTTGAATGCCACCTTAAACTCAATCCCATCCAGAGAAAACAACTTTTATTAGAATGACATGTGATTTGCATTTTTAGTTCATGCATTTACTTATATACACATAAATATAGCTTTTTCACATAAATTAGAATCATTGCTATGCATGTTGTTCTAAAATGTTGCTTTTTCACTCAAAAAATGTTTAGTAAGATAAAATCTGCTGCACTCTTTTTAACAGAAGCACAGAATTAAATCATATGGATGCACTTCGTTTTATGCTACTCTACAGAGTGACAAGACTTCTTTGTGCATTTATCTTTGAGCACTTATTTATTTCTTTGTAAAAGGCTTTCTAAATTTCCAGATCATCAACAAAGCATTAATTTGGTCAGTTAAAAAACAATTGCTTATATCCTTCTCTGAAAAGAATGATGTACAGAAAAGAATTATATATATATATGAATAATACATCATAAGTGTTCAGAAAGACATTGTATTTTAGGTGGAGAGACAGGCAGGTGACCAGACTGCTACATGCAGTAAGATGAACCCTGATAGAACTAACACTGGAGGCTGTGAAAAAACTGCTAGGAGCACCCAGCCTTGGTAGAGCAGCATAATTTCTTCCTGTAATTCTTTCTCTCCAAATTGCCATACACTTCAGCAGAGTTTGCAACTTCTCTTCTAAGTCTTTATCCTTCCCCCAAGGCATGCCTAGCACAGGACTCTTGAACAGTGATGCCTCAATTAGAGTTGCTAGCCAATAGATTGAAGCTATGTTGGCACAATATCCTACATCCTCCCGATCTACTGGCTGAGCCCAACCCCACCTAAGAAGGACAATAAAGATCTGTGTTCAGAGTCATACTGAATAGAGACTTCTGGACTCTATAGAACCCACTGCCTCCTGATGAAGTCCCTACTGTTCACCCTTGCAGTTTTTATGCTCCTGGCCCAATTGGTCTC\n",
      "nm 164\n",
      "0.8882175226586103\n",
      "AACCTCCTGGTCTCAAGCGATTCTCTGGCCTCAGCCTCCTGAGTAGCTAAGACTTCAGGCATGAGCCACCACACCTAGCTAATTTTTGTATTTTTTTATAAAGATGGGTGTCTTACTATGTTGCCCAGGCTGGTCTCCAATTCCCAGACAACTGTAATATCAAGAAACACCAGGAGAGGAGTGAGGTAAGGACAGGAAGGCAGTCAGTGAAAGGTGAGCCCATTTCCACTCTGGGCAACTAGAGCTGAATCCCACTGGGGAACAGAAGCCAGTGTAGATGACTCAGGCCTCAGACCCAAGGGGCAAGGGACCTGGGTACTTAGACAGCAGTCGTTGACTGAGGGTTGTTCCCAAGAGATGTTACTTTCTCTGTGCTCCTGGCCTGCCACAAAGCAGCAGAGCAGGGGCAGAGAGAGCCCAAATGCAGATGCCGGCTTGACTGTCAGCCATGTGCAGTGAAGGGCAAGGCATCCAGGGGACTGAGCATAGCACTGCCAGTGACTGCCCAATGGGGATACATTTTGCATTATTCATCGCCATGGTGGCTGCAAATGACAGAAACAAGCTTAACCACAAAAAGAAATTTATTTTAGGTGCAGCTGGACCCAGGGGCTCACAGGATGTATCTGGCTGCCTCTCAACATTGCTTTCATCTTCAATGGCTTTATCTCCAGGAGTGCTCCCTTTCTCATGATGAGCTCCACATCAACCAGCCCAGCAACCCCAGCAGAAAGAACAGACCCTTCTGCACTGGTTTCTCATTGCTGCTGCAACGAATTGCCACACACTTAGTAGCTTAAGTGACATTTTTTTTTTTTTGAGACAGGGTCTCACTCTGTCATCCAGGCTGGAGTGCAGTGGCATGATCAGGGCTCACTGCAGCTTCAACTCCCCCCTACAAGCCCAAGCAATCCTTCTGCTGAAACCTCCCGAGTAGCTGGGACTATAGGACTACATGTGTGAGCCACCACGCCCTGCTGATTTGTTGTATTTTTAGTAGAGATTGGGTTTCGCCCTGTTGGCCAGGTCTCAAACTCCTGGACTCAAGCAATCTGCCCACCTTGTCCTCCCAAAGTGTTGGGATTACAGGCATGAGCCACCATGCCCAGCCTTAAATGACATTTATTATCTTACAGTTCTAGAGATCAGAAGTCTGAAATGGGTCTCACTGGGGTGAAATTGGAGTGTCAGCAGGGCTGTGTTCCTTTCTGGGGGCTTTAGGGATAGAATCTGTTTACCTGCTTTTCTAATGTCTAAAAGCTGCCCACATTCCTTGTCTGATAGCCCCCTTTCTCTGTCTTCAAGGCCAGCAACATCCGGTCAATTCCTTCTGTGTAAGGACACTCTGTGTTGCTATAAAGAATACCTGAGGCTGGGTGGTTTATAGAGAAAAGAGGTTT\n",
      "nm 147\n",
      "0.9081196581196581\n",
      "GATGTCTGCATTCATCTCACAGAGTTGAACCTCACTTTTCATTGAGCAGTTTTGGAACACTCTTTTTGTTGAATCTGCAAGTGGACATTTGGAGCGCTATGAGGCCTATCGCAGAAAAGAAAATGTCTTCACATGAAAACTAGACAGAATCATTCTGAGAAAATACTTTGTGATGTGTGCATTCATCTCACAGAGTTGAACCTCACTTTTCATTCAGCAGTTTTGAAACACTCTTTTTGTAGAATCTGCAATAGGACATTTGGAGCGCTATGAGGCCTATCGCGGAAAAGGAAATGTCTTCACATGAAAACTAGACAGAAGCATTCTGACAAACTTCTTTGTGATGTGTGCATTCATCTCACAGAGTTGAACCTTTCTTTTGATTGAGCAGCTTTGAAATACTCTTTTTGTAGAATCTGCAAGTGGACATTTGGAGTGCTTTGAGGCCTACGGTGGAAAAGGAAATATCTTCACATAAAAACTAGACAGAAGGATTCTAACAAACTTCTTTGTGATGTGTGCATTCATCTCACAGAGTTGAACCTTTTTTTGTTTGAGCACCTATGAAATACTCTTTTTGTACAGTCTGCAATTGGACATTTGGAGTGCATTGAGGCCTATGGTGGAAAAGGAAATATCTTCCCATAATAACTAGACAGAAGCATTCTGACAAACTTCTTTATGATGTGTGCATTTATCTCACAGAGTTGAACCTTACTTTTCATTGGGCAGTTTTGAAACACTCCTTTTCTAGTATAGGCAAGTGGACTCTTGGAGCGCTTTGAGGCCTATTGTGGAAAGGAAATACCTTCACATAAAAACTAGACAGAAGCATTCTGACAAACTTCTTTGTGATGTGTGCCTTCATCTCACAGGGTTGAAGCTTCCTTTTGATTGAGCAGCTTTTAAACCCTCTTTTTGTAGAATCTGCAAGTGGACATTTGGAGCGCGTTGAGAACTATGGTGGAAAAGGAAATATCTTCACATAAAAACTAGAAAGAAGCATTCTGACAAACTTCTTTGTGATGTGTGCATTCATCTCACAGTGTTGAAACTTGCTTTCGATTGAGCAGTTTTGAAACACTCTTTTTGAAGTATCTGCAAGTGGACATTTGGAGCGTTTTGAGGCCCATGGTGGGAAATTAAATATCTTCACATAAAAACCAGACAGATGCATTCTGACAATTTTCTTTGTGATATGTGCATTGATCTCACAGAGTTGAACCTTACTTTTCATTGAGCAGTTTTGAAACACTCTTTTTGTAGAATCTGCAATTGGATATTTAGAGCACTTTGAGGTTTATGATGGAAAAGGAAATATCTTCGCATAAAAACGAGACAGAAGCATTCTGACAAACTTCTTTTGATGTGTGCATTCATCTCACAGAGATGAAACTTTCTTTTGATTGAGCAGCTTTGAAACTTTCTTTTTGTAGAAGCTGCAAGTGGA\n",
      "nm 158\n",
      "0.9026063100137174\n",
      "AGCTGGCTCAGAGCTGCCTGAGTTGGAAGCCTCGGATAGGAAAATGGAAGCTTAAAGAGGTTAAGCCCTGGCCAAGCACAGTAGCTCGTGCCTGTAATTCCAGCACTTTGGGAGGCCAAGGCGGGAGGATCACGTGGGCCCAGAAGTTCAAGACTAGCCTGGATAACAAAGTGAAACCTCATTTCTACAAAAAATTTAAAAATTAGCCAGGTGTGGTGGCACACGCCTATAATCCCAGCTACTCCGGAGGCTGAAGCTGGAATATCGCCTGAGCCCACAAGTTCAAGGCTGCAGTGAACTATGATCATGCCACTGCGCTCCAGCCTGAGTGACAGAGCAAGACCCTGTCACTAAAAAAGTTGGGGAGGGGGGTCAAGCCCTCTGCTGAGCTAGTAATAGTGGGACTGAGGTTCAAGCCCATGGCTGATTCCAGATCCTGTTTACAGAGCCGTTATGTGACGTAACTAAAGTGTTGATTATGCATCGACTAGGCACACCATGCAAGGTGCTGCGGATGCTGCTGTCACCAACACACCCAGTCCTGGCCCACAGGGGGCTGCCACCCCAGCCCCCAGTGCTCTCCCTGGATCCTGAATCCTAGCTATCCCTTCAGAGCCACCCCTCTGGCTTCCAAGCACCTGCACTACCCACTCCCACCCCTCCCTGGAAGGGATGGCGCAGCCTGGGAGCCAGCTGCTCTGGGGGGCTCAGACCTGTGGGCTGGATTGTCCATGTGTCAGGGAAGGAAAGGGAAGCCCATGGCAGGAGGGACACCCTCTTATGGGTGGTAGCAACTCCATGGAGCCCAGGCTGCATCGTTCACTGAGGCTGCTAATGTTTGAACCTATCTTTGAATAAGATCCACCCTCTTGCACTGGCAAGTCCAAGCTGTAGTAAACCCTGAGGGAGACCCACAGTCCAGCTGCAAGGCCCTGCCCCACTCTTGGCCGCTGGCAGAAGCTCCAGGCTTGCCGAGGGGTGCCACGTAGCAGAGGCAGTCTCCGCCTCTAGCCCATCCCACTCCTTCATCTGCTTCTCGTTAGCTTCAAAAGTAAGGCCTGGCGCTGTGCCCTGGGCAGGAGGGAGAGCTTGGTGTGGCCGCTCAGAGCTTCACCTCCCTTGCCTGGGGTTTCTCTTCTCCTGCCCCATCCATCGTCAGCACAGCTGACTGCTTCTGGGGCTCCTCTGTCTACCTTCCCCACGTTCCAGCACCCCCCTTCCCCTGCCCCTCTGTAGCAACCGCCTCCCTGCAAAGCCCCACCCACCCACACACTCATACACACACCCCTCTCACTCCCCTGGCACTCAGTCCCTCCAAGCTTCCTTCCTTATCCCTTTAGAGCCCTGCAGCCCTCAGGCAGTGTAGCCCAGAGGTTCAAGGGCATTCGCTCTGGTATCAGAAGGGTCTGGGTTCAAATCCCTTGTGCACTGCTTGCTGGCTGTGTGACTTTGGGCAAGTTGCCTAATCTCTCTGGTCCTCAGTTTTTGCATCTGTAAAAT\n",
      "nm 153\n",
      "0.9196013289036544\n",
      "ACAGGGGGGCACTCCCTACACACAACCAGGAGCATTCGCTTGGACAATTAGAGGAACAAGAAACAAACCTTTATTTGGTAAAGCCACTCACATTTTGGAGTTTGATACCTTGTATGACCTTAATTAATTCAAGTTTATGTCCCAGCTCTCTACATCCTAATCAAAGAGCCCTGAGCACACAAAAGAAAAAGATCTAGGTCTTTCTGGAATTTCTGCATAAAATATTCATAAATTAATTGGTAGAAAGAAACCTGTCAGTCATCCACTTGCACAGCAAATACCCATTGAGCTTCAACTTGAGCACAGTGGTGACAGAATGGAAAAGGAACCTGTAGGGTCCCTGCTCTCCTGGAGCATATGATGGGGACAGTCAGCGGACAGGTCAGTACTGCAGGGATTTTTATGGAAGGAGGTGTGTTAATCGAATTTTCGTGAAACAAATCACATTCTGACTTCCTGCCAATGATATAATTTTATTTTCTGCTTTAGAAATCTTTCTTGGTGTAAAATGATGAATGCTTTCATAATATAAGCAACAAATCCCCACTTTTTCTTGTTTCATCTTCTGTAAGTTCTGGATTCTTTGTCTGGTTTTCTAAAGGCAGTGCACTCTGGTTCAGCAAAGGTTGTTTACATTGACATTTTAAATCCACCAGAGACCTATTGCCAATCAGCATGAAAAACCATCTTCTCAATGCATCAGTAATTTATGCAAAACAGCCCATTCCCCTTCCACTTTGTTTCAGTTTATTCTGAGGCTCTGGCCAGGCCTCTGTCAAGCCTGGTGGCATCTTTCAGGCGTGCACAAATGACCTACAGATACAGGGGTCTCCATTCTCATGGTGAGACTGGGTGAACTCCCAGATGTTCCCAATGCATCCCTTCTGGTAGGTTTCTCCAGGAAGGTACATCCTGCAGAGCCATCCTTTGGCCTGCACCATCTCATTCTGAATTTCTGGCTCAGAAGTCAACAAACTACAGCCTGTGGGCCAAACCTGATTACACTTGATTTTGTAAATAAAGTTTTATTGCAACACGGACACACTCATTCATTTACATATTGACTGTGGCTGCTTTTGCAATAAAATGGGGAGAATTGAGGGCAGAATGGCCTCCACAACCTAAAATATATATATATATTTTGTCCAAGATGGAGTCTCACTCTGTCGCCCAGACTGGAGTGCAGTGGCATGATCTCAGCTCACTGCAGCCTCCATCTACCAGGTTCAAGTGATTCTCCTGCCTCAGCCTCCTGATTAGCTGGTACTACAGGCATGCACCACCATGCCCAACTAATTTTGTATTTTTTTTAGTGGAGACGGGGTTTCACTGTGTTGGTCGGGTTGGTCTCAAACTCCTGACCTCAAGCCATCGCCTGCCTCGGCCTCCCAAAGTGCTGGGATTACAGGCAAGAACCACCACACCCAGCCAAAATACTTTCTATTTTATACCCTCTGGTTCTTTTTAGAAAACGTTTGCCAACTACTGACCTAGATAATTAACTTCCTTGGTTTTGCCTAATTGCCCTGGTTTGGGTAATTCTGTAAGTG\n",
      "nm 183\n",
      "0.8964401294498382\n",
      "ACTCAGGGCCAAACATTTTCAACAGGACAGAAGTAAAAAGTGAGACATAAAAGTTGTCTGAACCTGCACACGTACTCCCTGATTCTAAAGTAAAAGTTGAAAAAAGAAAAAAAAACTGTCTGAACATTCATCACCTGCATTCCAGCTCCACACCCCAGAAGTAACAATATCTAAAATAACAATACCTATCAAATGTAGACAGAAATGTTCTACACACAAGCAAGCTATATGTATAGATGTAGTCTTTGTTCTGCTAATGTTTAGTCTCTCTAAATAATAAAAAATAAGTCAAAAACTAAGTACAATGTGTTTTATATAGATATAGTCACCCATAAATGTCTGTTCAATTTACTTCGCACAATGAGATTATACAATACATATGCTTTTGTGACTTGCCCTTTGTTGCTAAATAATATATCCTATCTGTCTTTAATGCCTACATATTAGTGCTAACTCATTCTTTTTTATAAGGCTGTGTAATATTCAACAGGAAGAACGTGTCATAATTTATTTAACTAGTCTTCCATTATGAAGCATTTAGATTGCAAACAGATTTATGCCATAAAAAGAATACATAATCCCAGCACTTTGGGAGGCTGAGGTTAGTGGATTGCTTGAGCCCAGGAGTTTGAAACCAGCCTGGGCAACATGGTGAAACCCTGTCTCTACAAAAATACACATACAAAAAAAAAATTAGTTGGGCATGGTGGGGTGCGCCTATAGTCTTAGCTACTAGGGAGGCTGAGGTGGAAGGAGCTTAGAAGATCAAGGTTGCAGTAAGCTCAGATCGTGCCACTGCACTTCAGTCTGGGAAACAGAGTGAGACCCTGTCTCAAAAAAAAAAAAAAAAAAAAAGTGCATGAAGCCACACAAATAAGTTCCTGGTGCTTGTGAAGGAGATGAGGGTGGGAGGCAGCTTCCAAATAGTTAGGTGTGGTCCAAGAAGCAGGGGTAGAGAGATCCACTATAAAGCTGCGTGTTAACCCTTTAGTTAGTTGCTGGATCCTAGGAAGCCCTAGATGATTCCAGGGAGAGGCATTGAAGGGCAGCTCTTGACCAACCAGTATGGAAACCGTCCTATATTTTAACTACCAGTGTGGTCTTCCTGGTCACAGCTCTTGATGTTGGCTATATTTGCTATATTTGAGTATATTCACAGGTTTCCAACCCTAGAATTCTTGGGTCAAATGGTATAAACTCTTTTAGTCTTAATGAGTCTGTTATCAAACTTTCTCTTGGAGTCTTTTTTTTCATAAAAATAAAACAGTAATAGTAATAGATGGCATTTATGAGAGCAAAGCAACATACTAAAGGCTTTTTATACTTGATGTCCTGCAATTTTCCCAAGAGGGCTATGCCACAGGCACTTTTATCCCCCTCATTTTACAGATGGGGAATCTGAGACTCAGAGGCTAATGACCTGCCAAGTTTCACACAGCAAATCAGAGGAGGTGCTGCGATTCCAATTCATTTCCATAAGGCCCTGAAACCACCATCCTACTGGCTTTCTAAATCTTATTGAGCTGGGACGGTGGCTCATGCCTATAATCCCAGCACTTTGGGAGGCTGAGGAGCCTGGATCACCTGAGGGCAGGAGTTT\n",
      "nm 178\n",
      "0.9111389236545682\n",
      "TAATGGGATGCAGTGACTAGATTGCCTGGGGCTGCAATCCACCTCTTCCACCTACTGTGTGACCTTGGGCATACGGCTTAAGTACTTTGGAACCTCAATTTCCTCATCTGTAAAATGGAGATAACCAGTTCTACCTCCTGGGGATAGTATGTGTTTATACGCACTTATCTGTAGAAAGTATTTATCTTTATACATGTAAAACCATTTTTACATGTATATCTTTTTTACATGTAAGTGGCATTTATCTATTTATTCCATGTTTTTTCTATTCTGTGGTTCTGTTATTTTTAGCATCCAACGTCAATATAATAGCAGGTCTTTAGAGGCCAAGGAAATACTGCCACTTTCAATGTAAATGTTAAATATAAAATGAATCCTTGTTACAGAAAGGATAAAATATAAAATGAACATCTGTCTCAGAAGAGAGAAATGGAGCAGTAGAATCTCATTAAGCATCTCCCCCTCTCTCCTCCACCTCTTCTGCTAAACTCTCCTTCTAAATGACAGACCCACTTCTTGGGACTTAACCCACAGCCCTGGGCTTCCCCAAACTCTGCCTGTGGTGACGCCCAAGGCAAGGCCTGAAGGAGCGTGTGGAGCTAAGAAGTGGACTTGTAGCTCAAAGGAGGTAGAAATTGCAGTAGGGGGTATACAAATTCTTCAGCTTTAAAGAACTTCAGAGTTAGACATCATTAAATCATTAAAAGGGCACCTAAGGGGAGTTAATATGCAGAAAAGTAGAGCTAATTTGAGCTCTCAAGTGACTAACTCAGAATTGCCCACTTAAACTCTGAACCCTTTAATTCATATGAGTACATTATAGATTCCAAAGAAGACTTTTTTCCCCTCCTTCAAACTTTGGCCTTCCCTATAGGCAGGGCAGAGGGTGGGGGTAGCTTTCGTAGAGTGGAGCTCACCACCCAGAAACTCTGCGGTATAAATATGCAGGCAAGGGTTTTTGTTTTTTTTTTTTTTTTTTTTTTTTTTTTTTTTTTTTTTTTTTGGCTGAGAGTAACAATTAATAGCTACTGCCTGGAGCTCCTCACTAAGGCACAGATTTTAGTAGACTTCAATCCTGCCAGGACATCCTGAGATAAGATTAGATCAGTGGTTTTCAACAGAGGATGATTTTATCCCCCTGCGCCACTCCAGGAGACATTTGGTAAAGTTTGAAGACAGTTTTAGTTGTCTTGGCTTGGGAGGCAACAGTGCTACTGGCATCTGGTAGGTGGAGTCCTAGAATGCACAAGACAATCCCCAAAAGAGGATTATCTAGCCTCAAATGTCCATAGTACTGGGACTGAGAAACCCTGGGTAAGACCAGCAGAAGGTATTAGGTTGGTGCGAAAGAAACTGCAGTTTTCGCAATTACTTTCAATGGCAAAAACCACGATAACTTTTGCACGAACCTACCAACCTAATAATTTCTCATCAGGCCACTCTTCCTGAATGCAGAGAGCTACTGACATCCTCCGCGCCCTCTGCTTCCAATTTCTAGCTCTGACAAATGTGGATAAATATATCTGGATTTTGAACTCAGAATATCTTGCCTTGAAATTCAGTCACTTTATATTTCTAAGCCTCAGTTTTCTCATCTGTAAAATGGGGATTACAACAGTCATCTTTGGGTTGTTGTATAGAATTTAGTCTTTATGCAGTAAGCACTCAATACATGCTAACTGTTATTACTGTCCCAGGAT\n",
      "nm 283\n",
      "0.8721488595438175\n",
      "GTCTAATGTGATTTGGAATATAGGCACAGAGAAAAAGAGACTCTGTTAGTTGGTGTTGGGTGCTTAAATTAGGAGATCATCTGGCCTTGAAGCTGAAGCTCAAACTGAGGCAGCCATAATGGTCCATGTGCAGCAGAGTGTAGAAACAGAGAACATGAAGAAGAAAAGCAACTTGAAGGGAGAAACAGAACCAGAAGCCAAGGCTTGGCAGGATGAGAGCAGTGCAGAATTGATCACTTTACAGGACTTGCAAGACCCATTATTTCTCCCTGTGTTTCCTTATCATAATTTTCCTCTGTCTCTTCCAAACACCCTGTACCTAAGCATAAGTGTGAGGGTTTTCTCATTTCTTGTAATCAAGAGAGTGTTAATGAAGACATTCTGAATGAGGCTTATGTGATTTAAAAATTGCTACAAAAGAGAATGTGTTAATATTTATATTCAAATTGCTAAAACACGTATCAAAATATCTATATATATATTCCAAAGATATCAGAAATAATTTAGAATGGGGGATTCTTTTTTCTTAAGTGAAAAATTTAACTTCAGAAGTATTTAAAAGAATGTAAGAAATGCATAGTAATACAGCAAGAATATGCCATTTTACATATTTTTAAATAATACATTGCATTGAAATACTGGTAATATCCTTTGTTAAAGAGGTTGTGGTAAAAACATAACTCTCAGGATACAAAATCAATGTGCAAAAATCACAAGCATTCTTATACACCAATAAGAGACAAACAGAGAGCCAAATCATGAGTGAACTCCCAGTCACAGTTGCTTCAAAGAGAATAAAATACCTAGGAATCCAACTTACAAGGGATGTGAAGGACCTCTTCAAGGAGAACTACAAACCACTGCTCAATGAAATAAAAGAGGATACAAACAAATGGAAGAACATTCCATGCTCATGGGTAGGAAGAATCAATATCATGAAAATGGCCATACTGCCCAAGGTAATTTATAGATTCAATGCCATCCCCATCAAGCTACCAATGACTTTCTTCACAGAATTGGAAAAAACTACTTTAAAGTTCATATGGAACCAAAAAAGAGCCCGCATTGCCAAGTCAATCCTGAGCCAGAAGAACAAAGCTGGAGGCATCACACTACCTGACTTCAAACTATACTACAAGGCTACAGTAACCAAAACAGCATGGTACTGGTACCAAAACAGAGATATAGATCAATGGAACAGAACAGAGCCCTCAGAAATAATGCCACATATCTACAACTATCTGATCTTTGACAAACCTGACAAAAACAAGAAATGGCGAAAGGATTCCCTATTTAATAAATGGTGCTGGCAAAACTGGCTAGCCATATGTAGAAAGCTGAAACTGGATCCCTTCCTTACACCTTATACAAAAATTAATTCCAGATGGATTAAAGACTTAAATGTTAGACCTAAAACCATAAAAACCCTGGAAGAAAACCTAGGCAATACCATTCAGGACATAGGCATGGGCAAGGACTTCTTGTCTAAAACACCAAAAGCAATGGCAACAAAAGCCAAAATTGACAAATGGGATCTAATTAAACTAAAGAGCTTCTGCACAGCAAAAGAAACTAGCATCACAGTGAACAGGCAACCTACAAAATGGGAGAAAATTTTTGCAATCTACTCATCTGACAAAGGGCTAATAT\n",
      "nm 195\n",
      "0.8972355769230769\n",
      "TTGAAATGACAAGGAATGAGAACATTATATAAACTTAGTTGATACAGCAGTGGCAGCATTTGAGAGGACTGACTGCGATGCTGAAAGGAGGTCCACTGGGTAAAACGCTATCCAACAGAATCGCATGCTGCAGAGAAATCTTTCGTGAAAGGAAGAGTGAATCGATGCGGCAAACCTCATTCTTGCCTTATTTTAAGAAATCACCACAGCCGGGCGCAGTGGCTCACGCCTGTAATCCCAGCACTTTGGGAGGCCAAGGCGGGAGGATCACGAAGTCAGGAGATCGAGACCATCCTGGCTAACACGGTGAAACCCCGTCTCTACTAAAAATACAAAAAATTAGCCAGGCGTGGTGGTGGGTGCCTGTAGTCCCAGCTACCTGGGAGGCTGAGGCAGGAGAATGGCAGGAACCAGGGAGGTGGAGCTTGCAGTGAGCTGAGATCGCACCACTGCACTCCAGCCTGGGCAACAGAGCGAGACTCCGTCTCAAAAAAAAAAAAAAAATCGCCACAGCCCCAGCCTTCAGCAGCCCCACCTCATCAGCAGTGGCCACCAGCATCGAGGTGAGACCCCCTACCAGCACAAAGATTGCAACTCGCAGAAGGCTCAGGTGATTGTTAGTATTTTTTTAGCAATTAAGTATTTGTAAGTGAAAGTACGTGCAGTGTTTTACTGTTTTTTAGACATAATGCTACTGCACACTTAGTAAGCTATGGCATGGTATAAACATAACTTTTTTTTTTTTTTTTTTTGAGACGGAGTCTCGGGCTGTTTCCCAGGCTGGAATGCAGTGGCGCAATCTCGGCTCACTGCAACCTCCGTCTCCCGGGTTCAAGTGATTCTCCTGCCTCAGCCTCCTGAGTAGCTGGGATTACAGGCGTGTGCCACCACGCCCAGCTAATTTTTTTGTATTTTTAGTAGAGATGGGGTTTCACCATGTTGGCTAAGCTGGTCTCGAACTCCTGACCTCAAGAGATCTGCCTGCCTCAGCCTCCTAAAGTGCTGGGATTACAGGTGGGAGCCACGGTGCCCAGCCTGTAAACATAACTTCCATATGCACTGGGAAACCACGAAATTTGTGTGACTCGCTTTATTGCCGTATCTCTACCGTAGTGGTCTGGAACCACGGCTGCAGGTCCTCTGAGGTGCGCCTGTGGAGAGGCCCAGCTGTGCTCTGGAAATGTGCACCAGCTGCTAAGAGTGACCTTCGAGGGAAGCAGGGCGCATGGGACCCTGGGTGCTCAGACGCTGCTTTTTCTGGCACTATTGTAACCTTTTCACCACACGTACGTGGTCACTTTTTAAACCGTCAATAGTGGAGTGAGATTTGGGGGCATTTTGGTTCTTCTTAAAACTCTTGCCTGGAAATAAATAGCTGTTTGTAGTTTTTATAGTGGAAGATAAATACACACCTTAAGGTAGGCTGGACCCAGAGCCAAGACCACAAGAGGCACATCCCCTGCAGTGGCCACTGACACTCCGCGGCTTGTGGCCACGTCTCCAGTCTCCGCCTTTGTGGTCACACTGCTTTCCCCTCCTCTGTGTCAAATCTCCTTCTTATAAGGATGCATGTGATTGCATTTAGGGCCCACCTGGGGTAACCCAGGATTATCTCCATCTCAAGATTTGCTGTCTAAGACAGGAGAGAGCCTATAGCCACATTCCGCTGGCAGGGATCCTGGTCAGCTCTGCGGGTCCAGTGGATGGAAGACTTTGGGGAGGAGCTGCAAGAATGGCTGGTCCCAAGGGG\n",
      "nm 167\n",
      "0.9221382916908774\n",
      "AATATATTTCTCACATCATAGCCTTCCACAGTCACATATGCAAATTCATATTCATAATCAAACTTGTGGATTATTCATCTCTGACACTATTATTAATTCCTATGGCATTCTTATTTTTAGTTCCAAGTGTTCTCTTACTTAAAAGCCTTTGTTGTCATCAATTGTTAATTTTAGCATTATAATCCGTGTGATTGTTTCTCTAGTATTTCCTAAGCATTTTTTCTGGGTTCTTGTTCACCTTTCAACCCTTTTAATACATCCCAGAACACTTAAACTTTTGCTTAAGTCTCAAAAGCACATACAATTATTTGACCAAATAAGTACATGATTAGAAATTCATAGGTCTCTTAAAAATATTTTATGTCCTATATTAAATGTCAAATAAGAGATAGAAGTTTGTGATTAGATAATATTAGAAACTTGGACTTACTTTTATAAGTTAAGTAAACTAATGTTCAGATGCATACAATTCTTACTAAATACCCCTACCTGTAACTTTTAAGCATTGCCATTTATCAATTAACAGTTATTTTATTAAGCAATCATTGTATGCCTGGATATTCGTTTGCTGACATCTTCATGTGCAAATCATTCCTTCTAAATCTTAAGAATACACACATAAGTGATATATTCCCCTTATATGTTATAGATGACATGAGGAATGATTTGCATTTAGGATGCATGATCAAGTGCATTAGCTCTTCTTGCAATTTGGTCACCAGTGAAAAGAAATTTGGGGAATTTTGACACTGGGATGTAATAAAATGGGTTATCAAAAGACATGCTTTTTTTTAAAAAAAAAGAAAATATTTTAGAATGAGGTATGCCTTACTTACAAAACGAATGAGGTATGCCCTATTTACAAAACATCAGTTTAATTCCAAGATGAAAGCATTAAAAGATAGGGAGAAAAAAACCACCCTTGTGCTGATGAAATGGTGGCTCCAGAAGGCATAAGGGCTATCTTAAGACAGTAACGTGACCAACTACAAATTATTTACAATCAGAAAAAAGGGAATAACAGAGGAGGCACTACTGGATCAAGGCCTCCAAACTCATTTAGTAGGATTAGGTTTTTTCCTTAAAAAACCTAATTGATTTTTTACAATCCTTAAAAAATAAAGCAAATGGGACAATACATAACCTGGATAAAGATTATATGAGCGTATTTTTATTCTTGCAACTTTTCTATAAGCTTAAACTTATCTTTAAGTAAAAGTTTTAAAATATCCCAAATGATAAAAGAGAAGCTCGATCACAAGTAATCTATTTTAAAACCAGAAGATTTGTCTATGCATTTTATTTCATATCTATTTTCAAGATAGAAGGCATTGCTCTCCTGAGCCACACATGGAAAAGAAAGGGAATTTTACCATGTGGAAATTTTACCTCCCTTGGTAAATTTTATATTTTGGTGGGTTTAGGAATTCATGAGAAATGTGCCCTGGCTGTTGCAGTTTTTGTATATTTATGCCATCTGGATCAAAGACAGCTCAGACTCTCACCTGTATTGGGCAAACACTGCTACATGAAACTCAATCCACTGTAATTCATTCTCTTGAAATCTTTATAAAGAAGTTGCAAGGGAAATGCATGGATAATTACTGTTTATGCTCAAGGACCAAATTTACCCCTTTCATTGGGTTTGAAGGAGATGGTAATGAGCTTCTTTTGTGGCCCTGCCATTCACCAGATGACAAGCTCTTTTAAACTGAAGCCTGGTTTAATTCCTTCTCGCAGAATAGCATTTTAGCAAACTTGACAGCAGGATTTTATTTATTTATTGGTAAAAGTATTATG\n",
      "nm 248\n",
      "0.8789561354802887\n",
      "AACACAAAAAATGCAAAAATAAAAACAATCTATAGTCTTATCACCCAGAGATGACCATTATTAACATTTTGGGGTAACCAGTCTTTTATTTTTCTATATTCGTATATGTTTGGGGATATTTATAGATGATTCTCTATACTCAAGAATAATGGCTTTAATATTTTTATAAAAATGATAACTCATCCTATAAAATTCAAGTCATATAGAAAAATTCAAAGGAAGATACTAAAAATCATCATCTGAACTCTCACCCACAGTAGTTAATCATGCCCACTTTCAGCATCTCTCTCTAGCATATGTGCAGATAAGGGAGAAAGAGATCAATTACCTTCTACAGAAAAACGATGATTCTGTGCATGCTTTTTTTTTTTTTTTTTTTTTTGAGACGGAGTCTTGCTCTGTCGCCCAGGCTGGAGTGCAATGGCATGATCTCGGCTCACTGCAACCTCCGCCTCCCGGGTTCAAACGATTCTCCTGCCTCAGCCTCCCAGTAATCTAGGATTACAGGAATGTGCCACCATGCCCGGCTAATTTTGTATTTTTAGTGGAGAGGGGGTTTCACTGTGTTGGCCAGGCCGGTCTTGAACTGCTGACCTCAGATGATCCGCCTGCCTCGGCCTCCCAAAGTGCTGGGATTACAGGCGTGAGTCACCGCGCCCAGCCATGCTATTTTAGTGAAAAAAATATTTTGCTATTTAAAACAGGCAAATCAGCAAAAATAAAATAGGGGCTGCTGTATAACCCGCAACTGTCTCCGGAGGCCATGTTGGTCTTGGAGGTCTTGGCTGTTCTTACACTTTGTTTTCACTTCTTTGCCTTGAGACATCCCTGAGTTTTTGTCATTCAAGACAGCAATGCACCTCTTAGTAAGGCTCTTAAGTCACAGCTGGCTGCTGTCATAGCACTGACTTCCTTTTCCACACTAGGAGCCAATTTCTTTAGCCTGGAGGCTCAAGCCCCAGCACCACAGAGGCCAAAAAGGGGGCCTCGGTGATCTTCTACCATCTTCTACTGTGGCACCAAGTTGCTAGAGGGGCATTCCTAGCTTCCTGCTACTGACTCACACCTGCAGATTCAAAGGAGAGATGTCCAGACACAAACAGAACAAACAACACTTCCAAGAGCTAAGTAGTAATGCAAATGAATTAAATGGGGCATGTATACTGAAAGCAAACAAGCAAATAAACATGAGCATGAAAATTACATTCAAAATGATGGTCAAAACTCCCCAGGCTGCTGGTGTCATGCAGGAGTTGTGGTCCAGTGTGGGCATATCCTCAAATTTTTCAAAAGGAGCCAGAGATCTAAAGGATTTAAAGATTTTGTTTTTGTTGTTTTTTTGAGATAGAGTCTCACTCTGTCACCCAAGCTAGAGTGCAGTGGCGTGATCTCAGCTCACTGCAACCTCGGCCTCCCAGGTTCAAGTGATTCAGTGATTCTCCTGCGTCAGCCTCCTGAGTAGGTGGGGTTACAGGCACAGCCCACCATGCCCAGCTCATTTTAGCATTTTTAGTAGAGATGGGGTTTCACTACATTGGCCAGGCTGGTCTTGAATTCCTGACCTCAAGTGATCCGCCCACCCCAGCCTCCCAAAGTTCTGGGATTACAGGCGAGAGCCACGGTGCCCAGCCTAAATTTTTAAGTGAAATCTCCTTATTTATGTCGGTTGACAGTCAACTAAATAACTAAAAACACTATAAAACAAAGCCCATTGTTAATCAGTCCAATTTCTTCCTTTGCTATAAACACAATTTAATAAAGTACAGAGACCAGTTAAATGTAAATATCAAATGATCAATGAATACTTTTTGTGTAAGTATATCTCATGCAATAGTTGGTACATTCTTATA\n",
      "nm 179\n",
      "0.9180327868852459\n",
      "GGCTTGAGCAAACGGACAAATATACCTCCTCTTCCAGACCTCTCCTTTCATATGGAAAAAATTCGTTTGGGACCACCAGAAAACAAAAGATAAAAGTATCGTGTTAGAACAAGGATGGATTAAAAATGACCTTTGCTTGAACTGAAACAGAAGCTATGTGCATAAGTGACTTAACTCCTCTGTAACTTGGCTTTCTTATCATTTACACGAGGGTGCTAACAGTACCCTCACAAGGTTCAAGTGAAGATTACATAGGACAATCCCTTAGTCAATGTCTTGGTACACTGTAAAGGCTCAGTAAATGCTGGAAAATCATATTAGCAACTATTTTATACCCGTAATTGTAGCTGGAAGATTGTATTGGATGCTAAATACCGGCTAGATTCCATTCGGTAACTATCATAATTATTTATTTGCATAACAATCAAATTATTGGTGCAAAGCAGCCATTATTACTGTAAAATGCTTTAAAATGCTCCTTTTGATAGTCCAGGTACGTACTGCAGCACAAAACTAGGAGAAACCAGGAAATGGAAGTAACGAGTAAGTTTGGATGCTTCGATTCTACCCTAGATTGAGACGGGTGAGCATAGAGGCAAAAAAAGACATTTTCTTCCAAACAAGAGGTGACCAAACGGGCAAGGGAGACCTCCTCCCGGGCATGCAGAGCGCAGCGATTCTGTGCCCAGGGAGCCGGAGGGCTGGGGCTGGGAGATCCCGGCGGAGCCCCGGCAGAGCAGTCGCCCGTGAGCCCCCGCAACTCAGACGCGCTCGGCCTCGCGCTCCGGGGCTGGGACCACCGAGGGCGAGCTGCAGCCTTCGCCACCCGGTCCGCCGCCGGACTCCGCCTCCCACAAACAGCCCGGCAAGGCCCTTTTCCGCCGCTCCCTCATCCAGCGAAGCCTCCTTCCCAGCTTCCCCGGCGGCGGCGCCGTGACGTCACTTCCGTTCTCCAGCGCGCACGTGGGAGGAAGTGCTGGTGCCCTCTGCCGCTGCTCCCGTCTCTTTGGTTACGCTCGTCAGCCGGTCGGCCGCCGCCTCCAGCCGTGTGCCGCTATGGGAGTCCCGGCGTTCTTCCGCTGGCTCAGCCGCAAGTACCCGTCCATCATAGTCAACTGCGTGGAAGAGAAGGTGAGGAGGCGCCAGGCGGCCGCCACACTCGAGCCCGGGCCCCCGGCACGTCTAGGCCGCGGCCCATGGGCTCCGCCGCCTGCCCCCGGGGAGCCTTGCCGGAGCTCGCGCCCTGCTGCCAGCCTCGCGAGCAGTCGCAGCCCCACACGCGATGGGACGCGGGCTGTGGGATTCAGCACCCCGGGGGCGAGGAATTCAGGACCCTCGGCGGGGCAAGGGCCTATAGGGTTCCGAACTCGCAGGAGGGTCGCTCCTCCCCTACTCGCTTTTTCCCGGCACCGGAAGGCCCCGCCCACTGCTTTGTTTCCTCTCCAGACCGCGCATTTTGGGTCTCGGAAGAGGTTCAGAGGCTGTTGTTGAGCAATGCATGCCAGGTCAGCTGAGCTAGCGGGTTATGGATGCACGGATTCGGAGGCCAGCTTTTTGACAACCTTGTAAAGGAATCCCTGGCGGCGACCTTTTCGTTGTTTACCAATTGTGCCGGAAAGGTTTTCTCCTAGTGTTCAGGACCATTTGTTGTTCTGGTTAGATTGGACGCTGAAAGCAGTATGTCAGGTCCAGGATGAGCGCTATAGAATTCTGAGAAGTTACCCTTCTCTGTGTGCCCTGACTACTGAACGGGGTGGGTGCTTGTTGAAAATTTCAAGATTACTGGATGTACTTGAGCAGTACAATTTTTGTTGTTAGTTAATACGTAAGTAGATTTTTGGCCATTATTGAGTTTTGTTTTTATTGTTTTCGTCATTCCATGCGGATTCGATTTTGTGCT\n",
      "nm 248\n",
      "0.8908523908523909\n",
      "AGCCCTCATCTGCAAGGCAGACTGGGCAGATGGGGCAGGAAAGGCAGGGAGGACTGCCTGAAGCTCAAAGCACAGACTGTCCTTGGAATGTTGGAAAGTTATTTGGAAAGTCCTTATGAGCTTGGGGCACATTCTTCTGAAGAGCTTTCTTGATTAGGAAAATCCTGTGCTTTGAGGATGGAATTGAATGTGTGGAGACAGCCAAAGGTCACTGGGAAAAGAGCCACAGTTGCAGGGAAAGGAAGCAAGCTCAGGGACATCATTAGAGATCGAGAGCCAGCCATGGCTATACAGAGACAGGCCCAAAAGAACAGTCACCTCCAGCAGGGCCATGGCAGTTTCCTTGGAGGAAGTCCTAAGCCGCCCAGAGAATGAGTGGCCCAAAGTTGCTCATTAGCCTGTGCCACTTTGAGGAAGTCACTCCACCTCTCTGATACTCAGCCTTCTCATCTGAAAACTAGGGACAATGACCTGCTCTGCCTGAAGCAGCACAATGGAGCATTTAGGATTGCTGGCTTTCAAATCAGACAGGGAGTCCTCGGCTCTGCCACTTACTGTGTAATTTTGAGCAAGTTCTCCAATTTCTCGGCGCCTATTTCCACATCCGTAAAATAAGAATAAGAGTACCTGTGAAACAGGGCTATTGGGACAATTACATGAATTGACATAGAAAAAGGATTTTGAACTGCACCAGGTATACTGCAAGCACTCAATAAATGTTAGCTATTGGTTTTATTGCCTTAGAGTGGAGTATGAGGATTAAAGGAGCTAGTATGTGTGGAAGGTTTGACATATAATTTGGCCTAGAGGCCCAGCTCAGAAAATGGTGGCATTCTGGTATCTAATGCTGCATCACAAGCCATTCCAAAGCTCAGTGGCTTAAAATAACAACAATCATTAACTTTGCTCATAAATCTGCAATTTGGGCAGGGCTTAGCAGGGTTGGCTCATCTCTGCTTCATGCAACATCAGCTGGGAAGGTGTGAGTGGGGCTGGAGGATTTGCTTCCAAGCTGGCTCACTCACATGGGGAGTAAGTCAGTGCTAGCTAATGGCTAAGAGCTTGGCCAAGGCTATACACTGGTGGCCTCCATTATCTCTGCATGGGCCTCCCTGCAGTGCTGCTTGGGCTTCCTCACAACATGGCAGCCAGGTTCTCAGAGCAAGCGTTCCAAGAAACAGAATCTGGAAGACTCCAGTCTCTTAAATCCTGGGCCAGAAAAATGGGTACAACTTCACTTCTGCAATGTTTTATTAGTCAACATTCACTGAGTCTGCTCAGATTCAAGGGGAGAAACACAGACCCCTCCTCTTGAATGAAAAGAGTGTCAAGGAATTTGCAGACATCTTTAACCTACTACAGGTAGTTTGCATTCTCACTCCAGGTACTGGCCCCAGGTAACTATGCTCAGACACAGATAGGTAAGTTCTTCCCCAAACCATGTTCCAACCTAGAAGTGGGTGATCAAATGGGGAGTGGAAAACTGACTCCTCACAACTGAGGTAAATCCTACTTGTCATTTAATATTCAGTAGAAGAGAATCAGAATCTCCCATCTCCCAAGATCCCTGAGTCAAGTGCTCCCTCTGCACTCCCATATCCTGGCTTCTCTGTTCCTGGAGCTGGTCAGGGAGTAGACAGTGTATTCAGGAGCTGCAAGTCAGAATGGTAAAGAGCACAGAGCTTGCTTGGGTGGGCTTCCTAAACTCACTGTGCCTTAGGTATCTCATCTGGAAAATGAGAATGATAATCTCTACATCATAAAGTAATTCTGAAGATTAACTGAGGTCACAAGTAGGTAGGGTGAAAACAAATTAACAAGCAACAAATCAAATGCATTTCTGGAAAATGTGGCATTATTTTTTGCTTTAGAGACAGATCTTCTCTTGCTCTCCAGCTCCCTTCCCCACTAGGTTGTCGTGAGTGGGCAGAGAAAAAGGAACTTTAAATA\n",
      "nm 227\n",
      "0.8957790515893694\n",
      "GTACCATGTCTTGAAAAGTTTTTGTAGTTATTATTTTTGATTGGTTCACCATTTAGTCTTTCTATTAATATCAGAGTAGCATATATACCACAGTTACAGTGTTACAATATTCAGTATTTTTCTGTGTACTTACTATTACCACCGGGTTTTATACCTTCAGATGATTCCTCATTGCTCATTAACATTCTTTTTTTTTTCTGATTGAAGTACTCCTTTAACATTTCTTGTAGGATGGGTGTGGTGTTGATGAATTCCCTCAGCTTCTGCTTGTCTGGGAAAGTCTTTATTTCTCCTTCATATTTGAAGGATATTTTCACCAGATGTACTATTCTACAGTAAAAGCTTTTTTTCCTTCAGCACTTTAAATATGTCATGCCACTGTCTCCTAGCCTGTTAGATTTCCCCTGAAAAATCTGCTGCCAGATGTATTGGTGGTCTATTGAATGTCATTTTTTCTTTTCTCTTGCTGCTTTTAGGATCCTTTCTTTACCTTTAGATAAAGTTTGATTATTAAGTGTCTTTGGGAGTTTGATTATTAAATGATTATTAAGAGAAGACTTGAGGTATTCTTCTTTGGGTTAAATCTTCTTGGTGTTCTATAACCTTCTTGTACTTGGATATTGATATCTTTCTCTAGGTTTGGGGTGTTCTCTCTTATTATCCCTTTGAAAAAACTTTCGACCCCATCTCCTTCTCTACCTCCTCTTTAAGGCCAATAACTCTTAGATTTGCCTTTTGGAGGCTATTTTCTAGAGCATGTAGGAATGCTATATTGTTTTTCATTCTTTTTTTGTCTCTTCTGACTGTGTATTTTCAAATAATCTGTCCTCAGGCTCACTAATTCTTTCTTCTACTTGATCAATTCTGCTATTAAAAGACACTGATGCATTCTTCAATATGCTAATGGCATTTTTCACCTCCAGATTTCCGCTTGATTCTTTTTAACTATTTCAGTCTCTTTGTTAAATTTATTGATATAATTCTGAACTCCTTCTCTGTGTTGTCTTGAATTTCTTTGAGTTTCCCCAAAACAGCTATTTTGAATTATCTGTCTGAAAGGTCACATATCTCCTTTCTCCAGGATGGGTCCCAGGTTTCTTATTTAGTTCATTTGGTGAGGTCATGTTTTCTTGGATGGTGTTGATGCTTGTAAATGCATCTTCGGTGTCTGGGCATTAAAGAGTTAGGTATTTATTGCAGTCTTCTTAGTCTGAGCTTGTTTGTATCCATCCTTCTTGGGAAGGCTTTCCAGATATTAAAAAAGACTTGGTGTTGTAATTGCATCTATTTCTGCTTTAAGAGGCACTCCAAGCCCAGTAACACTCTGGTTCTTGCAGACCAATAGAGATACTTTCTTGATAACTTCTTTTGGACAAGATCCAAAAGAGTTCTCTGGATTACCAGGCAGAGACTCTTGTTCTCTTCCCTTATTTTCTCCCAAATGAATGGTGTCTCTCTATCTGTTTTGGGTCACCCGGAGCTGGGAGTGGAGTGAAACAGCAGCCTGTGGCCACCACCGCTAGGACTGTGCTGGGTCAGACTTGAAGCCAGAACAGTACTGAGTCCCAAGGCCTGCTGTAACCACTCCCTAGCTGTGGCCTATGTTCACTCAATGCCTTGGGGCTCTATAATCAGAAGGTGGCAAAGCCAGCCAGACCTGTGTTCTTTCTTTCAGGATGGCAAGTTCCCCTCAGGCTCTGGGCATGTCCAGAGGTGCCATCTGGGAGCCAAGAACTAGAGTAAAAAGCCTTAGAAATCTATCTGGCATTCTATCGTACTGTGGCTGAGCTGGCACTCAAACTACAAGATCCAGTTCTTCCCACTCTTTTCTCTTTTCCAAATGCAGAGGAGTCTCACCCCATGACCAACACCACCACAAGCCTATAGGGAGTATTGCCAGACTACCGCCAATGTTCCTTTAAGGCCCAAGGGCTCTTCAGTCAGCTTGTGGTGAATGCTGCCTGGCCCGGAACTCACCCTTCAGGGCAGTGGGCTTCCCT\n",
      "nm 305\n",
      "0.8682634730538922\n",
      "GATGGTGGATGCAGGACATCTCCAGGAAACACTGCACCCCTGCCCAACTCAAGCAGGCACCATTTCAGACTTCACTTCTTCAGGATGGTGCACAGAGAGGGCTGGGCTTGGAGCCACACAGCCTTGTCAGGCTGTCTCTGAGCTCACTCTGTGGGCTTCCGCGGGTTTCTTTGCCTCTGGAGCCTCAAGAGTTGCAAGGATTTAAATAATGATTCTTTTGAATGTGTTGTGTAAACTGAACTACTATAAAAATGTAAGTAATTGTTTTGGTGGTGGTTGAAGCATCATGTGGTTTGATGCCTCTGGTAGCCAGCTGCAGATCCACAGAGGAAGTATGCACCTCCCTGATCTTCTGCTCTTAGACAATGCCCAGTCCTTGACTTTCCTTGGCAGCACTTGTGGTTGTCTGGAATCCCTGGAAGCCCAGGGGAAGGCCATGGCTCCGTGGTGAAGAAGAAAGCATTCTAGCCCAAGGCAATGCTCACCTGTGAGTCCTAGCAGGAGAGTCAGCAGCAGGAAAGGACTAGGAGGGTGGGGCCAGGAGGCTAGGATGGGTATCCTGGAGACATCAGGGGCCTGCTCTGTTCAAACGTCTGTGCTGGGGAGATCTCAGGCTCTGCTCTAAGTAGATAAGACAAGCGCTGGCTCCCTCGATTCAAGAGGAAGTAGCTGTGATGAAGTGAGACAGTAACCTGCTTCTAGATTGTGACATAGAAACCAGGCACAGCAGGCAGCTACAAAGTAGAGTTCTCATGCTCCATTTTCAGGAGAATCAGACACACTTAGCAGAAATAATGCTTCCTGCACACCTTGACCATGTTCTCTCTCCCCACATCACCCCTATCTCCATCTCAGATATTTTTGGTGATTCCGCAATTGGGGGTTTTAGGCCAAGAAAGATCTGTGATTGTGAGCTATGCCCTAAACTGTCCATGTCAAGACCGTAAGATGTGGCTGGCTTGCTGCCTTAGTCTGCACCAGCTTCAAACAAACGCTACTCAGCTGGAGGCAGGAGGAACATTTACAGGACTTGCTCAGCACTGGAGAGGAACCAGATCTGCTCCTGAAATGATTCCTTATTCCAAAAGTTTGTTGATGTAACTGCCCAAACTTAGCCCAAATTCAGTCTAATCTGGGACCTTAGCATTTTCATGTGCCTGCATCCAGCAGAAAGAATCATTTCACGACTTCCTCCAGGAGAGGAAGTGGGTTTAGAGTAATAAGGATCTGCTTTAGGAGGTAGGTGGGGATTATGGATTCCAGAGATGAGACAGGGTTATGATGGGAGGAGAATATGGTGGACAGGTTCCTGGGGCCATCACCTCAATTTCAGTACCTTTTGTTCGTGAATGAAACACCTATTTCATTCACTACTGTATTCAGATAAGACCTGAGGAGGGAGGAAGAATAAATGCCCCAACCAAGAGTGTGTGCTAAGGAGTTGGGCAAGCTACTGGGCCCTCCTAGGCTCAGTTTCATTAAACTGTGGATAATAAGTTTAGGATAATATCTCCTAAATGTGGATAATAAGGCTTTCCCTGCAGATGTTATGGTGGAGACTAAAAGAGATGTTATAACTATACCATGCCTGAAACACAGTCGGGCATTATTGATACTCATGGTGCCATGTAAACAGAGGGAACTCAGGTATTGCTTTTGAATGGATCCTTACTGCCTGGCAAGTTGCAGGGACTTCCTCCTATCTAACTCCCTGGTCCTCCTGGGACCCAGCTTACATGAAGCACTTGGACTACCCCTGCCATCCTGATATCAATGGCTCCCTCTGGGATTTTCTTCATCCTGCTCCCTGTCAATCCATACATTAATCCCTCCACTTATAATTTCCAACTGTGTGGCTTTCAACAAGACACTTTACTTCTCTGAGCCTTAGTTTGATTGTACGTAAATGGAGGTTATAACGTGCACCTTGTAGAGATACGGTAGAATAATATAAGCTATACAAAATGCTAGACTTCTACTTAATTATAGCCAAAAAACTGTGGCAACAATTTTTTTGTGTAGAAGAAGCATTCACTGCTTCCCTGCCACA\n",
      "nm 291\n",
      "0.8777292576419214\n",
      "GAGGAAACTGAGGCTTGCCCAAGGCTGCATAGCATGGGTGAGGATTCAAATGTGTGGGTTGCTGTGTGACTCCCCGCGAACCACTCTGCCCTTCTGCCCTGCACATCACACGGCATTCTGTAGGCCAGGTCTTCCTGGCTGGGTCTGCCCCTGCTGGCCTCGAAGCCCTTCAAGGGTGGGTCCACATGGGTGTGGATCTTGGGTACCCAGCTTCGGGCTGTTACTGAGGATGCACTGACAGGTGTTTCCCAAATGGGTGAAAACATAGATAATTTTCCCCACTCCCTGCCATTATGGAGCTAAGGCAGAACTTGGGAAACTCATGGGACCTGCCTTTAGAGGCACTAGGAGCAAGAAACCCAGGCAGGCTGGAAAGCCACTGTCCCCACCCAGCGACCCACAACCCACAGGGGTGACCAGGTATCTGGGGAGTGGCGACTCTGTGGACAGCAAGGATGTCGTGTGTGCTGCGTCATTCAGCAAACACAGATTGAGCTCTGTGTGCCAGGCACAGGGCTGGGCACCAGAAGCACAGCGGTGAACAAGCCAGACCCAGCCCCTGGCCTCCCAGGGCTCTCACATGAGAGGTGGAGGGTGGGCAGACCAGAAATTGACAAAAATGCTACAGTGTGGAAAACAACAATTAGGGGGTTGGTCTGCAGGGCCTCTGGGGGCTGGGAGAGTTATCAGAGACTTTTCAGGGGGTATTACTGAGGCTGAGCTCTGCTGGCTGATGGCGAGCTGGTCAGGGAGGTGTCTGACCAGCATCCTGCAAAGGCCACGAGGTGAGAGAATCTAAGCTCACTCAGGGAACAGATGAGAAGGAGTGTGACCTGAGGGCCGGGGAAAGGAGAACCATTGAGGTCTGAGGGGCATAGCAGCGGAGACAGGGCTTGGCTTGTGGTTCGAAAAGCCCCCTGTGTGTGCAGCAGGGAGTGCAATTTGCAGGGGCCCAGGTGGCCATGGAGACCCCACGTAGGAGGCTGGTGCTGTTTTCAGGGGAGATGAAGGTGGCCTGAATCGGGACAGGGGCTGGGGAGGTCAAGGCGAGGGGCCAACCCAATTTTAGAGGCAGAGCCTGCTGGATTTTGTACTGGGCTAGGTGAAGGGCAAGGAAGGCAGTCTGGCTGAGCCCTGGAGGTGAGGAATGCTGGTTACTGAGATTGGGAGTTGGGGCTGCTGGAGACACGGCAGCTAAGGCTTTCTTTGTGAGGATCTCCACAGTGGCCTAGGGGCAGCTGGGTCGCCGGCACAGGGTGGTCCCTTTCCCCCAGTCCTGCCTCTCAGCCTGTATCTGGGACCGACGTGTCTATTGGAGGTGAAAATCATGCCTCCCGCCTGAGCCCGATTGCCCCCCGGGGGTGGCAGAACGCCAGGTGCCCATTTTAATTCTCCGACAGTCATACTGCTTTATTGTTCCTATTTGGGATTTTATTATTATTGCTGTTAATGGTTTGAAAAGGCCTTTTAATTAAAGCTGCAGGTTGGAGCTGGCACCTGAGCCCCTGGGGTGGGTGGGAAGAAGCCTTGCCAAGCGTTCACCCCACCTCTTACAGAGCTGGAGGCTTTTGAGATGGGGGCTGTGAAGCCTTCCATGGGGAGACTAGGGGACCCTGCCGTTGAGACCATGGTACAGCCACCGCCAGGCCTCAGTTCTCTGCCTGTGATACAACCAGAAGATTTTCCCAGCACAGATGGCATGACATTGATTTGTAAATGGACCTGTTGGTAGGGAGCTGGTGGGACACACCTGGGTTTCAGTCTCATCTTTGCTGCTTACTGGCTGCAGGACCTTGAGCAAGATGCTTAAATGGCCGCAGCCTCTGTTTGCTCATCTATAAAATGGGAGTGCTGAGTTCCTGCCTCCATAGGGCTGTTAAGAGGAATAAAGAGATGATCCAACCCCTGGCCCAGGCTGAACACTCAATAAATGGGGGTCATGTTATTGTGACTGTCGAGACTGTGGGGATCAAGCGAGGCTGTGTGTCTGAGCCTAGCACGTGGTAGATGCTCCGGACACAGCTGCTCCGGACACATCAGCTGCTCTTATAGCAGATGTTGCTGCCTTCTCCTCCCCTTCTTCCTCCCTCTTGTTCCCGAACGTGCAGGAGGTTTGACCCGTCTTTGCCTTTGCACATGCTGTTTCCCCA\n",
      "nm 339\n",
      "0.8658593386120168\n",
      "CTTAATGAATACCACTCTCTCTTCAAATCTCTGCTCAACAGGGGCGCCTTTTTGACCAGCTTAGTCGTTAGACTCCCTAATACAGTTCATAGTTTTCACATTTTTGTAGAATCTATTCAAGTTCTAACTCCCCGCCATGCTCGCCGGCGCTCAAGCCTAGTACCATGGCAAGCAAAGATGCGGAGTTAATAAAACAGAATTATACGGTTTATCATTCTCAACACTAAACCTGCGCACCCTTTTCCGTTAAGTAGTTCCTAATAGTCCAGCACAGCCTTCCGCCCGGCCCCGCCCTCGCCTGGCTCCACTCTGCTCCTGCGCTTTGGGAATCGAAGCTGGGGCGTTCTCCAACCCCCCCGCGCTGGAAGCCTTCACTATTCTCCTCCCTGTGGGTGGAGCGAAGTTTGGGCACTTGGGTCCTACCGTTGTTATTAGTCTTTACTCGTAATTGATACTAAAGAACAAAATTAAATGGGTTTATTTTTGGTGAAAAGTTAATTCTCCTTATGTTTGGATTTGCCCCTCATGCACCAAATGGTACAGCCCCACATCAGTCAGGCTGCCTACCCCTGACGCCTGCGACGGAGAGGCGCCTTCCGTGCTGTCGTCATCACGTCGGCCGGAGCTAGCGCTGCGTCCTGGGCCACGCCTCCCGGCGCACCGACGCGCCTCTCCGGTTACTAAGCGGCCTTGGATACCTGGCCGCGGGATGCTGGGCGGCGTCAGGTGAGCGGTGGTCGCTGGGCCTCAGGTAAAGGGCGCCAACAGTGGTGGGCCGGCTGGGGCGTTGGTGCGGCCTGGGAGCTGGCGAGGGACTCGCCGCACTCTTCGAGGCCGCTGGGCCGGTCATAGAACATCCAGGGTCCCCCGGGGTGAAGTAAACTGTGGGCGCGGACGTAGCCCGGGTTCCTGGCGCCCCGGCTGGGCGCCCATCTCCACGGCCTCGGGTGGTGCAGGTGTTTAGTCGTTCCGCTGACTATGAAAGAGCATGGGACGAGGAATCGTACAGTCTTAATCTCTCTTCTGTCGTGGCTGCGACCCCTCGGTATTCATGTGGGAAAATACTGATTTGACTGGTAATGTTATTGAAGAGAAAGCGAGAGAATGGTTTGGCAGCGTTACCCAAATATTTGTTATTTTTATAGTTTTAAAGGCCTTATACTATTATTAAGGAAATGCATTTCTGGCTAAGTCTGACAGTACAGGAACGCAGACCTGCTACTCTCACCAGGGGCTGAACTAACAGAACAAAAAAAGATAGATGTATCACGGTGGTGGGACCATGGAGGGGGCAGTTTTTCAACTGGACAAAATGATGTTAAAGTGCTTAAAGAAGGATAAATATGTGAAAGTAGCCAGGAAAATTCTAAAATTAATGCTAATAAGGGAGATTAGCTCTCCAGAACCACCAGATATTATAACATAAAGGTATAGCAATTAAACTAGCATAGAAGATGGGTGCAGCAGTGTGGGCCCGTAGTCCTGGCTACTTGGTAGGCTGAGGCGGCAGGATCCCTTGAGCCCAGGAGTCAGAGACCAGCATGGGTATCAAAAGGAAACCCTGTCTCTGAAAATAAATAAATTAATTTAAAAAGTTTGGGACTCAGCAGGAGCTTACAGGTAGATAAAATATATTAGAACTCAGAATAAGAGCGATTTATATATAGGGATTTATTATATAGGCGAGGTGGTACTGTATTTCAAATCAGCATTGAAGAGATGAATTGGGGTCAGGCAGCTTTTTTAGCAATTTAGAAAATAATTAAACCAGTCGAGCGAGGTGGCTCACACCTGTAATCCCAGCACTTTGGGAGGCCAAAGCGGGTGGATCACTTGAGGTCAGGAGTTCCAGACCAGCCTGGCCAACCTGGTGAAACACCGTCTCTACTATGGCGCGCGCCTGTAATCCCAGCTACTGGGGAGGCTGAGGCAGGAGAATTGCTTGAACTTGGGAGGCGGAGGTTGCAGCGAGCCGAGATTGCACCACTGCACTCCAGCCTGGGTGACAGAGCAAGACTATGCTTTGAAAAAGAAGGAAAAAAAAAAGGAATGAAGCCCATTTTGAGCACCACAATAATTTCCAAATGGACTAAAATTTAA\n",
      "nm 236\n",
      "0.9037735849056604\n",
      "GGGACATAAAAATATCATTGAAAATATAATAGGTGGAGAAAAGTGTATTTCGTGGTACTTCTTTCAGGGAAAATGCAATGTAAATTGAAATAATAATATTATTGAGGGGTAACAATATGCCAGGCACTCTGCTAGGAACTTATTTAATCCTCACAGCAGTCTCATGAGCTAAGTACTATTAATATTCCCGTTCTATAGGTGAGTAGACTAAAGAGCAGAAAGGTTAAGTAATTTGCTTAAGGTCACATAGCTAGGGAGTGGACAGGAATTCTTTGATAAGTTGCTTGTGGTGAGGATAACAAGGGAAGACCCTCCCCCGGGGTAGTTTAAGCTCAGATGCTCACAAAACTCTGCTCCAGGGAGAGTGAGCCTACTTGGTTGAAGAGCACTGATTTTGTTGAGTAGAGGATGCAAGTTTGGGCCAGAGTGGAATTGTTCAAGAATAGAGAGGAGGTTGGTGCTGCCATGGGTGCCCTCCTTCAGCTCCATCGCTTTAAGGAAAGGATGAGCTCATGTTTAAAGACTTTTAAGTTGAAGGCAGTGCTAAATAATTTAGTGTGGTCAGGTACCCACCTGACTCAGGTTGACCCTGACACCAGTGCCAGGTGTGGCAGAATCACCAAAATGGTGTGGAAGATCAAGATAATGCTAAATGAAACTACCATTTAAGTCTGCTTTGAAAACTCAAGGAGTTTGGAGCTCAGAGTTGCCAAGAACAAGTTGGAATGGCCTGAGGCTGCCATGCTATGAGGAAGCCCAGGCCACATGGAGAGGCCACATGCTTTTGACTGGTCGTTCTGGTCTTTCAATTCTCCCAGCTCCAGGAACAGACACATGAGTGAAGAGGCTTTCATACAATTCCAGCCCCAGTTATCGAGTCTTTGCCATTGAAGCCTCAGACATCATGGACAGTGACAAGTCTTCACTGCTCTACCCATTCTGAATCCTGAACTACAGAATCCGTGAGCATAAGGAAATGCTTAAGACACCAAATTGTGGGGTAATTTGTCACACAGCAACACTAATTGTGACTGTAGCTCACTAAAATGCCTCCCAAATATTATCTTCACAACTAAAAGCACCAAAAAACCTGAAAGTACAGTTGAATTTCATGATTTGCTATAATTATATTCTAGAAAGTCACTGCAAACACTGAATTAGCAAATACTGAACCACTGCTCCTAGGAGAAATACAGGCTTAGGTTCCTGTGAACCATTCTGTTCCCAACATGTTCATCAACTCATCAATACTTAAGCTTGTTTTATGCATGTTTCTGTTGAAAGACACCATGTTTAATACATATTGTTGATTCACTCACATTGCACTCATGGCCAACAGCACTGTAACTCACGCCTGAATGAAGCTTATCTAACTCACATGATCTTCTCTGTAAGGCACATCAAAGCCTTCTGGTGCTTAGGAACATTAGACAGCACCTCAGCACCATGCCCGGGGCCATTGTCAACAGTACAATCACCAGCGGAAGACACAAAAATTTGTAAAATGTGGCACTGAATAGACTGAAAAGGACAGTTGTTTACAGTGTGAGAGCTGAAAGAAGAAGGCAGCGTGTCACTTTGTATGATCTCACCTGGAAACATGCATCAAGTGACTCAAAAAAAATTTTTTTTTTCGAGACAGGGTCTCACTCTGTTGCCAGGCTGGAGTGCAGTGGTGGGATCTCTGCTCACTGCAACCTCCGCCTCCCGGGTTCAAGCAGTTCTCCTGCCTCAGCCTCCCAAGTAGCTGGGACTACAGGCACACGCCACCACACCTGGCTGATTTTTGTATTTTTAGTAGAGACAGGGTTTCACCATGTTGGCCAGGATGGTCTCAATCGCTTGACCTTGTTATCTGCCCACCTCGGCCTCCCAAAGTGCTAGGATTACAGGCGTGAGCCACTGCGCCCAACTGGCAACTCAAATTTTTCATGACTCCTCAAGTATCCATCAATGACCATGAGAGCTCCAGCGAGTGTTGATTTTGAGGTTACAAATTTAGTGAGTAGATGAATCCACGACTCCACAATCAGTGACTAATAAGAATTGACTGCATTATTTAATAAGTTCAGGGCTTGCCGTCGTGATTCACAATTGGAGAAAGCGAGGCATGGAGCAAGTCCAGGGGTGTTCCAAAAGGCCTCACTTTTCTCCTTTGCAAACTGTGGCTGATGAGGGCCATCCTGCGGGGTTTGTGGAG\n",
      "nm 266\n",
      "0.8952164009111617\n",
      "TCGTTCTGGCTGAGCAGTTTCTCTGTGGCCCAAGGGACCTGCATTGGTTTTTTGAGTTGGGTTAGGGGCAGAGAGGGGGAGTGATGGGGCTGTGGGGGTGGAGGTGGGACTTTGTTTCACTTAGTTTTATACCCTCCACGATGTTCTTTCCCATCAAGGACAGGAACACACCACCCACAAAATGACCTTGGAGAGACTTTTGTTATTTTTTAGATAGGAAAAAACAAAAAAACAAAAAAATCCCCAAACCCAATAACCATTTGAGCTACTTTGATGGTGGAGGCAGCGAATCCCGGGGAAAGCCAGGCTCCTAAGCCCCAGACGCCCCTGCCTGCTGAATCAGGTCCCCGCCCAGTGCTCAGATGGTCACGGGCTCTGGGATCCTGCGGGATTTGGAGGAAGAGGCCGTGCTGCGTCCGGGCTGGCTCTGCCCACACCCCGGCGAGAGATGCTGACTTCACATTCACCTCTGTGAAGATCACAGGATTTAAGCTGTCAGCGTGGGACGGGCATGTGCTTTAAGGATGATTGCGCCAGCAAAGCCGCCTTCCTGAGCCATGCTTATGCCAGGCTCCTCCTGTCTCTGAGCAAATGCTGGCCGCCCGGCCCGGGAGCTTCCGGAAGCTGTTTGCTCCCCGTGTGCAGGAGGAAATGTGTGTCTGCAGCCATGTGTGTGGGCCGCTGTCTCCTGCTGCACCCGGCCTTCCTCACGGCAAGAGCTCTGTGCTCTGTGGGCTCTGGAAGGAACGTTCCGGGCCGGTGTGTCTTGAGAGTGTTGGGCAGCTGCCGCCCTGGGGGAAGGACCCTCACTAGGCTGGCCCGGGGCAGGAGCAGGAAGGATGCGGCTCAGCTGCCGCCTAGCTCTGTGTGCCAAGTCCCTGCAGGGACCCTGGAAGCCGAGAGGGGCGGCTGGGTGGCCACGCAGCGGGGTGGGAGGTGAGGGGCCTGAGGAAGCCGCGGTGCCGCGTTCCCTGGGCAGCGTCGCTCACACACAGGGAGGCTCATTCACGCTCACTCAGCACGGCCGTGTCAAGGCACTGCAAGTACACTGACACGCAGCTTGCGGTGGGAGGGACGGTGGGGTCCTCGGACCACCCAACACAGGGCCGCAGACTGGGCTTTGACAACAGAAATTCAGTGTCACTGTGCTGGAGCCGGAAGTGGGAGACCTGGGTGCTGGAGGTTTGCTGCGATCCTGGTGTTCCTTGGCTCGAGAAACCATCACTTGGCCTCTGCCTTCATCTTCTCACCTTTCCACGCCTCTCCCGTGCGTGTCTGTGTCCACGTTTCCCCTAAGGGCACAGTCACATTGAATTAGGGCCCACCCTACTCTAGCCTGACCTTGTCTTAACTAATGACCCTGCAGTGACCTTCCTCCCAAGTAAGGCCACATCTCAGGCACCGGGATGACGCCTTCCACACTAGAATTCTTAAGGGACCCAATTCAACCCCTAAGAGGGATGCCTGAGCTGAGGTCTGTCGTGGACAGGCTGGAGCTCTATCCCCCGGGCCTCTCTCCTGCCTGGTGCCTCCCATTTAAGGAGCAGGTTGAAGGAGCTGAGACCCCCCCTTGGGCATTGAGCACTCCTGTCTTGGATACAGGCTTCCCCAATGCTGCCGCCTCTCTCCCTGACCTCAACCTGCTTCCCTGCACTGAGCCTCACCTTTGAACGTCCTTCCTTCCCCAGCGCGTGGAGCCCCGCACAGCTGGGGCAGCTCAGCCGAGTGCAGGCGGTGGCAGGTCCCAGGGGCTGGTGTCTTGGGTGGGGCCTGGTGTCCGAGGCCTGCAGATCAGCCCTGCTAGCCCTGCCCAGTGCCCAGGCTGCCCCTTTGCCTGGTTGGGGGTTGGTGGGGCAGGGAGCCTGGTGGGCTTCACTCTGGGTCTACCAGGAAGGTGGCACTAGGTTAATCATTATTGCCCCGACCCCCTCCGTATGGGGGGGCAGGACCAGCTCAGAAATTTTAGAGTACCACGCAAAATAAGAACGTTGGGCTTCTTGCTCAAAAATGAAGAATTCTGGGACAGCAGTGGCGGAGCATGCAGCCTTCTGAGCGCAGACGTCGGGACACCAGGGACGCTGGCCGGGAGCGAGGGAGGGGCTTTACCGAGGAATGGGTTTCCTCCTCCAGCCTTGTTCTGGAGATCACGCCTGTGCAATCTTTTTAAATACAGAACAGAAAAAAATGCCAGCCCCCTGCAGCCTGGTCACGAGAATGCCAGGATCTCAGGGCACCTGCTGGCTGACCTTC\n",
      "nm 203\n",
      "0.9169960474308301\n",
      "AGGTCTCCCTAGTAACTAAGGCGATGTGGGCAGAGGGACACGTGCCATTTCTGGGCAAAAGCTTTTAGAACCCTGTGGAAGTTACACCTTTTCTTTTCCTTTGCCATGGCAACTGGAGATTGTCCAGACAGCAGCTTCTCCATCAATCTGGGGTCTTGAAGTTACCTGCTTATGGACCTGAAGTATAAAGCAGAAACAAACGTTTATTGTTTTAGGCCACTGGGACTTGGAGTGGCTTGATTCTGCAGCATGATCTAACTGGCCCTGATGGACACAGCCAGTGGATGTTCCCTTGGATTTTTCCTTGATCTTTACTCTCTTATTTTTCAGACTGTTCGCAAATCCCCTCCTCAGAGAGGTCCTCTCCGTCCATTTCCCCAGAGCCACTTTCAATTCTGTTTCCTTCTCTTTTTTTTTTGACAGCGGTTACTGCCTTCTGACATTATTTTATTTACATTTATAAATAACGTGACAATTTATAAATAAAGTGTTTCTCTATCTCTGTAATTTTGTCATTTGGAGAATGTTATACGTTGAATCATACAGTGTGCGGGACTGTTATTTTCTGCTTAGGCCTTGAGGTTCATCCAACTTGCTGGGTATAACAGTGGTTCCTTCCTTTTTATTGTTGAATAGTATTTCTATGGTGTGGATGTACTATGGTTTATTTAATCATTTACCTGTTGAAGGGCATTTATTTATATCTATAAATACAGTCCACTTACTGTATTTCATTATCTCTGAGATGGAAACTTGAAATAAAAATAATTTTTATTTTCCATTCTTGTTTCTGTTTTTCTGTTTTTACTCCACCCAGCCCCCCTAAAGTTTTTAACATGATTGCTTTTCTGAAATCAGGATGGCTCTTAGAGTCCACAGTGTGCTATTCAGGCCATGACACAGGTGAATTACCTGTGCAGGTGTGAACAACCAAATGACCAGTGAACACATGTAACTAATACTCAACTGACCAGCATCAGTGCACTGGAAAAGAATCCGAGATTGGACAATGGAGCCCTCTTTTAACCCCTATGAATGTCATGGATGTGGGGACAGACTGGAGGACTGGAGCAAGTCAAATATGTTTAGTGACATTGCTGAAGTCAGAACCGAAGCAGAAAAACTGTATATAATTTTAAAGAGTCCTCAAAGCCCAGCACTCTTGACTTTCAATCTTTTTATGGATTCTTTGAAGAAATGCCGTATAATCAGTGCTCGTGGATGAATGCACAGAGGATGATAGAGCATGGAAAAACCCCAAACATTGATGAGTCTGAATTGAACAGTGATTCAGAAGAATTGGACTCAGTGTAAAGTAGTTTGAGGAATAACAACCAAGTTATTTCACTTGTATTTTCATTTTTATGTATGCACAATAGTAATATGTGATAAAAATCTGTCTAATTAAGTCTCAAAGAACTCTTACAATAAGTAAAATTAAAAATTCTAAATGATAAGAATGCATTGTGTCATGGTTTAATTGGCAGTGTATTTTTCTTTCACAGGGGAACAAAAAATAATGGTGCTTCTTGCAATTGTGTTTCTCAGAGGTGATGAAATGTGGTATTTCTTTCAGAGACTGCCCTTATCACAAAGACATCTGCTGTGTCATTCAGTTCAATTTTAGTTGAGTTTAACAAGGCCTCTGGCCATTTAGAAAGCTGGCTCATTTGGACTCAGAGGCTACCGTGATTTTAAATTTGACCAGATACCTGGACTGGAGAAGAGCTAGAGTTTTGTTTCTAGCAAATCCATTGGGTGCCTAAGGTAGGCTGGCCAGAGAGTCTGCTCCTGGTTGAGACTGGGCCCTCCACCCCATGGGAACAGTAAACCACAGAACTTAGGCACCATCACAATTTTTTTCTGCATTCATAAATCACCTGACTACTATTAATATTCTTCATTTCTGAAGTCTTTTATTTTTCGATAATTATAGATCCACAGGAAGTTGCAAAAATAGTACAGAGAGGTCCCAGGGACCTTTCACCCAGTTTCCTCCAATGCTAACGTCTTATTTAACTATAGAAATTGCCAAACTTTTCAGAGTGACTGTCCCATTTTACATTCACATCAGCAACTGGGTCTGGGTGACCCAGTTTCTCCACATCTTTGCCAGCATTTGGTGTTGTCATTTTTAATTTTAGCCATTTTGATAAGTGTGCAGTGATATCTTATCATGGTTTTACTTTTTCATTTACCATTGAGTTTGGAAAGTTCTTTATAATATTCTGTCTGGATATTGGCCCTTTGTCAGATATGTGGTTTGTGCAGGGTCTTTTGCAGAGCAATAGTTTTAAATT\n",
      "nm 331\n",
      "0.8776480760916558\n",
      "GGTGGAGGTAGCAGTGAGCCGAGATCGCGCCACTGCACTCCAGCCTGGCGACAGAGCGAGACTCCATATCAAAAACAAACAAACAAACAAACAAAAAACAAAACTTTTTGCTTAAGTCCTAACTATTCCTCTATAAAGTGCTTTCTTTCCAATTTGATGGAGTTAAATGTTATCTGAGGTCAGGTGTGGTGGCTCATACCTGTAATCCCAGCATTTTGGGAGGCTGAGGCAGGTGGATCACTTCAGCCCAGGAGTTGGAGACCACCCTGGGCAAGACTCCCGGCTCTACATTAAAAAGAAAAAATCTGAAGTCCAAGTTCCTTGGAGAAGGCTTGCTATTTTCTCATTCTACAAAAAAGAGTTATCCTCTAATTTTTATTGCACCTGAACTTTACATAAACACACATCCCACTTTTATTTGCCAATACAGATCAATTCAATCTGTCATCATTTAAACCACTAATGGATGATGTATAAGTCAAACAAAAGGGACAAGCATGAAAGTAGACTGCTTCTCTAACACCTGAACATTTTCCTTTTAATATACAAGCATTCTTGCACACAGTTCATAAAACTGCTAGGCTGCTGATTCAGTGTTCTGTTTAACAGATGAGTTTTAACTACTTAAAAAAAAAACAAACTCTGCTTTCTACAACTATCTGATCTTCGACAAACCTGACAAAAACAAGCAATGGGGAAAGGATTTCCTATTTAATAAATTGTGCTGGGAAAACTGGCTAGCCATATGCAGTAAACAGAAACTGGACTCCTTCCTTACACCTTATGCAAAAATTAACTCAAGATGGATTAAAGACTTAAATGTAAAACCCAAAACCATAAAAAACCTAAAAGAAAACCTAGGCAATACTATTCAGGACATAGGCATGGGCAAAGTCTTCATGACTAAACACCAAAAGCAATGGCAACAAAAGCCAAAACTGACAAATGGGATCTAACCTAAGAGCTTCTCCACAGCAAAAGAAACTCTTCAGAGTGAACAGGCAACCTACAGAACGGGGTAAAATTTTTGCAATCTACCCTTCTGACAAAGGTCTAATATCCAGAATATAGAAGGAACTTAAACAAATTTACAAGAAAAAAACAACCCCATCAAAAAGTGGCCAAAGGAAATGAACAGACACTTCTCAAAAGAAGACATTTATGCAGCCAACAACATATATTAAAAAAAAAGCTCATCATCACTGGTCATTAGAGAAATGCAAATCAAAACCACAATGAGATACCATCTCACATCAGTTAGAATGGTAATTATTAAAAAGCAAGGAAACAACAGATGCTGGAGAGGCTGTGGAGGAATAGGAACGCTTTTACACTGTTGGTGGGAGTGTAAATTAGTTCAACCATTGTGGAAGACAGTGTGGCGATTCCTCAAGGATCTAGAACCAGAAATAACATTTGACCCGGTGATCCCATTACTGGGTATATACCCAAAGGACTATAAATCATTCTACTATAAAGACACATAAACGTGTATGTTTATTGCAGCACTATTTACAATAGCAAAGACTTGGAACCAACCCAAATGCCCATCACGGATAGACTGAATAAAGAAAATGTGGTACAGATACACCATGGAATACTACGTAGCCATAAAAAAGAATGAGTTCATGTCCTTTGCAGGGACATGCATAAAGTGGGAAGCCATCATTCTCAGCAAACTAACACAAGAACAGAAAACCAAACACCGCATGTTCTCACTCATAAGTGGGAGTTGACAATGAGAACACATGGACACAGGGAGGGGAACATCACACACCTCACACATCGGGACCTGTCGGGGCGGGTGGGGGGCAAGAGGAGGGAGAGCATTAGGACAAATACCTAATGTATGTGGGGCTTAAAATCTAGATGACGGGTTGATAGGTGCAGCAAACCATCATGGCACATGTATACCCATGTAACAAACCAGAACGTTCTGCACATGTATCCCAGAACTTAAAGTAAAATAAAATTAAAAAACAAAAACAAAACAAAACAAAAACTTGGCCGGGTGCAGTGGCTCACGCCTGTAATCCCAGAACTTTGGGAGGCCGAGGCAGCTGGATCACCTGAAGGTCAGAAGTTCGAGACCAGCCTGGCCAACATGGTGAAACCCCCATCTCCACTAAAAACACAAAAAATTAGCTGGGCGTGTAATCCCAGCTACTCGGGAGGCTGAGGCAGGAGAATCGCTTGAATCCGGGAGGCAGAGGTTGCAGTGAGCCGAGATGGCGCCATTGCACTCCAGCCTGGGCAACAAGAGTGAAACTTCGTTTCAAAAACAGCAACAACAACAAGAACAACAACAAGAAGAACAAAAACTCTGCTTTTAAAAGTATTTTAAGTCCAG\n",
      "nm 217\n",
      "0.9244482173174873\n",
      "CAATGCTGTGCAACCATCACCATTATCTAAAATTTTTCATCACCTCAAACATAAATTCTGTATTCGTGAAATAACTCCCCTCTCCCCAGCCACTGGTAATCTTTAATCTATTTTCTGTCTCTATAAATTTGCGTATTCTTGATATTTCACATAAAGTGAAATCATACAATATTTGTCTTATGTCTGGCTTATTTCACTTAGCATAATGTTTTCAACGTCCTTCATGCTGTACCACAGATCAGAATTTCATTTCATTTTATGGCTGAATGATACCACATTATATGAATACACCACTTAAAAACAAATCCACACAGTGGCTTACACCTGTAATCTCAGCACTTTGGGAAGCCAAGGCGGGAGGATACCTTGAGCTCAGGAGTTCAAGACCAGCCTGGGCAACACAGTGAGACTCCACGTCTATACAAAAAAATTAGCCAGGTGTGGCGGCATATGCCTGTAGTCCCAGTTACTTGAGAGGCTGAGGTGGGAGAAGTACTTAAGCCTGGGAGGTCAAGGCTGCAGTGAGCTGTGATCATGCCACTGCACTCCAGCCTGGGAAACAGAATGACACCTTGTCTCAAAGAAAAAAAAAAAAAATCCATTAATCTGCTGATAGACATCTGGAGTGTTTTTACCTTTTGGTTATTGTGAATAGTACTGCTATGCATATTCATGTACAACTGAGTCCCTCTTTTCAATTGTTTTGAGTGTATACTCAGGAGCGGAACTGATAGATCATATGGTAATTCTATGTTTAACTTTTTAAGGAACTGCCAAACTGTTTTCCATAGTGGCTATACCAATTTGCATTCCTACCTACAATTTCTCAGAGTTTCAATTTCTCCATACCTTTCCAACACTGTTATTTTCTGTTAAAAATGTTGAAAATCATTCATACATTCAGCAAAATTTATTGAGCAGCAGCACATCTATCACTTGACAGTCACCAGAAATAAAAGGCTGATAAAATGACTGCTCTTACAGAGCTTTCAATTAGTTTAGCAGAACATACATAAAAAGAACTCAGGAAAAAACAAGCAGAGTAACTACGTATGTACCTGTACATAGGATCTCGGGAGTCTCTCATGTCTCTGTATCTGTCGTACATGGGGTCTCGCTGATCTCGAAAATCCCTAGAGTCTCTTAGATCACGAAAGTCTCTAAGATCCCTCACGTCCCGAACGTCGCGCACACTCCTGCTGTCTCTGTGATCCCGCAAATCTCTACTATGTCTGTGGTCCCGCAAGTCTCGGGGGTCTCGAATGTCTCTGCTGTCCCGGGCATCCCGGCCATTTCTGCCATCCCTGGGCTCTCTCCTTGGACTTCCTCGAATTGGGGATCGATCACGCCTTGAATCTCGACTGTCTCCAAAGCCATATGGATCCCTGTGGGAGGTAGCAAGAAAATGCTAAGACAAAGAAATTGAAAGTAGCCAACCCATCAGCTCTTCATATGAGAAAACCCCCACCCTCCAAGCATTCTTCTCTAAAACAGGGCAGCCAAACAGAACATGACTCAACATTTAAGGCCAGTCATCCATCTGGTCAGCAAATAGTCTAGAGGTTCCACAATCTCAAAAGATTAGGACATCAAAAGAATGCATGACCAAAAACTGAAGGTTTTGACTGGATAACAGTATTCATCAGGCTTTCAAAGTGAAAGTGTCTTTCCACCAGACTTGCTTGAAAGAGACTTTACAAGGGGTAAAAAGTTGGAGTGACAGAGTAAGGAGGCAAGACTCATGAAGAAAAAAAGAGCGAATGGCACAATCTTATAAAAGTGATCAAAGGAACTGTCCTTAAAGTACGGAAAATGCACTTGAAGTATCTTGGCAGGATAATAAAATTAAGGGGAAAAAATTACTATAAGATACATACAGTAAAGGACCAAGAACAATCTGTTTCTCTGTTTTGTCAGGGCTATTGAGTATTGGTATCTCTCAATCTGAGGGTTTACGTAGAAGCTGATTCCATTTTGCTCAAGATGGTTTAAAAAAAAAAAAAAGAGAACAAAACAAAACAAAAAAACAACCTGAACAGTGAAGTCACAGATATGCTTTGTCTGCTCTGACTCAATGTTCTTCATGAGACGTTTCAACCCACTGGAAACTCCTCTTCAACATATTTAAAATTAAAAACTTCTTACCCCAACCCCATCAGTCCCATTCCCCACTTTTCCACTTTTGACAAAATCATCTTTCCACTTATCAAGTTTTAAGTTCTTGAATATTAACTATGCTTTTTCTTCCCCCATCCCAATAAAGTCACTTGTGTCCCGTTCACTTTTTCTTTCCATTCCCATTGGATTTGTAAGTCCAATCCAAGCCCTTATTTCTATTCTGACACCAACAGGTTTCCAAAACACAAAATTAAAAATCAACCTACTTGCTTTCAATTCATT\n",
      "nm 276\n",
      "0.8993371996685998\n",
      "TCCTTGGATTAGATGGTCAGGTGGCACTGAAGTGACTTGTACCAACAGGCTTAAGCATGAGAACTAACCTGATCATATTATATCCTAAGAAGGTATTCTAGAATTGAATTTGTAGAAGATTTCACTAGTTCTTCAAGTATATATTTTTAGATTCAAGTATTAAAGTTAGCACTAATGTAATTCACTTTGTTTATGGAGAATTGTTTACTTATTAGAATCTATAAAATAGTTTTGATCTAATGGAAACAGGCCTGTTGGTTATAGGAGGGAAATGTATCATGGTTTGACAAAAAAATAAAAAATAAAGGAGCTGGGGCATGACAGCTCTTAGAAGTAAAATCATTTGAACTATTTGTCATTGGGAGAAATTACCTACAGTATCAAAGAGTTGTCACAAAGAACTTTCCCCTGATACCCAACAACATATATGTGTATATATATATGCACAACGTTGACTTCCAGTGATCTCCATTTAATATAAAATAATTATCTGTGACAATTATTCTTTAAAAATGCATTCTCCATTAACATAAGTGGAATTTCGACTAGCCAACACTTTGAACTTTTATGTCTCAAGTGGAGGAGTTTACTGGGTACAGAAAAATGAAGGAAAATCCATAGCCTGAATAGAAGAGAAATGAGCTTAGTTTTATATTATACTTTAGGAAGAATAAAGAATAATATATGAGAGTTGGAGGTGTAGAGAACATATGTGAAATAGTTGGCAATTATTTATTTTATTCCCTTTGAGGACAGTTCATCTTTATACATAAGTATTAACATGGTTAAATGCAAGGAATCTTTAGGAGCAAAATGATAATAAGAGGTTATTTTTATCTTTGAACAAAATCTAACCTAACTGGGCTGAAACCCAATAGGTAACATTGGTGTGTGTGTGTGTGTGTGTGTGTGTGTGTGTGTGTGCATGCATGTGTGCCTGCATTTATGTGTGCATGTATACATTAAGTCACATTTTTTATATTTGTTTCACTTTTGATTGAAGGCAGATATTGTTGGAGAACAGATCTATTTGTGAAACCTTATTGGGAACATCCAAATTGGCAAAATGACTTGGTGCCCATCTGCAGTAAATTAAGATGTACATCTGACTAGGTTGGGGCTTCATGCCAGTGCCTGTCTCAACATGTTCAGTTTTTAACTGAATTCTGTCAAAATTCCGAGTCAGATAATAATTAATGCCACAGACATTTAATGCATCTTTATTATGCAAGTGCCTGTCTTTGTGACTGTAGATTTAGTCAGAAAGGGTCAGGGTGGCTTCCTGGCCATGATATTAGCCTAGAGCTCTCCCTACTCCCTCCAACCCCCTTCCTTCTGTTTTCTGTTCACTCTCATTCTACCCTGGGATTGATCACTGGGATAGTGGTTGGAAAATGTTACTTCATTGGTGAAGAAAGCTCATATGAGATCTATGTTGTTTGAAAGCATTATATGGTGTCCTAGTTAGGATTCTTCCAAAAGCAAAACCTGACACAGTGACTCAGATATGATAGTTTATTTGATAGGTAGTTCCAGGAAACAAGAATGAGGGAGAGTGAGGCAGCTTTAAAAAAAGGATTTTAATGAGCAGATTAAGGATAAGGGTAACTAGGACTAAGTCCTGCTATAGATCTTGTATAAAATAGCCTCAGAATTGTCTACACCTAGGGACAGGGAAGTTGAGTATTTGTTCACTTACCCCATTCTTCATTGTTGGTGTTTTCTCTTGGGGGTGTTTAATCTCTGGCACTTTCAGCCTGCCCTAAACATGGACTGAGCAGGTGGAGAGGCAGAAAGACACAAGTGCTTTAAGTTGGGGAGCTGTTGGTGTGTATAGGAACCAGATAGCTTCAGGTGAACTCAGAGGTGGGCTAAGAGGACGTGAAGCAGGGCATCACCAATGTAAGTTCCATGCGGTTTCTATTGAAAAGGAGCTTCAGGGCTCTATTAATGTATAGAATGTCTACTTCTGTTTTCTCCAGCTCATCTACTTGTCTCAAACCAACTAAATGACCAAAAGGAAAAGTTGGAAATGGCACCAGTGGTTCATCCTGCTCATTTTCCAGCATAGTCCGAAGGTAGACAATTCTCATACTTTGCCCATTTTAGACAGTCTTCCTCAGGATACAGATGGCAGGAAGGAAACAGGAACCTCTCAGAAATCCGATGCAGCTCCTTACTAGATCTCTATTTTCACCTTCTTTGCCTCTTCTCAAATGTGGATCTCAAAATACCATCTGCTTAATTGACCTAATAGCAATTGTAGTGGTAGTGCTATTTGCTATCTTTTCTCGAGTGCTTACCATGTTCCCACCATTATTTTAGCACTGTTCTGTATAAATAATCAGAACAATCCCATGAAGGGGATACTATAATATAATGATCCCATTTTAAAACATGAAAAGAAACTGAGGTAGAGAACGATTACCTGTCCAAGGTCTCAACCGTGG\n",
      "nm 328\n",
      "0.8783176806859943\n",
      "TTCATAGAGCAGATTTGAAACACTCTTTTTGTAGTATCTGGAAGTGGACATTTGGAGCGCTTTCAGGCCTATGTTGAAAAAGGAAATATCTTCCCATAAAAACTAGACGGAAGCATTCTCAGAAACTTACTTGTGATGTGTTTGCTCAACTAACAGAATTGAACCATCGTTTTGAAGGAGCAGTTTTGAAACACTGTTTTCGTGGAATCTGCAAGTGGATATTTGGCTAGCTTTGAGGATTTCGTTGGAAACGGGATTACATATAAAAAGGAGACAGCAGCATTCTCAGAAACTTCTTTGTGATGTCTGCATTCAAGTCACAGAGTTGAGCATTCCCTTTCATAGAGCAGGTTGGAAACACTCTTTTTGTAGTATCTGGATGAGGACATTTGGAGCGCTTTCAGGCGTATGGTGAAAAAGGAAATATCTTCCCGTAAAAACTAGACAGAAGCATTCTCAGAAGTTTATTTGTGATGTGTGCCTTCAACTAACAGAGTTGAAACTTTCTTTTGATAGAGCAGTTTTGAAACACTCATTTTGTAAAATCTGCAAGAGGATATTTGGATAGCTTTGAGGATTTCGTTGCAAACGGGAATGGCTTCATATAAACTCTAGACAGAAGCATTCTCAGAAACTTCGTCGGGATGTTTCGATTGAAGTCCCAGTGTTGAACATTCCCTTTTATAGAGCAGGTTGGAAACACTCTTTCTGCATTCCCTGGAAGTGGACAATTGGAGCGCTTTCAGGACGACGGTGAAAATGGAAATATCTTCCAATAAAATCTGGATAGAAGCAACGTCAGAAACTTTTCTGTGATGGATCTACTCAGCTAACAGAGTTGAACCTTTCTTTTGAGAGAGCAGTTTTGCAACACTCTTTTTGTGGAATATGCAAGTGGATATTAGGGCAGCTTTGAGGATTTCGTTGGAAACGGGAATACATGTAAAAAGCAGACAGCAGCATTCTCAGAAACTTCTTTGTGATGTTTGCATTGAAGTCACAGAGTTGAACATTCCCTTTGAGAGAGCAGGTTTGAAACACGCCTTTTGTCATATCTGGAAGTGTCCATTCGGAGCGCATTCAGGCTTGTGTTGAAAAAGGAAATATCCTCCCATAAAAACTAGACAGAAGCATTCTCAGAAACTTATCTGTGATGTATGTACTCAACTAACAGAACTAAACCATCGTTTTGAAGGAGCAGTTTTGAAACACTCTTTTTGCGGAATCTGCAAGTGGATATTTGGCTAGCTGGGAGGATTTCGTTGGAAACGGGATTACATACAAAAAGCAGACAGCAGCATTCTCAGAAACTTATTTGTGATGTGTGCCCTCAACTGACAGTGTTGAACCTTTGTTTTGATAGAGCAGTTCTGAAACACACTTTTTGTAAAATCTGCAAGAGGATATTTGGATAGCTTTGAGGATTTCGTTGGAAACGGGAATGTCTTCATGTAAACTCTAGACAGAAGCATTCTCAGAAACTGCTTTGGGATGTTTCAATTGAAGTCCCAGTGTTGAACATTCCCATTCATAGAGCAGGTTTGAAACACTCTTTTTGTACTATCTGGAAGTGGACATTTGGAGCGCTTTCAGGTCTACGGTGAAAAAGGAGATATCTTCCAATAAAAACTAGATAGAAGCAATGTCAGAACTTTTTTCATGATGTATCTACTCAGCAAACAGAGTTGAACCTTTCTTTTGAGAGAGCAGTTTTGAAACACTCTTTTTGTGGAATATGCAAGTGGGTATTAGGCCAGCTTGGAGGATTTCGTTGGAAACGGGAATACGTATAAAAAGCAGACAGCAGCATTGTCAGAAACTACTTTGTGATGTTTGCATTCAAGTCACAGAATTGAACACTCCCTTTCACAGAGCAGGTTTGAAACACTCTTTTTGTAGTGTCTGTAAGTGAACATATGGATTGCTTTCAGGCCTAAGGTGAAAAAGGAAATATCTTCCCATAAAAACTAGACAGAAGCATTCTCAGAATCTTGTTTGTGATGTGTGCCCTCTACTGACAGAGTTGAACCTTTCTTTGCAAAGACCAGTTTTGAAACACTCTTTTTGTAGAATCTGCAAGAGGATATTTGGATAGCTTTGAGGATTTCTTGGGAAACGGGAATGTCTTCAGATAAACTCTAGACAGAAGCATTCTCAGAAACTTCTTTGGGATATTTCAATTGAAGTCACAGTGTTGAACATTCCCTTTCACAGAGCAGGTTTGAAACACTCTTTTTGTAGTGTCTATAAGTGAACATTTGGCGTGCTTTCAGGCGTAACGTGAAAAAGGAAATATCTTCCCATAAAAACGAGACAGAAGCATTCTCAGAAACTTGTTCGTGATGTGTGCCCTCTACTGACAGAGTTGAACCTTTCTTTGCAAAGAGCAGCTTTGAAACACTCTTTTTGTAGAATCTGCAAGAGGATATTTGGATAGCTTTGAGGATTTCGTTGGAAACGGGTATGTCTTCAGATAAACTCTAGACAGAAGCATTCTCAG\n",
      "nm 289\n",
      "0.8998416468725258\n"
     ]
    }
   ],
   "source": [
    "r10_identities = []\n",
    "with start_guppy_server_and_client(\n",
    "    BIN_PATH,\n",
    "    \"dna_r10.4.1_e8.2_400bps_hac.cfg\",\n",
    "    GUPPY_ADDRESS,\n",
    "    [\"--device\", \"cuda:all\"],\n",
    ") as client:\n",
    "    fa = Fasta(str(TEST_FASTA.resolve()))\n",
    "    reads_sent, reads_recv = 0, 0\n",
    "\n",
    "    for signal_array in natsorted(R10_SQUIGGLE_OUTDIR.rglob(\"*.npy\")):\n",
    "        # remove any non ACGT and replace with A\n",
    "        print(signal_array)\n",
    "        read_id = signal_array.stem.partition(\".\")[0]\n",
    "        signal = np.load(signal_array)\n",
    "        read = {\"read_id\": read_id, \"raw_data\": signal}\n",
    "        success_pass = client.pass_read(read, pack)\n",
    "        reads_sent += 1\n",
    "        t.sleep(0.1)\n",
    "\n",
    "    t.sleep(20)\n",
    "    ress = []\n",
    "    while reads_recv < reads_sent:\n",
    "        res = client.get_completed_reads()\n",
    "        if not res:\n",
    "            print(reads_recv, reads_sent)\n",
    "            t.sleep(3)\n",
    "            continue\n",
    "        for res_batch in res:\n",
    "            for r in res_batch:\n",
    "                ress.append(r)\n",
    "                reads_recv += 1\n",
    "    for r in sorted(ress, key=lambda x: len(x[\"datasets\"].get(\"sequence\", \"\"))):\n",
    "        read_id = r[\"metadata\"][\"read_id\"]\n",
    "        reference_fasta = fa[read_id]\n",
    "        print(reference_fasta)\n",
    "        aligner = mp.Aligner(seq=str(reference_fasta), preset=\"map-ont\")\n",
    "        read_number = r[\"metadata\"][\"read_id\"].rsplit(\"_\", 3)[-3]\n",
    "        sequence = r[\"datasets\"].get(\"sequence\", \"\")\n",
    "        query_len = len(sequence)\n",
    "        als = aligner.map(sequence)\n",
    "        for al in als:\n",
    "            r10_identities.append((len(reference_fasta), gap_compressed_identity(al)))"
   ]
  },
  {
   "cell_type": "markdown",
   "id": "1b111b89-37aa-4751-9a48-7bcd05c240d4",
   "metadata": {},
   "source": [
    "## RNA R9\n",
    "### Generate RNA Squiggle"
   ]
  },
  {
   "cell_type": "code",
   "execution_count": 61,
   "id": "50c04eb6-957d-4f79-ae53-3dd8633d1d1b",
   "metadata": {
    "jupyter": {
     "source_hidden": true
    }
   },
   "outputs": [],
   "source": [
    "def signalify_rna(kmers: dict[str, float], sequence: str) -> npt.NDArray[np.int16]:\n",
    "    \"\"\"convert a given sequence to signal using RNAR9 models,\n",
    "    returning np array containing 10 samples per base\"\"\"\n",
    "    a = []\n",
    "\n",
    "    for kmer in sliding_window(sequence.upper(), 5):\n",
    "        for _ in range(43):\n",
    "            y = random.gauss(0, 1)\n",
    "            value = kmers[\"\".join(kmer)][\"value\"]\n",
    "            value = (y * kmers[\"\".join(kmer)][\"std_level\"] * 1) + value\n",
    "            a.append(value)\n",
    "    return np.array(a).astype(np.int16)[::-1]\n",
    "\n",
    "\n",
    "def read_rna_kmers() -> dict[str, float]:\n",
    "    with open(RNAR9_KMERS_MODEL, newline=\"\") as csvfile:\n",
    "        reader = csv.DictReader(\n",
    "            csvfile, delimiter=\"\\t\", fieldnames=[\"kmer\", \"value\", \"std_level\"]\n",
    "        )\n",
    "        kmers = {\n",
    "            row[\"kmer\"]: {\n",
    "                \"value\": float(row[\"value\"]),\n",
    "                \"std_level\": float(row[\"std_level\"]),\n",
    "            }\n",
    "            for row in reader\n",
    "        }\n",
    "        return kmers"
   ]
  },
  {
   "cell_type": "code",
   "execution_count": 62,
   "id": "cd699bd8-ca93-4808-a6d3-ac4db07bbe26",
   "metadata": {
    "jupyter": {
     "source_hidden": true
    }
   },
   "outputs": [],
   "source": [
    "rna_kmers = read_rna_kmers()\n",
    "fa = Fasta(str(TEST_FASTA.resolve()))\n",
    "RNAR9_SQUIGGLE_OUTDIR.mkdir(exist_ok=True)\n",
    "polya = \"AAAAAAAAAAAAAAAAAAAAAAAAAAAAAAAAAAAAAAAAAAAAAAAAAAAAAAAAAAAAAAAAAAAAAAAAAAAAAAAAAAAAAAAAAAAAAAAAAAAAAAAAAAAAAAAAAAAAAAAAAAAAAAAAAAAAAAAAAAAAAAAAAAAAAAAAAAAAAA\"\n",
    "prefix = \"AAAAAGAAAAAACCCCCCCCCCCCCCCCCC\"\n",
    "for seq in fa:\n",
    "    name, seq = seq.name, seq.seq\n",
    "    seq = seq\n",
    "    signal = signalify_rna(rna_kmers, seq)\n",
    "    with open(RNAR9_SQUIGGLE_OUTDIR / f\"{name}.npy\", \"wb\") as fh:\n",
    "        np.save(fh, signal, allow_pickle=False)"
   ]
  },
  {
   "cell_type": "markdown",
   "id": "9df7bcbc-98b0-49e1-990b-99ab5ecdb545",
   "metadata": {},
   "source": [
    "### Basecall RNA"
   ]
  },
  {
   "cell_type": "code",
   "execution_count": 63,
   "id": "bd33931c-99de-4997-b8e7-065eabdee78e",
   "metadata": {},
   "outputs": [
    {
     "name": "stdout",
     "output_type": "stream",
     "text": [
      "nm 52\n",
      "0.8298755186721991\n",
      "nm 67\n",
      "0.853185595567867\n",
      "nm 96\n",
      "0.8211009174311926\n",
      "nm 101\n",
      "0.8211920529801324\n",
      "nm 102\n",
      "0.8504672897196262\n",
      "nm 110\n",
      "0.8486394557823129\n",
      "nm 133\n",
      "0.8595166163141994\n",
      "nm 171\n",
      "0.8100558659217877\n",
      "nm 174\n",
      "0.8054054054054054\n",
      "nm 172\n",
      "0.8299748110831234\n",
      "nm 193\n",
      "0.8170731707317074\n",
      "nm 201\n",
      "0.8032564450474898\n",
      "nm 238\n",
      "0.7806122448979592\n",
      "nm 227\n",
      "0.8284600389863548\n",
      "nm 279\n",
      "0.7941176470588236\n",
      "nm 234\n",
      "0.8287037037037037\n",
      "nm 277\n",
      "0.8137510879025239\n",
      "nm 313\n",
      "0.8113821138211382\n",
      "nm 307\n",
      "0.8196850393700787\n",
      "nm 242\n",
      "0.8555219364599093\n",
      "nm 280\n",
      "0.842680262199563\n",
      "nm 325\n",
      "0.8229461756373938\n",
      "nm 355\n",
      "0.7987804878048781\n",
      "nm 379\n",
      "0.8034906270200388\n",
      "nm 341\n",
      "0.8243073047858942\n",
      "nm 374\n",
      "0.8232731798382078\n",
      "nm 418\n",
      "0.8069007263922519\n",
      "nm 414\n",
      "0.8306650246305418\n",
      "nm 440\n",
      "0.8167539267015707\n",
      "nm 436\n",
      "0.8252585737615677\n",
      "nm 354\n",
      "0.8415032679738562\n",
      "nm 479\n",
      "0.8092573753814852\n",
      "nm 410\n",
      "0.8287179487179487\n",
      "nm 397\n",
      "0.8211722488038278\n",
      "nm 493\n",
      "0.8215686274509804\n",
      "nm 555\n",
      "0.7903763696998571\n",
      "nm 547\n",
      "0.7989080982711556\n",
      "nm 531\n",
      "0.8087649402390438\n",
      "nm 617\n",
      "0.7913082842915347\n",
      "nm 542\n",
      "0.8156996587030717\n",
      "nm 549\n",
      "0.8198354265915981\n",
      "nm 541\n",
      "0.8251748251748252\n",
      "nm 540\n",
      "0.8313883299798792\n",
      "nm 602\n",
      "0.8149745197961584\n"
     ]
    }
   ],
   "source": [
    "rnar9_identities = []\n",
    "with start_guppy_server_and_client(\n",
    "    BIN_PATH,\n",
    "    \"rna_r9.4.1_70bps_fast_prom.cfg\",\n",
    "    GUPPY_ADDRESS,\n",
    "    [\"--device\", \"cuda:all\"],\n",
    ") as client:\n",
    "    fa = Fasta(str(TEST_FASTA.resolve()))\n",
    "    reads_sent, reads_recv = 0, 0\n",
    "\n",
    "    generated_squiggle_arrs = RNAR9_SQUIGGLE_OUTDIR.rglob(\"*.npy\")\n",
    "    for signal_in in generated_squiggle_arrs:\n",
    "        # remove any non ACGT and replace with A\n",
    "        read_id = signal_in.stem.partition(\".\")[0]\n",
    "        signal = np.load(signal_in)\n",
    "        read = {\"read_id\": read_id, \"raw_data\": signal, \"sample_rate\": 3000.0}\n",
    "        success_pass = client.pass_read(read, pack)\n",
    "        reads_sent += 1\n",
    "\n",
    "        t.sleep(0.1)\n",
    "    t.sleep(20)\n",
    "    ress = []\n",
    "    while reads_recv < reads_sent:\n",
    "        res = client.get_completed_reads()\n",
    "        if not res:\n",
    "            print(reads_recv, reads_sent)\n",
    "            t.sleep(3)\n",
    "            continue\n",
    "        for res_batch in res:\n",
    "            for r in res_batch:\n",
    "                ress.append(r)\n",
    "                reads_recv += 1\n",
    "    for r in sorted(ress, key=lambda x: len(x[\"datasets\"].get(\"sequence\", \"\"))):\n",
    "        read_id = r[\"metadata\"][\"read_id\"]\n",
    "        reference_fasta = fa[read_id]\n",
    "        # print(reference_fasta)\n",
    "        aligner = mp.Aligner(seq=str(reference_fasta), preset=\"map-ont\")\n",
    "        read_number = r[\"metadata\"][\"read_id\"].rsplit(\"_\", 3)[-3]\n",
    "        sequence = r[\"datasets\"].get(\"sequence\", \"\").replace(\"U\", \"T\")\n",
    "        query_len = len(sequence)\n",
    "        # print(sequence)\n",
    "        als = aligner.map(sequence)\n",
    "\n",
    "        for al in als:\n",
    "            rnar9_identities.append((len(reference_fasta), gap_compressed_identity(al)))"
   ]
  },
  {
   "cell_type": "markdown",
   "id": "734d9e59-1a0c-4fe5-9104-e72755f6b351",
   "metadata": {},
   "source": [
    "## Plot identities"
   ]
  },
  {
   "cell_type": "code",
   "execution_count": 80,
   "id": "8d7efafd-a6e0-4c0e-b283-75d7a926b9fa",
   "metadata": {},
   "outputs": [
    {
     "data": {
      "image/png": "[encoded data removed]",
      "text/plain": [
       "<Figure size 2400x1500 with 3 Axes>"
      ]
     },
     "metadata": {},
     "output_type": "display_data"
    }
   ],
   "source": [
    "fig, (ax1, ax2, ax3) = plt.subplots(nrows=3, figsize=(8,5), sharex=True, sharey=True)\n",
    "ax = sns.scatterplot(\n",
    "    x=list(map(lambda x: x[0], r9_identities)),\n",
    "    y=list(map(lambda x: x[1], r9_identities)),\n",
    "    s=3.5,\n",
    "    ax=ax1,\n",
    ")\n",
    "ax.tick_params(labelsize=10)\n",
    "ax.set(ylabel=\"\")\n",
    "ax = sns.scatterplot(\n",
    "    x=list(map(lambda x: x[0], r10_identities)),\n",
    "    y=list(map(lambda x: x[1], r10_identities)),\n",
    "    s=3.5,\n",
    "    ax=ax2,\n",
    ")\n",
    "ax.tick_params(labelsize=10)\n",
    "\n",
    "ax.set(ylabel=\"\")\n",
    "ax = sns.scatterplot(\n",
    "    x=list(map(lambda x: x[0], rnar9_identities)),\n",
    "    y=list(map(lambda x: x[1], rnar9_identities)),\n",
    "    s=3.5,\n",
    "    ax=ax3,\n",
    ")\n",
    "ax.set(ylabel=\"\")\n",
    "ax.tick_params(labelsize=10)\n",
    "\n",
    "# ax1.set_title(\"Simulated read identities\")\n",
    "ax3.set_xlabel(\"Input read length\", fontsize=12)\n",
    "ax1.set_ylabel(\"R9/DNA\\nIdentity\", fontsize=12)\n",
    "ax2.set_ylabel(\"R10/DNA\\nIdentity\", fontsize=12)\n",
    "ax3.set_ylabel(\"RAN02\\nIdentity\", fontsize=12)\n",
    "fig.savefig(\"read_identities.svg\", dpi=300, bbox_inches=\"tight\")"
   ]
  },
  {
   "cell_type": "code",
   "execution_count": null,
   "id": "815cf663-2ed2-4ffe-a3b9-7f2444d9d88e",
   "metadata": {},
   "outputs": [],
   "source": []
  }
 ],
 "metadata": {
  "kernelspec": {
   "display_name": "Python 3 (ipykernel)",
   "language": "python",
   "name": "python3"
  },
  "language_info": {
   "codemirror_mode": {
    "name": "ipython",
    "version": 3
   },
   "file_extension": ".py",
   "mimetype": "text/x-python",
   "name": "python",
   "nbconvert_exporter": "python",
   "pygments_lexer": "ipython3",
   "version": "3.10.4"
  }
 },
 "nbformat": 4,
 "nbformat_minor": 5
}
